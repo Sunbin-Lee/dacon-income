{
 "cells": [
  {
   "cell_type": "markdown",
   "metadata": {},
   "source": [
    "### duplicated 항 제거"
   ]
  },
  {
   "cell_type": "code",
   "execution_count": 624,
   "metadata": {},
   "outputs": [],
   "source": [
    "name = 'drop_duplicated_noise_2'"
   ]
  },
  {
   "cell_type": "code",
   "execution_count": 625,
   "metadata": {},
   "outputs": [],
   "source": [
    "import pandas as pd\n",
    "import numpy as np\n",
    "import random\n",
    "import os"
   ]
  },
  {
   "cell_type": "code",
   "execution_count": 626,
   "metadata": {},
   "outputs": [],
   "source": [
    "from sklearn.preprocessing import LabelEncoder, OneHotEncoder, StandardScaler\n",
    "from sklearn.model_selection import train_test_split, KFold, StratifiedKFold\n",
    "from sklearn.ensemble import GradientBoostingRegressor\n",
    "from sklearn.metrics import mean_squared_error"
   ]
  },
  {
   "cell_type": "code",
   "execution_count": 627,
   "metadata": {},
   "outputs": [],
   "source": [
    "import matplotlib.pyplot as plt\n",
    "import seaborn as sns"
   ]
  },
  {
   "cell_type": "code",
   "execution_count": 628,
   "metadata": {},
   "outputs": [],
   "source": [
    "def seed_everything(seed):\n",
    "    random.seed(seed)\n",
    "    os.environ['PYTHONHASHSEED'] = str(seed)\n",
    "    np.random.seed(seed)\n",
    "\n",
    "seed_everything(42) # Seed 고정"
   ]
  },
  {
   "cell_type": "code",
   "execution_count": 629,
   "metadata": {},
   "outputs": [],
   "source": [
    "# 'Industry_Status',\n",
    "# 'Hispanic_Origin',\n",
    "# 'Household_Status',\n",
    "# 'Birth_Country',\n",
    "# 'Birth_Country (Father)', \n",
    "# 'Birth_Country (Mother)'"
   ]
  },
  {
   "cell_type": "code",
   "execution_count": 630,
   "metadata": {},
   "outputs": [],
   "source": [
    "train = pd.read_csv('data/train.csv')\n",
    "test = pd.read_csv('data/test.csv')"
   ]
  },
  {
   "cell_type": "code",
   "execution_count": 631,
   "metadata": {},
   "outputs": [
    {
     "data": {
      "text/plain": [
       "Index(['ID', 'Age', 'Gender', 'Education_Status', 'Employment_Status',\n",
       "       'Working_Week (Yearly)', 'Industry_Status', 'Occupation_Status', 'Race',\n",
       "       'Hispanic_Origin', 'Martial_Status', 'Household_Status',\n",
       "       'Household_Summary', 'Citizenship', 'Birth_Country',\n",
       "       'Birth_Country (Father)', 'Birth_Country (Mother)', 'Tax_Status',\n",
       "       'Gains', 'Losses', 'Dividends', 'Income_Status', 'Income'],\n",
       "      dtype='object')"
      ]
     },
     "execution_count": 631,
     "metadata": {},
     "output_type": "execute_result"
    }
   ],
   "source": [
    "train.columns"
   ]
  },
  {
   "cell_type": "code",
   "execution_count": 632,
   "metadata": {},
   "outputs": [],
   "source": [
    "features = ['Age', 'Gender', 'Education_Status', 'Employment_Status',\n",
    "       'Working_Week (Yearly)', 'Industry_Status', 'Occupation_Status', 'Race',\n",
    "       'Hispanic_Origin', 'Martial_Status', 'Household_Status',\n",
    "       'Household_Summary', 'Citizenship', 'Birth_Country',\n",
    "       'Birth_Country (Father)', 'Birth_Country (Mother)', 'Tax_Status',\n",
    "       'Gains', 'Losses', 'Dividends', 'Income_Status',]"
   ]
  },
  {
   "cell_type": "code",
   "execution_count": 633,
   "metadata": {},
   "outputs": [
    {
     "data": {
      "text/plain": [
       "18320"
      ]
     },
     "execution_count": 633,
     "metadata": {},
     "output_type": "execute_result"
    }
   ],
   "source": [
    "len(train[features].drop_duplicates())"
   ]
  },
  {
   "cell_type": "code",
   "execution_count": 634,
   "metadata": {},
   "outputs": [],
   "source": [
    "dup = train[train[features].duplicated()]"
   ]
  },
  {
   "cell_type": "code",
   "execution_count": 635,
   "metadata": {},
   "outputs": [
    {
     "data": {
      "text/plain": [
       "43"
      ]
     },
     "execution_count": 635,
     "metadata": {},
     "output_type": "execute_result"
    },
    {
     "data": {
      "image/png": "[encoded data removed]",
      "text/plain": [
       "<Figure size 640x480 with 1 Axes>"
      ]
     },
     "metadata": {},
     "output_type": "display_data"
    }
   ],
   "source": [
    "plt.hist(dup.loc[dup['Income']>1000]['Income'])\n",
    "len(dup.loc[dup['Income']>1000]['Income'])"
   ]
  },
  {
   "cell_type": "code",
   "execution_count": 636,
   "metadata": {},
   "outputs": [
    {
     "data": {
      "text/html": [
       "<div>\n",
       "<style scoped>\n",
       "    .dataframe tbody tr th:only-of-type {\n",
       "        vertical-align: middle;\n",
       "    }\n",
       "\n",
       "    .dataframe tbody tr th {\n",
       "        vertical-align: top;\n",
       "    }\n",
       "\n",
       "    .dataframe thead th {\n",
       "        text-align: right;\n",
       "    }\n",
       "</style>\n",
       "<table border=\"1\" class=\"dataframe\">\n",
       "  <thead>\n",
       "    <tr style=\"text-align: right;\">\n",
       "      <th></th>\n",
       "      <th>ID</th>\n",
       "      <th>Age</th>\n",
       "      <th>Gender</th>\n",
       "      <th>Education_Status</th>\n",
       "      <th>Employment_Status</th>\n",
       "      <th>Working_Week (Yearly)</th>\n",
       "      <th>Industry_Status</th>\n",
       "      <th>Occupation_Status</th>\n",
       "      <th>Race</th>\n",
       "      <th>Hispanic_Origin</th>\n",
       "      <th>...</th>\n",
       "      <th>Citizenship</th>\n",
       "      <th>Birth_Country</th>\n",
       "      <th>Birth_Country (Father)</th>\n",
       "      <th>Birth_Country (Mother)</th>\n",
       "      <th>Tax_Status</th>\n",
       "      <th>Gains</th>\n",
       "      <th>Losses</th>\n",
       "      <th>Dividends</th>\n",
       "      <th>Income_Status</th>\n",
       "      <th>Income</th>\n",
       "    </tr>\n",
       "  </thead>\n",
       "  <tbody>\n",
       "    <tr>\n",
       "      <th>325</th>\n",
       "      <td>TRAIN_00325</td>\n",
       "      <td>2</td>\n",
       "      <td>F</td>\n",
       "      <td>Children</td>\n",
       "      <td>Children or Armed Forces</td>\n",
       "      <td>0</td>\n",
       "      <td>Not in universe or children</td>\n",
       "      <td>Unknown</td>\n",
       "      <td>White</td>\n",
       "      <td>All other</td>\n",
       "      <td>...</td>\n",
       "      <td>Native</td>\n",
       "      <td>US</td>\n",
       "      <td>US</td>\n",
       "      <td>US</td>\n",
       "      <td>Nonfiler</td>\n",
       "      <td>0</td>\n",
       "      <td>0</td>\n",
       "      <td>0</td>\n",
       "      <td>Under Median</td>\n",
       "      <td>0</td>\n",
       "    </tr>\n",
       "    <tr>\n",
       "      <th>329</th>\n",
       "      <td>TRAIN_00329</td>\n",
       "      <td>6</td>\n",
       "      <td>M</td>\n",
       "      <td>Children</td>\n",
       "      <td>Children or Armed Forces</td>\n",
       "      <td>0</td>\n",
       "      <td>Not in universe or children</td>\n",
       "      <td>Unknown</td>\n",
       "      <td>Black</td>\n",
       "      <td>All other</td>\n",
       "      <td>...</td>\n",
       "      <td>Native</td>\n",
       "      <td>US</td>\n",
       "      <td>US</td>\n",
       "      <td>US</td>\n",
       "      <td>Nonfiler</td>\n",
       "      <td>0</td>\n",
       "      <td>0</td>\n",
       "      <td>0</td>\n",
       "      <td>Unknown</td>\n",
       "      <td>0</td>\n",
       "    </tr>\n",
       "    <tr>\n",
       "      <th>360</th>\n",
       "      <td>TRAIN_00360</td>\n",
       "      <td>8</td>\n",
       "      <td>F</td>\n",
       "      <td>Children</td>\n",
       "      <td>Children or Armed Forces</td>\n",
       "      <td>0</td>\n",
       "      <td>Not in universe or children</td>\n",
       "      <td>Unknown</td>\n",
       "      <td>White</td>\n",
       "      <td>All other</td>\n",
       "      <td>...</td>\n",
       "      <td>Native</td>\n",
       "      <td>US</td>\n",
       "      <td>US</td>\n",
       "      <td>US</td>\n",
       "      <td>Nonfiler</td>\n",
       "      <td>0</td>\n",
       "      <td>0</td>\n",
       "      <td>0</td>\n",
       "      <td>Under Median</td>\n",
       "      <td>0</td>\n",
       "    </tr>\n",
       "    <tr>\n",
       "      <th>391</th>\n",
       "      <td>TRAIN_00391</td>\n",
       "      <td>7</td>\n",
       "      <td>F</td>\n",
       "      <td>Children</td>\n",
       "      <td>Children or Armed Forces</td>\n",
       "      <td>0</td>\n",
       "      <td>Not in universe or children</td>\n",
       "      <td>Unknown</td>\n",
       "      <td>White</td>\n",
       "      <td>All other</td>\n",
       "      <td>...</td>\n",
       "      <td>Native</td>\n",
       "      <td>US</td>\n",
       "      <td>US</td>\n",
       "      <td>US</td>\n",
       "      <td>Nonfiler</td>\n",
       "      <td>0</td>\n",
       "      <td>0</td>\n",
       "      <td>0</td>\n",
       "      <td>Under Median</td>\n",
       "      <td>0</td>\n",
       "    </tr>\n",
       "    <tr>\n",
       "      <th>417</th>\n",
       "      <td>TRAIN_00417</td>\n",
       "      <td>11</td>\n",
       "      <td>M</td>\n",
       "      <td>Children</td>\n",
       "      <td>Children or Armed Forces</td>\n",
       "      <td>0</td>\n",
       "      <td>Not in universe or children</td>\n",
       "      <td>Unknown</td>\n",
       "      <td>White</td>\n",
       "      <td>All other</td>\n",
       "      <td>...</td>\n",
       "      <td>Native</td>\n",
       "      <td>US</td>\n",
       "      <td>US</td>\n",
       "      <td>US</td>\n",
       "      <td>Nonfiler</td>\n",
       "      <td>0</td>\n",
       "      <td>0</td>\n",
       "      <td>0</td>\n",
       "      <td>Under Median</td>\n",
       "      <td>0</td>\n",
       "    </tr>\n",
       "    <tr>\n",
       "      <th>...</th>\n",
       "      <td>...</td>\n",
       "      <td>...</td>\n",
       "      <td>...</td>\n",
       "      <td>...</td>\n",
       "      <td>...</td>\n",
       "      <td>...</td>\n",
       "      <td>...</td>\n",
       "      <td>...</td>\n",
       "      <td>...</td>\n",
       "      <td>...</td>\n",
       "      <td>...</td>\n",
       "      <td>...</td>\n",
       "      <td>...</td>\n",
       "      <td>...</td>\n",
       "      <td>...</td>\n",
       "      <td>...</td>\n",
       "      <td>...</td>\n",
       "      <td>...</td>\n",
       "      <td>...</td>\n",
       "      <td>...</td>\n",
       "      <td>...</td>\n",
       "    </tr>\n",
       "    <tr>\n",
       "      <th>19956</th>\n",
       "      <td>TRAIN_19956</td>\n",
       "      <td>6</td>\n",
       "      <td>F</td>\n",
       "      <td>Children</td>\n",
       "      <td>Children or Armed Forces</td>\n",
       "      <td>0</td>\n",
       "      <td>Not in universe or children</td>\n",
       "      <td>Unknown</td>\n",
       "      <td>Black</td>\n",
       "      <td>All other</td>\n",
       "      <td>...</td>\n",
       "      <td>Native</td>\n",
       "      <td>US</td>\n",
       "      <td>US</td>\n",
       "      <td>US</td>\n",
       "      <td>Nonfiler</td>\n",
       "      <td>0</td>\n",
       "      <td>0</td>\n",
       "      <td>0</td>\n",
       "      <td>Under Median</td>\n",
       "      <td>0</td>\n",
       "    </tr>\n",
       "    <tr>\n",
       "      <th>19961</th>\n",
       "      <td>TRAIN_19961</td>\n",
       "      <td>12</td>\n",
       "      <td>M</td>\n",
       "      <td>Children</td>\n",
       "      <td>Children or Armed Forces</td>\n",
       "      <td>0</td>\n",
       "      <td>Not in universe or children</td>\n",
       "      <td>Unknown</td>\n",
       "      <td>White</td>\n",
       "      <td>All other</td>\n",
       "      <td>...</td>\n",
       "      <td>Native</td>\n",
       "      <td>US</td>\n",
       "      <td>US</td>\n",
       "      <td>US</td>\n",
       "      <td>Nonfiler</td>\n",
       "      <td>0</td>\n",
       "      <td>0</td>\n",
       "      <td>0</td>\n",
       "      <td>Unknown</td>\n",
       "      <td>0</td>\n",
       "    </tr>\n",
       "    <tr>\n",
       "      <th>19968</th>\n",
       "      <td>TRAIN_19968</td>\n",
       "      <td>14</td>\n",
       "      <td>F</td>\n",
       "      <td>Children</td>\n",
       "      <td>Children or Armed Forces</td>\n",
       "      <td>0</td>\n",
       "      <td>Not in universe or children</td>\n",
       "      <td>Unknown</td>\n",
       "      <td>Black</td>\n",
       "      <td>All other</td>\n",
       "      <td>...</td>\n",
       "      <td>Native</td>\n",
       "      <td>US</td>\n",
       "      <td>US</td>\n",
       "      <td>US</td>\n",
       "      <td>Nonfiler</td>\n",
       "      <td>0</td>\n",
       "      <td>0</td>\n",
       "      <td>0</td>\n",
       "      <td>Under Median</td>\n",
       "      <td>0</td>\n",
       "    </tr>\n",
       "    <tr>\n",
       "      <th>19989</th>\n",
       "      <td>TRAIN_19989</td>\n",
       "      <td>14</td>\n",
       "      <td>M</td>\n",
       "      <td>Children</td>\n",
       "      <td>Children or Armed Forces</td>\n",
       "      <td>0</td>\n",
       "      <td>Not in universe or children</td>\n",
       "      <td>Unknown</td>\n",
       "      <td>White</td>\n",
       "      <td>All other</td>\n",
       "      <td>...</td>\n",
       "      <td>Native</td>\n",
       "      <td>US</td>\n",
       "      <td>US</td>\n",
       "      <td>US</td>\n",
       "      <td>Nonfiler</td>\n",
       "      <td>0</td>\n",
       "      <td>0</td>\n",
       "      <td>0</td>\n",
       "      <td>Unknown</td>\n",
       "      <td>0</td>\n",
       "    </tr>\n",
       "    <tr>\n",
       "      <th>19994</th>\n",
       "      <td>TRAIN_19994</td>\n",
       "      <td>17</td>\n",
       "      <td>F</td>\n",
       "      <td>High Sophomore</td>\n",
       "      <td>Not Working</td>\n",
       "      <td>0</td>\n",
       "      <td>Not in universe or children</td>\n",
       "      <td>Unknown</td>\n",
       "      <td>White</td>\n",
       "      <td>All other</td>\n",
       "      <td>...</td>\n",
       "      <td>Native</td>\n",
       "      <td>US</td>\n",
       "      <td>US</td>\n",
       "      <td>US</td>\n",
       "      <td>Nonfiler</td>\n",
       "      <td>0</td>\n",
       "      <td>0</td>\n",
       "      <td>0</td>\n",
       "      <td>Under Median</td>\n",
       "      <td>0</td>\n",
       "    </tr>\n",
       "  </tbody>\n",
       "</table>\n",
       "<p>1680 rows × 23 columns</p>\n",
       "</div>"
      ],
      "text/plain": [
       "                ID  Age Gender Education_Status         Employment_Status  \\\n",
       "325    TRAIN_00325    2      F         Children  Children or Armed Forces   \n",
       "329    TRAIN_00329    6      M         Children  Children or Armed Forces   \n",
       "360    TRAIN_00360    8      F         Children  Children or Armed Forces   \n",
       "391    TRAIN_00391    7      F         Children  Children or Armed Forces   \n",
       "417    TRAIN_00417   11      M         Children  Children or Armed Forces   \n",
       "...            ...  ...    ...              ...                       ...   \n",
       "19956  TRAIN_19956    6      F         Children  Children or Armed Forces   \n",
       "19961  TRAIN_19961   12      M         Children  Children or Armed Forces   \n",
       "19968  TRAIN_19968   14      F         Children  Children or Armed Forces   \n",
       "19989  TRAIN_19989   14      M         Children  Children or Armed Forces   \n",
       "19994  TRAIN_19994   17      F   High Sophomore               Not Working   \n",
       "\n",
       "       Working_Week (Yearly)              Industry_Status Occupation_Status  \\\n",
       "325                        0  Not in universe or children           Unknown   \n",
       "329                        0  Not in universe or children           Unknown   \n",
       "360                        0  Not in universe or children           Unknown   \n",
       "391                        0  Not in universe or children           Unknown   \n",
       "417                        0  Not in universe or children           Unknown   \n",
       "...                      ...                          ...               ...   \n",
       "19956                      0  Not in universe or children           Unknown   \n",
       "19961                      0  Not in universe or children           Unknown   \n",
       "19968                      0  Not in universe or children           Unknown   \n",
       "19989                      0  Not in universe or children           Unknown   \n",
       "19994                      0  Not in universe or children           Unknown   \n",
       "\n",
       "        Race Hispanic_Origin  ... Citizenship Birth_Country  \\\n",
       "325    White       All other  ...      Native            US   \n",
       "329    Black       All other  ...      Native            US   \n",
       "360    White       All other  ...      Native            US   \n",
       "391    White       All other  ...      Native            US   \n",
       "417    White       All other  ...      Native            US   \n",
       "...      ...             ...  ...         ...           ...   \n",
       "19956  Black       All other  ...      Native            US   \n",
       "19961  White       All other  ...      Native            US   \n",
       "19968  Black       All other  ...      Native            US   \n",
       "19989  White       All other  ...      Native            US   \n",
       "19994  White       All other  ...      Native            US   \n",
       "\n",
       "      Birth_Country (Father) Birth_Country (Mother) Tax_Status Gains Losses  \\\n",
       "325                       US                     US   Nonfiler     0      0   \n",
       "329                       US                     US   Nonfiler     0      0   \n",
       "360                       US                     US   Nonfiler     0      0   \n",
       "391                       US                     US   Nonfiler     0      0   \n",
       "417                       US                     US   Nonfiler     0      0   \n",
       "...                      ...                    ...        ...   ...    ...   \n",
       "19956                     US                     US   Nonfiler     0      0   \n",
       "19961                     US                     US   Nonfiler     0      0   \n",
       "19968                     US                     US   Nonfiler     0      0   \n",
       "19989                     US                     US   Nonfiler     0      0   \n",
       "19994                     US                     US   Nonfiler     0      0   \n",
       "\n",
       "      Dividends  Income_Status  Income  \n",
       "325           0   Under Median       0  \n",
       "329           0        Unknown       0  \n",
       "360           0   Under Median       0  \n",
       "391           0   Under Median       0  \n",
       "417           0   Under Median       0  \n",
       "...         ...            ...     ...  \n",
       "19956         0   Under Median       0  \n",
       "19961         0        Unknown       0  \n",
       "19968         0   Under Median       0  \n",
       "19989         0        Unknown       0  \n",
       "19994         0   Under Median       0  \n",
       "\n",
       "[1680 rows x 23 columns]"
      ]
     },
     "execution_count": 636,
     "metadata": {},
     "output_type": "execute_result"
    }
   ],
   "source": [
    "dup"
   ]
  },
  {
   "cell_type": "markdown",
   "metadata": {},
   "source": [
    "### drop duplicated"
   ]
  },
  {
   "cell_type": "code",
   "execution_count": 637,
   "metadata": {},
   "outputs": [],
   "source": [
    "train.drop_duplicates(features, inplace=True)\n",
    "train.reset_index(drop=True, inplace=True)"
   ]
  },
  {
   "cell_type": "code",
   "execution_count": 638,
   "metadata": {},
   "outputs": [
    {
     "data": {
      "text/plain": [
       "18320"
      ]
     },
     "execution_count": 638,
     "metadata": {},
     "output_type": "execute_result"
    }
   ],
   "source": [
    "len(train)"
   ]
  },
  {
   "cell_type": "markdown",
   "metadata": {},
   "source": [
    "#### 중복행 1680"
   ]
  },
  {
   "cell_type": "markdown",
   "metadata": {},
   "source": [
    "### modify age"
   ]
  },
  {
   "cell_type": "code",
   "execution_count": 639,
   "metadata": {},
   "outputs": [],
   "source": [
    "# def modify_age(age):\n",
    "#     if age < 15:\n",
    "#         return 0\n",
    "#     elif age < 25:\n",
    "#         return 1\n",
    "#     elif age < 40:\n",
    "#         return 2\n",
    "#     elif age < 50:\n",
    "#         return 3\n",
    "#     elif age < 65:\n",
    "#         return 4\n",
    "#     elif age < 80:\n",
    "#         return 5\n",
    "#     else:\n",
    "#         return 6"
   ]
  },
  {
   "cell_type": "code",
   "execution_count": 640,
   "metadata": {},
   "outputs": [],
   "source": [
    "# train['Age'] = train['Age'].apply(modify_age)\n",
    "# test['Age'] = test['Age'].apply(modify_age)"
   ]
  },
  {
   "cell_type": "code",
   "execution_count": 641,
   "metadata": {},
   "outputs": [],
   "source": [
    "# plt.figure(figsize=(12, 6))\n",
    "# plt.subplot(1, 2, 1)\n",
    "# sns.histplot(x='Age', data=train)\n",
    "\n",
    "# plt.subplot(1, 2, 2)\n",
    "# sns.barplot(x='Age', y='Income', data=train)\n",
    "# plt.show()"
   ]
  },
  {
   "cell_type": "markdown",
   "metadata": {},
   "source": [
    "### modify education"
   ]
  },
  {
   "cell_type": "code",
   "execution_count": 642,
   "metadata": {},
   "outputs": [],
   "source": [
    "def modify_education(education):\n",
    "    if education in ['Children', 'Kindergarten', 'Elementary (1-4)', 'Elementary (5-6)', \n",
    "                     'Middle (7-8)', 'High Freshman', 'High Sophomore', \n",
    "                     'High Junior', 'High Senior']:\n",
    "        return 'dropout'\n",
    "    elif education in ['College', 'Associates degree (Academic)', 'Associates degree (Vocational)']:\n",
    "        return 'CommunityCollege'\n",
    "    elif education in ['Professional degree', 'Masters degree']:\n",
    "        return 'Masters degree'\n",
    "    else:\n",
    "        return education"
   ]
  },
  {
   "cell_type": "code",
   "execution_count": 643,
   "metadata": {},
   "outputs": [],
   "source": [
    "train['Education'] = train['Education_Status']\n",
    "train['Education'] = train['Education'].apply(modify_education)"
   ]
  },
  {
   "cell_type": "code",
   "execution_count": 644,
   "metadata": {},
   "outputs": [],
   "source": [
    "test['Education'] = test['Education_Status']\n",
    "test['Education'] = test['Education'].apply(modify_education)"
   ]
  },
  {
   "cell_type": "markdown",
   "metadata": {},
   "source": [
    "### household/tax"
   ]
  },
  {
   "cell_type": "markdown",
   "metadata": {},
   "source": [
    "### modify household"
   ]
  },
  {
   "cell_type": "code",
   "execution_count": 645,
   "metadata": {},
   "outputs": [
    {
     "data": {
      "text/plain": [
       "array(['Child 18 or older', 'Child under 18 ever married',\n",
       "       'Child under 18 never married',\n",
       "       'Group Quarters- Secondary individual', 'Householder',\n",
       "       'Nonrelative of householder', 'Other relative of householder',\n",
       "       'Spouse of householder'], dtype=object)"
      ]
     },
     "execution_count": 645,
     "metadata": {},
     "output_type": "execute_result"
    }
   ],
   "source": [
    "np.unique(train['Household_Summary'])"
   ]
  },
  {
   "cell_type": "code",
   "execution_count": 646,
   "metadata": {},
   "outputs": [],
   "source": [
    "def modify_household(household):\n",
    "    if household == 'Householder':\n",
    "        return 'Householder'\n",
    "    elif household in ['Child 18 or older', 'Child under 18 ever married', 'Child under 18 never married', \n",
    "                     'Other relative of householder', 'Spouse of householder']:\n",
    "        return 'dependents'\n",
    "    else:\n",
    "        return 'others'"
   ]
  },
  {
   "cell_type": "code",
   "execution_count": 647,
   "metadata": {},
   "outputs": [],
   "source": [
    "train['Household_Summary'] = train['Household_Summary'].apply(modify_household)\n",
    "test['Household_Summary'] = test['Household_Summary'].apply(modify_household)"
   ]
  },
  {
   "cell_type": "markdown",
   "metadata": {},
   "source": [
    "### modify tax status"
   ]
  },
  {
   "cell_type": "code",
   "execution_count": 648,
   "metadata": {},
   "outputs": [],
   "source": [
    "def modify_tax(tax):\n",
    "    if tax.startswith('Married'):\n",
    "        return 'MFJ'\n",
    "    else:\n",
    "        return tax"
   ]
  },
  {
   "cell_type": "code",
   "execution_count": 649,
   "metadata": {},
   "outputs": [],
   "source": [
    "train['Tax_Status'] = train['Tax_Status'].apply(modify_tax)\n",
    "test['Tax_Status'] = test['Tax_Status'].apply(modify_tax)"
   ]
  },
  {
   "cell_type": "code",
   "execution_count": 650,
   "metadata": {},
   "outputs": [
    {
     "data": {
      "text/plain": [
       "<Axes: xlabel='Count', ylabel='Tax_Status'>"
      ]
     },
     "execution_count": 650,
     "metadata": {},
     "output_type": "execute_result"
    },
    {
     "data": {
      "image/png": "[encoded data removed]",
      "text/plain": [
       "<Figure size 640x480 with 1 Axes>"
      ]
     },
     "metadata": {},
     "output_type": "display_data"
    }
   ],
   "source": [
    "sns.histplot(y='Tax_Status', data=train)"
   ]
  },
  {
   "cell_type": "markdown",
   "metadata": {},
   "source": [
    "### modify income status"
   ]
  },
  {
   "cell_type": "code",
   "execution_count": 651,
   "metadata": {},
   "outputs": [],
   "source": [
    "def modify_income_status(status):\n",
    "    if status in ['Unknown', 'Under Median']:\n",
    "        return 'Under Median'\n",
    "    else:\n",
    "        return status"
   ]
  },
  {
   "cell_type": "code",
   "execution_count": 652,
   "metadata": {},
   "outputs": [],
   "source": [
    "train['Income_Status'] = train['Income_Status'].apply(modify_income_status)\n",
    "test['Income_Status'] = test['Income_Status'].apply(modify_income_status)"
   ]
  },
  {
   "cell_type": "code",
   "execution_count": 653,
   "metadata": {},
   "outputs": [
    {
     "data": {
      "text/html": [
       "<div>\n",
       "<style scoped>\n",
       "    .dataframe tbody tr th:only-of-type {\n",
       "        vertical-align: middle;\n",
       "    }\n",
       "\n",
       "    .dataframe tbody tr th {\n",
       "        vertical-align: top;\n",
       "    }\n",
       "\n",
       "    .dataframe thead th {\n",
       "        text-align: right;\n",
       "    }\n",
       "</style>\n",
       "<table border=\"1\" class=\"dataframe\">\n",
       "  <thead>\n",
       "    <tr style=\"text-align: right;\">\n",
       "      <th></th>\n",
       "      <th>ID</th>\n",
       "      <th>Age</th>\n",
       "      <th>Gender</th>\n",
       "      <th>Education_Status</th>\n",
       "      <th>Employment_Status</th>\n",
       "      <th>Working_Week (Yearly)</th>\n",
       "      <th>Industry_Status</th>\n",
       "      <th>Occupation_Status</th>\n",
       "      <th>Race</th>\n",
       "      <th>Hispanic_Origin</th>\n",
       "      <th>...</th>\n",
       "      <th>Birth_Country</th>\n",
       "      <th>Birth_Country (Father)</th>\n",
       "      <th>Birth_Country (Mother)</th>\n",
       "      <th>Tax_Status</th>\n",
       "      <th>Gains</th>\n",
       "      <th>Losses</th>\n",
       "      <th>Dividends</th>\n",
       "      <th>Income_Status</th>\n",
       "      <th>Income</th>\n",
       "      <th>Education</th>\n",
       "    </tr>\n",
       "  </thead>\n",
       "  <tbody>\n",
       "    <tr>\n",
       "      <th>0</th>\n",
       "      <td>TRAIN_00000</td>\n",
       "      <td>63</td>\n",
       "      <td>M</td>\n",
       "      <td>Middle (7-8)</td>\n",
       "      <td>Full-Time</td>\n",
       "      <td>4</td>\n",
       "      <td>Social Services</td>\n",
       "      <td>Services</td>\n",
       "      <td>White</td>\n",
       "      <td>All other</td>\n",
       "      <td>...</td>\n",
       "      <td>US</td>\n",
       "      <td>US</td>\n",
       "      <td>US</td>\n",
       "      <td>Nonfiler</td>\n",
       "      <td>0</td>\n",
       "      <td>0</td>\n",
       "      <td>0</td>\n",
       "      <td>Under Median</td>\n",
       "      <td>425</td>\n",
       "      <td>dropout</td>\n",
       "    </tr>\n",
       "    <tr>\n",
       "      <th>1</th>\n",
       "      <td>TRAIN_00001</td>\n",
       "      <td>37</td>\n",
       "      <td>M</td>\n",
       "      <td>Associates degree (Vocational)</td>\n",
       "      <td>Full-Time</td>\n",
       "      <td>52</td>\n",
       "      <td>Entertainment</td>\n",
       "      <td>Services</td>\n",
       "      <td>White</td>\n",
       "      <td>All other</td>\n",
       "      <td>...</td>\n",
       "      <td>US</td>\n",
       "      <td>US</td>\n",
       "      <td>US</td>\n",
       "      <td>Single</td>\n",
       "      <td>0</td>\n",
       "      <td>0</td>\n",
       "      <td>0</td>\n",
       "      <td>Under Median</td>\n",
       "      <td>0</td>\n",
       "      <td>CommunityCollege</td>\n",
       "    </tr>\n",
       "    <tr>\n",
       "      <th>2</th>\n",
       "      <td>TRAIN_00002</td>\n",
       "      <td>58</td>\n",
       "      <td>F</td>\n",
       "      <td>High graduate</td>\n",
       "      <td>Full-Time</td>\n",
       "      <td>52</td>\n",
       "      <td>Manufacturing (Non-durable)</td>\n",
       "      <td>Admin Support (include Clerical)</td>\n",
       "      <td>Black</td>\n",
       "      <td>All other</td>\n",
       "      <td>...</td>\n",
       "      <td>US</td>\n",
       "      <td>US</td>\n",
       "      <td>US</td>\n",
       "      <td>MFJ</td>\n",
       "      <td>3411</td>\n",
       "      <td>0</td>\n",
       "      <td>0</td>\n",
       "      <td>Under Median</td>\n",
       "      <td>860</td>\n",
       "      <td>High graduate</td>\n",
       "    </tr>\n",
       "    <tr>\n",
       "      <th>3</th>\n",
       "      <td>TRAIN_00003</td>\n",
       "      <td>44</td>\n",
       "      <td>M</td>\n",
       "      <td>High graduate</td>\n",
       "      <td>Full-Time</td>\n",
       "      <td>52</td>\n",
       "      <td>Retail</td>\n",
       "      <td>Technicians &amp; Support</td>\n",
       "      <td>White</td>\n",
       "      <td>All other</td>\n",
       "      <td>...</td>\n",
       "      <td>US</td>\n",
       "      <td>US</td>\n",
       "      <td>US</td>\n",
       "      <td>Single</td>\n",
       "      <td>0</td>\n",
       "      <td>0</td>\n",
       "      <td>0</td>\n",
       "      <td>Under Median</td>\n",
       "      <td>850</td>\n",
       "      <td>High graduate</td>\n",
       "    </tr>\n",
       "    <tr>\n",
       "      <th>4</th>\n",
       "      <td>TRAIN_00004</td>\n",
       "      <td>37</td>\n",
       "      <td>F</td>\n",
       "      <td>High graduate</td>\n",
       "      <td>Full-Time</td>\n",
       "      <td>52</td>\n",
       "      <td>Retail</td>\n",
       "      <td>Sales</td>\n",
       "      <td>White</td>\n",
       "      <td>All other</td>\n",
       "      <td>...</td>\n",
       "      <td>US</td>\n",
       "      <td>US</td>\n",
       "      <td>US</td>\n",
       "      <td>Head of Household (HOH)</td>\n",
       "      <td>0</td>\n",
       "      <td>0</td>\n",
       "      <td>0</td>\n",
       "      <td>Under Median</td>\n",
       "      <td>570</td>\n",
       "      <td>High graduate</td>\n",
       "    </tr>\n",
       "    <tr>\n",
       "      <th>...</th>\n",
       "      <td>...</td>\n",
       "      <td>...</td>\n",
       "      <td>...</td>\n",
       "      <td>...</td>\n",
       "      <td>...</td>\n",
       "      <td>...</td>\n",
       "      <td>...</td>\n",
       "      <td>...</td>\n",
       "      <td>...</td>\n",
       "      <td>...</td>\n",
       "      <td>...</td>\n",
       "      <td>...</td>\n",
       "      <td>...</td>\n",
       "      <td>...</td>\n",
       "      <td>...</td>\n",
       "      <td>...</td>\n",
       "      <td>...</td>\n",
       "      <td>...</td>\n",
       "      <td>...</td>\n",
       "      <td>...</td>\n",
       "      <td>...</td>\n",
       "    </tr>\n",
       "    <tr>\n",
       "      <th>18315</th>\n",
       "      <td>TRAIN_19995</td>\n",
       "      <td>33</td>\n",
       "      <td>M</td>\n",
       "      <td>High graduate</td>\n",
       "      <td>Children or Armed Forces</td>\n",
       "      <td>52</td>\n",
       "      <td>Manufacturing (Durable)</td>\n",
       "      <td>Handlers/Cleaners</td>\n",
       "      <td>White</td>\n",
       "      <td>All other</td>\n",
       "      <td>...</td>\n",
       "      <td>US</td>\n",
       "      <td>US</td>\n",
       "      <td>US</td>\n",
       "      <td>Single</td>\n",
       "      <td>0</td>\n",
       "      <td>0</td>\n",
       "      <td>0</td>\n",
       "      <td>Under Median</td>\n",
       "      <td>1300</td>\n",
       "      <td>High graduate</td>\n",
       "    </tr>\n",
       "    <tr>\n",
       "      <th>18316</th>\n",
       "      <td>TRAIN_19996</td>\n",
       "      <td>20</td>\n",
       "      <td>F</td>\n",
       "      <td>College</td>\n",
       "      <td>Full-Time</td>\n",
       "      <td>12</td>\n",
       "      <td>Education</td>\n",
       "      <td>Admin Support (include Clerical)</td>\n",
       "      <td>White</td>\n",
       "      <td>Mexican-American</td>\n",
       "      <td>...</td>\n",
       "      <td>US</td>\n",
       "      <td>Mexico</td>\n",
       "      <td>Mexico</td>\n",
       "      <td>Nonfiler</td>\n",
       "      <td>0</td>\n",
       "      <td>0</td>\n",
       "      <td>0</td>\n",
       "      <td>Under Median</td>\n",
       "      <td>850</td>\n",
       "      <td>CommunityCollege</td>\n",
       "    </tr>\n",
       "    <tr>\n",
       "      <th>18317</th>\n",
       "      <td>TRAIN_19997</td>\n",
       "      <td>22</td>\n",
       "      <td>M</td>\n",
       "      <td>College</td>\n",
       "      <td>Children or Armed Forces</td>\n",
       "      <td>52</td>\n",
       "      <td>Transportation</td>\n",
       "      <td>Technicians &amp; Support</td>\n",
       "      <td>White</td>\n",
       "      <td>All other</td>\n",
       "      <td>...</td>\n",
       "      <td>US</td>\n",
       "      <td>US</td>\n",
       "      <td>US</td>\n",
       "      <td>Single</td>\n",
       "      <td>0</td>\n",
       "      <td>0</td>\n",
       "      <td>0</td>\n",
       "      <td>Under Median</td>\n",
       "      <td>999</td>\n",
       "      <td>CommunityCollege</td>\n",
       "    </tr>\n",
       "    <tr>\n",
       "      <th>18318</th>\n",
       "      <td>TRAIN_19998</td>\n",
       "      <td>76</td>\n",
       "      <td>F</td>\n",
       "      <td>High graduate</td>\n",
       "      <td>Not Working</td>\n",
       "      <td>0</td>\n",
       "      <td>Not in universe or children</td>\n",
       "      <td>Unknown</td>\n",
       "      <td>White</td>\n",
       "      <td>All other</td>\n",
       "      <td>...</td>\n",
       "      <td>US</td>\n",
       "      <td>Scotland</td>\n",
       "      <td>England</td>\n",
       "      <td>Single</td>\n",
       "      <td>0</td>\n",
       "      <td>0</td>\n",
       "      <td>0</td>\n",
       "      <td>Under Median</td>\n",
       "      <td>0</td>\n",
       "      <td>High graduate</td>\n",
       "    </tr>\n",
       "    <tr>\n",
       "      <th>18319</th>\n",
       "      <td>TRAIN_19999</td>\n",
       "      <td>41</td>\n",
       "      <td>F</td>\n",
       "      <td>High graduate</td>\n",
       "      <td>Children or Armed Forces</td>\n",
       "      <td>52</td>\n",
       "      <td>Public Administration</td>\n",
       "      <td>Admin Support (include Clerical)</td>\n",
       "      <td>White</td>\n",
       "      <td>All other</td>\n",
       "      <td>...</td>\n",
       "      <td>US</td>\n",
       "      <td>US</td>\n",
       "      <td>US</td>\n",
       "      <td>Head of Household (HOH)</td>\n",
       "      <td>0</td>\n",
       "      <td>0</td>\n",
       "      <td>0</td>\n",
       "      <td>Under Median</td>\n",
       "      <td>671</td>\n",
       "      <td>High graduate</td>\n",
       "    </tr>\n",
       "  </tbody>\n",
       "</table>\n",
       "<p>18320 rows × 24 columns</p>\n",
       "</div>"
      ],
      "text/plain": [
       "                ID  Age Gender                Education_Status  \\\n",
       "0      TRAIN_00000   63      M                    Middle (7-8)   \n",
       "1      TRAIN_00001   37      M  Associates degree (Vocational)   \n",
       "2      TRAIN_00002   58      F                   High graduate   \n",
       "3      TRAIN_00003   44      M                   High graduate   \n",
       "4      TRAIN_00004   37      F                   High graduate   \n",
       "...            ...  ...    ...                             ...   \n",
       "18315  TRAIN_19995   33      M                   High graduate   \n",
       "18316  TRAIN_19996   20      F                         College   \n",
       "18317  TRAIN_19997   22      M                         College   \n",
       "18318  TRAIN_19998   76      F                   High graduate   \n",
       "18319  TRAIN_19999   41      F                   High graduate   \n",
       "\n",
       "              Employment_Status  Working_Week (Yearly)  \\\n",
       "0                     Full-Time                      4   \n",
       "1                     Full-Time                     52   \n",
       "2                     Full-Time                     52   \n",
       "3                     Full-Time                     52   \n",
       "4                     Full-Time                     52   \n",
       "...                         ...                    ...   \n",
       "18315  Children or Armed Forces                     52   \n",
       "18316                 Full-Time                     12   \n",
       "18317  Children or Armed Forces                     52   \n",
       "18318               Not Working                      0   \n",
       "18319  Children or Armed Forces                     52   \n",
       "\n",
       "                   Industry_Status                 Occupation_Status   Race  \\\n",
       "0                  Social Services                          Services  White   \n",
       "1                    Entertainment                          Services  White   \n",
       "2      Manufacturing (Non-durable)  Admin Support (include Clerical)  Black   \n",
       "3                           Retail             Technicians & Support  White   \n",
       "4                           Retail                             Sales  White   \n",
       "...                            ...                               ...    ...   \n",
       "18315      Manufacturing (Durable)                 Handlers/Cleaners  White   \n",
       "18316                    Education  Admin Support (include Clerical)  White   \n",
       "18317               Transportation             Technicians & Support  White   \n",
       "18318  Not in universe or children                           Unknown  White   \n",
       "18319        Public Administration  Admin Support (include Clerical)  White   \n",
       "\n",
       "         Hispanic_Origin  ... Birth_Country Birth_Country (Father)  \\\n",
       "0              All other  ...            US                     US   \n",
       "1              All other  ...            US                     US   \n",
       "2              All other  ...            US                     US   \n",
       "3              All other  ...            US                     US   \n",
       "4              All other  ...            US                     US   \n",
       "...                  ...  ...           ...                    ...   \n",
       "18315          All other  ...            US                     US   \n",
       "18316   Mexican-American  ...            US                 Mexico   \n",
       "18317          All other  ...            US                     US   \n",
       "18318          All other  ...            US               Scotland   \n",
       "18319          All other  ...            US                     US   \n",
       "\n",
       "      Birth_Country (Mother)               Tax_Status Gains Losses Dividends  \\\n",
       "0                         US                 Nonfiler     0      0         0   \n",
       "1                         US                   Single     0      0         0   \n",
       "2                         US                      MFJ  3411      0         0   \n",
       "3                         US                   Single     0      0         0   \n",
       "4                         US  Head of Household (HOH)     0      0         0   \n",
       "...                      ...                      ...   ...    ...       ...   \n",
       "18315                     US                   Single     0      0         0   \n",
       "18316                 Mexico                 Nonfiler     0      0         0   \n",
       "18317                     US                   Single     0      0         0   \n",
       "18318                England                   Single     0      0         0   \n",
       "18319                     US  Head of Household (HOH)     0      0         0   \n",
       "\n",
       "      Income_Status  Income         Education  \n",
       "0      Under Median     425           dropout  \n",
       "1      Under Median       0  CommunityCollege  \n",
       "2      Under Median     860     High graduate  \n",
       "3      Under Median     850     High graduate  \n",
       "4      Under Median     570     High graduate  \n",
       "...             ...     ...               ...  \n",
       "18315  Under Median    1300     High graduate  \n",
       "18316  Under Median     850  CommunityCollege  \n",
       "18317  Under Median     999  CommunityCollege  \n",
       "18318  Under Median       0     High graduate  \n",
       "18319  Under Median     671     High graduate  \n",
       "\n",
       "[18320 rows x 24 columns]"
      ]
     },
     "execution_count": 653,
     "metadata": {},
     "output_type": "execute_result"
    }
   ],
   "source": [
    "train"
   ]
  },
  {
   "cell_type": "markdown",
   "metadata": {},
   "source": [
    "#### 노이즈 제거 (고려)"
   ]
  },
  {
   "cell_type": "code",
   "execution_count": 654,
   "metadata": {},
   "outputs": [
    {
     "data": {
      "text/plain": [
       "231"
      ]
     },
     "execution_count": 654,
     "metadata": {},
     "output_type": "execute_result"
    }
   ],
   "source": [
    "under = train.loc[train['Income_Status']=='Under Median']\n",
    "\n",
    "Q1 = np.quantile(under['Income'], 0.25)\n",
    "Q3 = np.quantile(under['Income'], 0.75)\n",
    "IOR = Q3-Q1\n",
    "outlier_step = IOR*1.5\n",
    "\n",
    "u_outliers = under.loc[(under['Income']<Q1-outlier_step)|(under['Income']>Q3+outlier_step)]\n",
    "len(u_outliers)"
   ]
  },
  {
   "cell_type": "code",
   "execution_count": 655,
   "metadata": {},
   "outputs": [
    {
     "data": {
      "text/plain": [
       "(array([153.,  18.,  12.,   8.,  10.,   8.,   4.,   8.,   4.,   6.]),\n",
       " array([2251. , 3017.5, 3784. , 4550.5, 5317. , 6083.5, 6850. , 7616.5,\n",
       "        8383. , 9149.5, 9916. ]),\n",
       " <BarContainer object of 10 artists>)"
      ]
     },
     "execution_count": 655,
     "metadata": {},
     "output_type": "execute_result"
    },
    {
     "data": {
      "image/png": "[encoded data removed]",
      "text/plain": [
       "<Figure size 640x480 with 1 Axes>"
      ]
     },
     "metadata": {},
     "output_type": "display_data"
    }
   ],
   "source": [
    "plt.hist(u_outliers['Income'])"
   ]
  },
  {
   "cell_type": "code",
   "execution_count": 656,
   "metadata": {},
   "outputs": [
    {
     "data": {
      "text/plain": [
       "7"
      ]
     },
     "execution_count": 656,
     "metadata": {},
     "output_type": "execute_result"
    }
   ],
   "source": [
    "over = train.loc[train['Income_Status']=='Over Median']\n",
    "\n",
    "Q1 = np.quantile(over['Income'], 0.25)\n",
    "Q3 = np.quantile(over['Income'], 0.75)\n",
    "IOR = Q3-Q1\n",
    "outlier_step = IOR*1.5\n",
    "\n",
    "o_outliers = over.loc[(over['Income']<Q1-outlier_step)|(over['Income']>Q3+outlier_step)]\n",
    "len(o_outliers)"
   ]
  },
  {
   "cell_type": "code",
   "execution_count": 657,
   "metadata": {},
   "outputs": [
    {
     "data": {
      "text/plain": [
       "(array([2., 0., 0., 3., 1., 0., 0., 0., 0., 1.]),\n",
       " array([4807. , 5326.2, 5845.4, 6364.6, 6883.8, 7403. , 7922.2, 8441.4,\n",
       "        8960.6, 9479.8, 9999. ]),\n",
       " <BarContainer object of 10 artists>)"
      ]
     },
     "execution_count": 657,
     "metadata": {},
     "output_type": "execute_result"
    },
    {
     "data": {
      "image/png": "[encoded data removed]",
      "text/plain": [
       "<Figure size 640x480 with 1 Axes>"
      ]
     },
     "metadata": {},
     "output_type": "display_data"
    }
   ],
   "source": [
    "plt.hist(o_outliers['Income'])"
   ]
  },
  {
   "cell_type": "code",
   "execution_count": 658,
   "metadata": {},
   "outputs": [],
   "source": [
    "train.drop(index=u_outliers.index, inplace=True)\n",
    "train.reset_index(drop=True, inplace=True)"
   ]
  },
  {
   "cell_type": "markdown",
   "metadata": {},
   "source": [
    "#### outlier 231 (income state = under median)"
   ]
  },
  {
   "cell_type": "markdown",
   "metadata": {},
   "source": [
    "### working week"
   ]
  },
  {
   "cell_type": "code",
   "execution_count": 659,
   "metadata": {},
   "outputs": [],
   "source": [
    "# plt.hist(train['Working_Week (Yearly)'])\n",
    "# plt.show()"
   ]
  },
  {
   "cell_type": "code",
   "execution_count": 660,
   "metadata": {},
   "outputs": [
    {
     "data": {
      "text/plain": [
       "(7819, 10270)"
      ]
     },
     "execution_count": 660,
     "metadata": {},
     "output_type": "execute_result"
    }
   ],
   "source": [
    "sum(train['Working_Week (Yearly)']<52), sum(train['Working_Week (Yearly)']==52)"
   ]
  },
  {
   "cell_type": "markdown",
   "metadata": {},
   "source": [
    "##### (7891, 10429)"
   ]
  },
  {
   "cell_type": "code",
   "execution_count": 661,
   "metadata": {},
   "outputs": [],
   "source": [
    "train['Working_Week (Yearly)'] = np.where(train['Working_Week (Yearly)']<52, 0, 1)\n",
    "test['Working_Week (Yearly)'] = np.where(test['Working_Week (Yearly)']<52, 0, 1)"
   ]
  },
  {
   "cell_type": "code",
   "execution_count": 662,
   "metadata": {},
   "outputs": [],
   "source": [
    "# plt.hist(train['Working_Week (Yearly)'])\n",
    "# plt.show()"
   ]
  },
  {
   "cell_type": "markdown",
   "metadata": {},
   "source": [
    "### gain, loss, dividend"
   ]
  },
  {
   "cell_type": "code",
   "execution_count": 663,
   "metadata": {},
   "outputs": [],
   "source": [
    "# train['Gains'] = np.where(train['Gains']>0, 1, 0)\n",
    "# test['Gains'] = np.where(test['Gains']>0, 1, 0)\n",
    "\n",
    "# train['Losses'] = np.where(train['Losses']>0, 1, 0)\n",
    "# test['Losses'] = np.where(test['Losses']>0, 1, 0)\n",
    "\n",
    "# train['Dividends'] = np.where(train['Dividends']>0, 1, 0)\n",
    "# test['Dividends'] = np.where(test['Dividends']>0, 1, 0)"
   ]
  },
  {
   "cell_type": "code",
   "execution_count": 664,
   "metadata": {},
   "outputs": [],
   "source": [
    "train['Capital'] = train['Gains'] + train['Dividends'] - train['Losses']\n",
    "test['Capital'] = test['Gains'] + test['Dividends'] - test['Losses']\n",
    "\n",
    "train['Capital'] = np.where(train['Capital']>0, 1, 0)\n",
    "test['Capital'] = np.where(test['Capital']>0, 1, 0)"
   ]
  },
  {
   "cell_type": "markdown",
   "metadata": {},
   "source": [
    "### main"
   ]
  },
  {
   "cell_type": "code",
   "execution_count": 665,
   "metadata": {},
   "outputs": [],
   "source": [
    "trainval_x = train.drop(columns=['ID', 'Income', \n",
    "                                #  'Industry_Status',\n",
    "                                 'Hispanic_Origin', \n",
    "                                 'Household_Status', \n",
    "                                 'Birth_Country', \n",
    "                                 'Birth_Country (Father)', 'Birth_Country (Mother)',\n",
    "                                 'Education_Status',\n",
    "                                 'Gains', 'Losses', 'Dividends'\n",
    "                                 ])\n",
    "\n",
    "trainval_y = train['Income']\n",
    "income_over = train['Income'] > 900\n",
    "# trainval_y = np.log(train['Income']+1)\n",
    "\n",
    "test_x = test.drop(columns=['ID',\n",
    "                            # 'Industry_Status',\n",
    "                            'Hispanic_Origin', \n",
    "                            'Household_Status', \n",
    "                            'Birth_Country', \n",
    "                            'Birth_Country (Father)', 'Birth_Country (Mother)',\n",
    "                            'Education_Status',\n",
    "                            'Gains', 'Losses', 'Dividends'\n",
    "                            ])"
   ]
  },
  {
   "cell_type": "code",
   "execution_count": 666,
   "metadata": {},
   "outputs": [
    {
     "name": "stdout",
     "output_type": "stream",
     "text": [
      "(array([False,  True]), array([13790,  4299], dtype=int64))\n"
     ]
    }
   ],
   "source": [
    "print(np.unique(income_over, return_counts=True))"
   ]
  },
  {
   "cell_type": "code",
   "execution_count": 667,
   "metadata": {},
   "outputs": [
    {
     "name": "stdout",
     "output_type": "stream",
     "text": [
      "<class 'pandas.core.frame.DataFrame'>\n",
      "RangeIndex: 18089 entries, 0 to 18088\n",
      "Data columns (total 14 columns):\n",
      " #   Column                 Non-Null Count  Dtype \n",
      "---  ------                 --------------  ----- \n",
      " 0   Age                    18089 non-null  int64 \n",
      " 1   Gender                 18089 non-null  object\n",
      " 2   Employment_Status      18089 non-null  object\n",
      " 3   Working_Week (Yearly)  18089 non-null  int32 \n",
      " 4   Industry_Status        18089 non-null  object\n",
      " 5   Occupation_Status      18089 non-null  object\n",
      " 6   Race                   18089 non-null  object\n",
      " 7   Martial_Status         18089 non-null  object\n",
      " 8   Household_Summary      18089 non-null  object\n",
      " 9   Citizenship            18089 non-null  object\n",
      " 10  Tax_Status             18089 non-null  object\n",
      " 11  Income_Status          18089 non-null  object\n",
      " 12  Education              18089 non-null  object\n",
      " 13  Capital                18089 non-null  int32 \n",
      "dtypes: int32(2), int64(1), object(11)\n",
      "memory usage: 1.8+ MB\n"
     ]
    }
   ],
   "source": [
    "trainval_x.info()"
   ]
  },
  {
   "cell_type": "code",
   "execution_count": 668,
   "metadata": {},
   "outputs": [
    {
     "name": "stdout",
     "output_type": "stream",
     "text": [
      "18089\n"
     ]
    }
   ],
   "source": [
    "print(len(trainval_x))"
   ]
  },
  {
   "cell_type": "code",
   "execution_count": 669,
   "metadata": {},
   "outputs": [
    {
     "name": "stdout",
     "output_type": "stream",
     "text": [
      "Gender\n",
      "Income_Status\n"
     ]
    }
   ],
   "source": [
    "encoding_target = list(trainval_x.dtypes[trainval_x.dtypes == \"object\"].index)\n",
    "\n",
    "# save_encoder = None\n",
    "for i in encoding_target:\n",
    "    le = LabelEncoder()\n",
    "\n",
    "    # train과 test 데이터셋에서 해당 열의 모든 값을 문자열로 변환\n",
    "    trainval_x[i] = trainval_x[i].astype(str)\n",
    "    test_x[i] = test_x[i].astype(str)\n",
    "\n",
    "    le.fit(trainval_x[i])\n",
    "    trainval_x[i] = le.transform(trainval_x[i])\n",
    "    \n",
    "    # test 데이터의 새로운 카테고리에 대해 le.classes_ 배열에 추가\n",
    "    for case in np.unique(test_x[i]):\n",
    "        if case not in le.classes_: \n",
    "            print('case')\n",
    "            le.classes_ = np.append(le.classes_, case)\n",
    "    \n",
    "    test_x[i] = le.transform(test_x[i])\n",
    "\n",
    "    # if i == 'Occupation_Status':\n",
    "    #     save_encoder = le\n",
    "    #     print(f'{i}_save')\n",
    "\n",
    "    if len(np.unique(trainval_x[i])) == 2:\n",
    "        print(i)\n",
    "        continue\n",
    "\n",
    "    ohe = OneHotEncoder(sparse_output=False, handle_unknown='ignore') ## ignore로 학습 데이터셋에 없는 데이터가 들어와도 무시\n",
    "    train_encoded = ohe.fit_transform(trainval_x[[i]])\n",
    "\n",
    "    train_encoded_df = pd.DataFrame(train_encoded, columns=[f\"{i}_{j}\" for j in range(train_encoded.shape[1])])\n",
    "    trainval_x = pd.concat([trainval_x.drop(columns=[i]), train_encoded_df], axis=1)\n",
    "    \n",
    "    test_encoded = ohe.transform(test_x[[i]])\n",
    "    \n",
    "    test_encoded_df = pd.DataFrame(test_encoded, columns=[f\"{i}_{j}\" for j in range(test_encoded.shape[1])])\n",
    "    test_x = pd.concat([test_x.drop(columns=[i]), test_encoded_df], axis=1)"
   ]
  },
  {
   "cell_type": "code",
   "execution_count": 670,
   "metadata": {},
   "outputs": [
    {
     "data": {
      "text/html": [
       "<div>\n",
       "<style scoped>\n",
       "    .dataframe tbody tr th:only-of-type {\n",
       "        vertical-align: middle;\n",
       "    }\n",
       "\n",
       "    .dataframe tbody tr th {\n",
       "        vertical-align: top;\n",
       "    }\n",
       "\n",
       "    .dataframe thead th {\n",
       "        text-align: right;\n",
       "    }\n",
       "</style>\n",
       "<table border=\"1\" class=\"dataframe\">\n",
       "  <thead>\n",
       "    <tr style=\"text-align: right;\">\n",
       "      <th></th>\n",
       "      <th>Age</th>\n",
       "      <th>Gender</th>\n",
       "      <th>Working_Week (Yearly)</th>\n",
       "      <th>Income_Status</th>\n",
       "      <th>Capital</th>\n",
       "      <th>Employment_Status_0</th>\n",
       "      <th>Employment_Status_1</th>\n",
       "      <th>Employment_Status_2</th>\n",
       "      <th>Employment_Status_3</th>\n",
       "      <th>Employment_Status_4</th>\n",
       "      <th>...</th>\n",
       "      <th>Tax_Status_0</th>\n",
       "      <th>Tax_Status_1</th>\n",
       "      <th>Tax_Status_2</th>\n",
       "      <th>Tax_Status_3</th>\n",
       "      <th>Education_0</th>\n",
       "      <th>Education_1</th>\n",
       "      <th>Education_2</th>\n",
       "      <th>Education_3</th>\n",
       "      <th>Education_4</th>\n",
       "      <th>Education_5</th>\n",
       "    </tr>\n",
       "  </thead>\n",
       "  <tbody>\n",
       "    <tr>\n",
       "      <th>0</th>\n",
       "      <td>63</td>\n",
       "      <td>1</td>\n",
       "      <td>0</td>\n",
       "      <td>1</td>\n",
       "      <td>0</td>\n",
       "      <td>0.0</td>\n",
       "      <td>0.0</td>\n",
       "      <td>1.0</td>\n",
       "      <td>0.0</td>\n",
       "      <td>0.0</td>\n",
       "      <td>...</td>\n",
       "      <td>0.0</td>\n",
       "      <td>0.0</td>\n",
       "      <td>1.0</td>\n",
       "      <td>0.0</td>\n",
       "      <td>0.0</td>\n",
       "      <td>0.0</td>\n",
       "      <td>0.0</td>\n",
       "      <td>0.0</td>\n",
       "      <td>0.0</td>\n",
       "      <td>1.0</td>\n",
       "    </tr>\n",
       "    <tr>\n",
       "      <th>1</th>\n",
       "      <td>37</td>\n",
       "      <td>1</td>\n",
       "      <td>1</td>\n",
       "      <td>1</td>\n",
       "      <td>0</td>\n",
       "      <td>0.0</td>\n",
       "      <td>0.0</td>\n",
       "      <td>1.0</td>\n",
       "      <td>0.0</td>\n",
       "      <td>0.0</td>\n",
       "      <td>...</td>\n",
       "      <td>0.0</td>\n",
       "      <td>0.0</td>\n",
       "      <td>0.0</td>\n",
       "      <td>1.0</td>\n",
       "      <td>0.0</td>\n",
       "      <td>1.0</td>\n",
       "      <td>0.0</td>\n",
       "      <td>0.0</td>\n",
       "      <td>0.0</td>\n",
       "      <td>0.0</td>\n",
       "    </tr>\n",
       "    <tr>\n",
       "      <th>2</th>\n",
       "      <td>58</td>\n",
       "      <td>0</td>\n",
       "      <td>1</td>\n",
       "      <td>1</td>\n",
       "      <td>1</td>\n",
       "      <td>0.0</td>\n",
       "      <td>0.0</td>\n",
       "      <td>1.0</td>\n",
       "      <td>0.0</td>\n",
       "      <td>0.0</td>\n",
       "      <td>...</td>\n",
       "      <td>0.0</td>\n",
       "      <td>1.0</td>\n",
       "      <td>0.0</td>\n",
       "      <td>0.0</td>\n",
       "      <td>0.0</td>\n",
       "      <td>0.0</td>\n",
       "      <td>0.0</td>\n",
       "      <td>1.0</td>\n",
       "      <td>0.0</td>\n",
       "      <td>0.0</td>\n",
       "    </tr>\n",
       "    <tr>\n",
       "      <th>3</th>\n",
       "      <td>44</td>\n",
       "      <td>1</td>\n",
       "      <td>1</td>\n",
       "      <td>1</td>\n",
       "      <td>0</td>\n",
       "      <td>0.0</td>\n",
       "      <td>0.0</td>\n",
       "      <td>1.0</td>\n",
       "      <td>0.0</td>\n",
       "      <td>0.0</td>\n",
       "      <td>...</td>\n",
       "      <td>0.0</td>\n",
       "      <td>0.0</td>\n",
       "      <td>0.0</td>\n",
       "      <td>1.0</td>\n",
       "      <td>0.0</td>\n",
       "      <td>0.0</td>\n",
       "      <td>0.0</td>\n",
       "      <td>1.0</td>\n",
       "      <td>0.0</td>\n",
       "      <td>0.0</td>\n",
       "    </tr>\n",
       "    <tr>\n",
       "      <th>4</th>\n",
       "      <td>37</td>\n",
       "      <td>0</td>\n",
       "      <td>1</td>\n",
       "      <td>1</td>\n",
       "      <td>0</td>\n",
       "      <td>0.0</td>\n",
       "      <td>0.0</td>\n",
       "      <td>1.0</td>\n",
       "      <td>0.0</td>\n",
       "      <td>0.0</td>\n",
       "      <td>...</td>\n",
       "      <td>1.0</td>\n",
       "      <td>0.0</td>\n",
       "      <td>0.0</td>\n",
       "      <td>0.0</td>\n",
       "      <td>0.0</td>\n",
       "      <td>0.0</td>\n",
       "      <td>0.0</td>\n",
       "      <td>1.0</td>\n",
       "      <td>0.0</td>\n",
       "      <td>0.0</td>\n",
       "    </tr>\n",
       "  </tbody>\n",
       "</table>\n",
       "<p>5 rows × 82 columns</p>\n",
       "</div>"
      ],
      "text/plain": [
       "   Age  Gender  Working_Week (Yearly)  Income_Status  Capital  \\\n",
       "0   63       1                      0              1        0   \n",
       "1   37       1                      1              1        0   \n",
       "2   58       0                      1              1        1   \n",
       "3   44       1                      1              1        0   \n",
       "4   37       0                      1              1        0   \n",
       "\n",
       "   Employment_Status_0  Employment_Status_1  Employment_Status_2  \\\n",
       "0                  0.0                  0.0                  1.0   \n",
       "1                  0.0                  0.0                  1.0   \n",
       "2                  0.0                  0.0                  1.0   \n",
       "3                  0.0                  0.0                  1.0   \n",
       "4                  0.0                  0.0                  1.0   \n",
       "\n",
       "   Employment_Status_3  Employment_Status_4  ...  Tax_Status_0  Tax_Status_1  \\\n",
       "0                  0.0                  0.0  ...           0.0           0.0   \n",
       "1                  0.0                  0.0  ...           0.0           0.0   \n",
       "2                  0.0                  0.0  ...           0.0           1.0   \n",
       "3                  0.0                  0.0  ...           0.0           0.0   \n",
       "4                  0.0                  0.0  ...           1.0           0.0   \n",
       "\n",
       "   Tax_Status_2  Tax_Status_3  Education_0  Education_1  Education_2  \\\n",
       "0           1.0           0.0          0.0          0.0          0.0   \n",
       "1           0.0           1.0          0.0          1.0          0.0   \n",
       "2           0.0           0.0          0.0          0.0          0.0   \n",
       "3           0.0           1.0          0.0          0.0          0.0   \n",
       "4           0.0           0.0          0.0          0.0          0.0   \n",
       "\n",
       "   Education_3  Education_4  Education_5  \n",
       "0          0.0          0.0          1.0  \n",
       "1          0.0          0.0          0.0  \n",
       "2          1.0          0.0          0.0  \n",
       "3          1.0          0.0          0.0  \n",
       "4          1.0          0.0          0.0  \n",
       "\n",
       "[5 rows x 82 columns]"
      ]
     },
     "execution_count": 670,
     "metadata": {},
     "output_type": "execute_result"
    }
   ],
   "source": [
    "trainval_x.head()"
   ]
  },
  {
   "cell_type": "code",
   "execution_count": 671,
   "metadata": {},
   "outputs": [
    {
     "data": {
      "text/plain": [
       "(18089, 18089, 18089)"
      ]
     },
     "execution_count": 671,
     "metadata": {},
     "output_type": "execute_result"
    }
   ],
   "source": [
    "len(train), len(trainval_x), len(income_over)"
   ]
  },
  {
   "cell_type": "code",
   "execution_count": 672,
   "metadata": {},
   "outputs": [],
   "source": [
    "kf = StratifiedKFold(n_splits=5, shuffle=True)"
   ]
  },
  {
   "cell_type": "code",
   "execution_count": 673,
   "metadata": {},
   "outputs": [
    {
     "name": "stdout",
     "output_type": "stream",
     "text": [
      "1 fold\n",
      "train error : 451.40 | val error : 490.45\n",
      "[post] train error : 451.31 | val error : 490.36\n",
      "------------------------------\n",
      "2 fold\n",
      "train error : 455.17 | val error : 477.32\n",
      "[post] train error : 455.08 | val error : 477.11\n",
      "------------------------------\n",
      "3 fold\n",
      "train error : 452.22 | val error : 485.34\n",
      "[post] train error : 452.14 | val error : 485.25\n",
      "------------------------------\n",
      "4 fold\n",
      "train error : 455.77 | val error : 479.75\n",
      "[post] train error : 455.68 | val error : 479.65\n",
      "------------------------------\n",
      "5 fold\n",
      "train error : 454.99 | val error : 471.72\n",
      "[post] train error : 454.92 | val error : 471.61\n",
      "------------------------------\n"
     ]
    }
   ],
   "source": [
    "num_fold = 1\n",
    "total_train_error, total_val_error = 0, 0\n",
    "total_train_error_post, total_val_error_post = 0, 0\n",
    "test_preds = []\n",
    "for train_idx, val_idx in kf.split(trainval_x, income_over):\n",
    "    train_x = trainval_x.iloc[train_idx]\n",
    "    train_y = trainval_y.iloc[train_idx]\n",
    "\n",
    "    val_x = trainval_x.iloc[val_idx]\n",
    "    val_y = trainval_y.iloc[val_idx]\n",
    "\n",
    "    model = GradientBoostingRegressor(max_depth=4)\n",
    "    # model.fit(train_x, train_y)\n",
    "    model.fit(train_x, train_y)\n",
    "\n",
    "    print(f'{num_fold} fold')\n",
    "\n",
    "    train_y_hat = model.predict(train_x)\n",
    "    val_y_hat = model.predict(val_x)\n",
    "\n",
    "    pred = model.predict(test_x)\n",
    "\n",
    "    test_preds.append(pred)\n",
    "\n",
    "    train_error = mean_squared_error(train_y, train_y_hat) ** 0.5\n",
    "    val_error = mean_squared_error(val_y, val_y_hat) ** 0.5\n",
    "\n",
    "    total_train_error += train_error\n",
    "    total_val_error += val_error\n",
    "\n",
    "    train_y_hat_post = np.where(train_y_hat<0, 0, train_y_hat)\n",
    "    val_y_hat_post = np.where(val_y_hat<0, 0, val_y_hat)\n",
    "\n",
    "    train_error_post = mean_squared_error(train_y, train_y_hat_post) ** 0.5\n",
    "    val_error_post = mean_squared_error(val_y, val_y_hat_post) ** 0.5\n",
    "\n",
    "    total_train_error_post += train_error_post\n",
    "    total_val_error_post += val_error_post\n",
    "\n",
    "    print(f'train error : {train_error:.2f} | val error : {val_error:.2f}')\n",
    "    print(f'[post] train error : {train_error_post:.2f} | val error : {val_error_post:.2f}')\n",
    "    \n",
    "    print('-'*30)\n",
    "\n",
    "    # feature_importances = model.feature_importances_\n",
    "    # importance_df = pd.Series(feature_importances[:20], index=trainval_x.columns[:20])\n",
    "    # importance_df.sort_values(inplace=True)\n",
    "\n",
    "    # plt.barh(np.arange(len(importance_df)), importance_df)\n",
    "    # plt.yticks(np.arange(len(importance_df)), importance_df.index)\n",
    "    # plt.show()\n",
    "\n",
    "    num_fold += 1"
   ]
  },
  {
   "cell_type": "code",
   "execution_count": 674,
   "metadata": {},
   "outputs": [
    {
     "name": "stdout",
     "output_type": "stream",
     "text": [
      "final train error : 453.91\n",
      "final val error : 480.92\n",
      "[post] final train error : 453.83\n",
      "[post] final val error : 480.80\n"
     ]
    }
   ],
   "source": [
    "print(f'final train error : {total_train_error/5:.2f}')\n",
    "print(f'final val error : {total_val_error/5:.2f}')\n",
    "\n",
    "print(f'[post] final train error : {total_train_error_post/5:.2f}')\n",
    "print(f'[post] final val error : {total_val_error_post/5:.2f}')"
   ]
  },
  {
   "cell_type": "markdown",
   "metadata": {},
   "source": [
    "### age \n",
    "final train error : 554.47\n",
    "final val error : 594.77\n",
    "[post] final train error : 554.40\n",
    "[post] final val error : 594.70"
   ]
  },
  {
   "cell_type": "markdown",
   "metadata": {},
   "source": [
    "### depth 4\n",
    "final train error : 548.84\n",
    "final val error : 596.10\n",
    "[post] final train error : 548.78\n",
    "[post] final val error : 596.04"
   ]
  },
  {
   "cell_type": "markdown",
   "metadata": {},
   "source": [
    "#### working day 추가\n",
    "final train error : 550.06\n",
    "final val error : 595.10\n",
    "[post] final train error : 549.99\n",
    "[post] final val error : 595.02"
   ]
  },
  {
   "cell_type": "markdown",
   "metadata": {},
   "source": [
    "### records"
   ]
  },
  {
   "cell_type": "markdown",
   "metadata": {},
   "source": [
    "#### stratify\n",
    "final train error : 557.18\n",
    "final val error : 596.77\n",
    "[post] final train error : 557.14\n",
    "[post] final val error : 596.71"
   ]
  },
  {
   "cell_type": "markdown",
   "metadata": {},
   "source": [
    "#### household 수정\n",
    "final train error : 557.47\n",
    "final val error : 596.23\n",
    "[post] final train error : 557.42\n",
    "[post] final val error : 596.17"
   ]
  },
  {
   "cell_type": "code",
   "execution_count": 675,
   "metadata": {},
   "outputs": [],
   "source": [
    "final_pred = np.array(test_preds).mean(0)"
   ]
  },
  {
   "cell_type": "code",
   "execution_count": 676,
   "metadata": {},
   "outputs": [],
   "source": [
    "final_pred_post = np.where(final_pred<0, 0, final_pred)"
   ]
  },
  {
   "cell_type": "code",
   "execution_count": 677,
   "metadata": {},
   "outputs": [],
   "source": [
    "# final_pred_exp = np.exp(final_pred)-1"
   ]
  },
  {
   "cell_type": "code",
   "execution_count": 678,
   "metadata": {},
   "outputs": [],
   "source": [
    "submission = pd.read_csv('data/sample_submission.csv')"
   ]
  },
  {
   "cell_type": "code",
   "execution_count": 679,
   "metadata": {},
   "outputs": [
    {
     "data": {
      "text/html": [
       "<div>\n",
       "<style scoped>\n",
       "    .dataframe tbody tr th:only-of-type {\n",
       "        vertical-align: middle;\n",
       "    }\n",
       "\n",
       "    .dataframe tbody tr th {\n",
       "        vertical-align: top;\n",
       "    }\n",
       "\n",
       "    .dataframe thead th {\n",
       "        text-align: right;\n",
       "    }\n",
       "</style>\n",
       "<table border=\"1\" class=\"dataframe\">\n",
       "  <thead>\n",
       "    <tr style=\"text-align: right;\">\n",
       "      <th></th>\n",
       "      <th>ID</th>\n",
       "      <th>Income</th>\n",
       "    </tr>\n",
       "  </thead>\n",
       "  <tbody>\n",
       "    <tr>\n",
       "      <th>0</th>\n",
       "      <td>TEST_0000</td>\n",
       "      <td>0.000000</td>\n",
       "    </tr>\n",
       "    <tr>\n",
       "      <th>1</th>\n",
       "      <td>TEST_0001</td>\n",
       "      <td>32.318805</td>\n",
       "    </tr>\n",
       "    <tr>\n",
       "      <th>2</th>\n",
       "      <td>TEST_0002</td>\n",
       "      <td>355.914238</td>\n",
       "    </tr>\n",
       "    <tr>\n",
       "      <th>3</th>\n",
       "      <td>TEST_0003</td>\n",
       "      <td>560.858188</td>\n",
       "    </tr>\n",
       "    <tr>\n",
       "      <th>4</th>\n",
       "      <td>TEST_0004</td>\n",
       "      <td>0.000000</td>\n",
       "    </tr>\n",
       "    <tr>\n",
       "      <th>...</th>\n",
       "      <td>...</td>\n",
       "      <td>...</td>\n",
       "    </tr>\n",
       "    <tr>\n",
       "      <th>9995</th>\n",
       "      <td>TEST_9995</td>\n",
       "      <td>790.916452</td>\n",
       "    </tr>\n",
       "    <tr>\n",
       "      <th>9996</th>\n",
       "      <td>TEST_9996</td>\n",
       "      <td>677.772918</td>\n",
       "    </tr>\n",
       "    <tr>\n",
       "      <th>9997</th>\n",
       "      <td>TEST_9997</td>\n",
       "      <td>353.283072</td>\n",
       "    </tr>\n",
       "    <tr>\n",
       "      <th>9998</th>\n",
       "      <td>TEST_9998</td>\n",
       "      <td>0.000000</td>\n",
       "    </tr>\n",
       "    <tr>\n",
       "      <th>9999</th>\n",
       "      <td>TEST_9999</td>\n",
       "      <td>458.607158</td>\n",
       "    </tr>\n",
       "  </tbody>\n",
       "</table>\n",
       "<p>10000 rows × 2 columns</p>\n",
       "</div>"
      ],
      "text/plain": [
       "             ID      Income\n",
       "0     TEST_0000    0.000000\n",
       "1     TEST_0001   32.318805\n",
       "2     TEST_0002  355.914238\n",
       "3     TEST_0003  560.858188\n",
       "4     TEST_0004    0.000000\n",
       "...         ...         ...\n",
       "9995  TEST_9995  790.916452\n",
       "9996  TEST_9996  677.772918\n",
       "9997  TEST_9997  353.283072\n",
       "9998  TEST_9998    0.000000\n",
       "9999  TEST_9999  458.607158\n",
       "\n",
       "[10000 rows x 2 columns]"
      ]
     },
     "execution_count": 679,
     "metadata": {},
     "output_type": "execute_result"
    }
   ],
   "source": [
    "submission['Income'] = final_pred\n",
    "submission['Income'] = final_pred_post\n",
    "# submission['Income'] = final_pred_exp\n",
    "submission"
   ]
  },
  {
   "cell_type": "code",
   "execution_count": 680,
   "metadata": {},
   "outputs": [],
   "source": [
    "os.makedirs('submission', exist_ok=True)\n",
    "# submission.to_csv(f'submission/{name}.csv', index=False)"
   ]
  },
  {
   "cell_type": "code",
   "execution_count": 681,
   "metadata": {},
   "outputs": [
    {
     "data": {
      "text/plain": [
       "(array([0., 0., 0., 0., 0., 0., 0., 0., 0., 0.]),\n",
       " array([0. , 0.1, 0.2, 0.3, 0.4, 0.5, 0.6, 0.7, 0.8, 0.9, 1. ]),\n",
       " <BarContainer object of 10 artists>)"
      ]
     },
     "execution_count": 681,
     "metadata": {},
     "output_type": "execute_result"
    },
    {
     "data": {
      "image/png": "[encoded data removed]",
      "text/plain": [
       "<Figure size 640x480 with 1 Axes>"
      ]
     },
     "metadata": {},
     "output_type": "display_data"
    }
   ],
   "source": [
    "plt.hist(final_pred_post[final_pred_post>2000])"
   ]
  },
  {
   "cell_type": "code",
   "execution_count": 682,
   "metadata": {},
   "outputs": [
    {
     "data": {
      "text/plain": [
       "(array([3.039e+03, 4.040e+02, 2.100e+01, 4.000e+00, 2.000e+00, 0.000e+00,\n",
       "        4.000e+00, 0.000e+00, 0.000e+00, 1.000e+00]),\n",
       " array([1001. , 1900.8, 2800.6, 3700.4, 4600.2, 5500. , 6399.8, 7299.6,\n",
       "        8199.4, 9099.2, 9999. ]),\n",
       " <BarContainer object of 10 artists>)"
      ]
     },
     "execution_count": 682,
     "metadata": {},
     "output_type": "execute_result"
    },
    {
     "data": {
      "image/png": "[encoded data removed]",
      "text/plain": [
       "<Figure size 640x480 with 1 Axes>"
      ]
     },
     "metadata": {},
     "output_type": "display_data"
    }
   ],
   "source": [
    "plt.hist(train.loc[train['Income']>1000, 'Income'])"
   ]
  }
 ],
 "metadata": {
  "kernelspec": {
   "display_name": "torch",
   "language": "python",
   "name": "python3"
  },
  "language_info": {
   "codemirror_mode": {
    "name": "ipython",
    "version": 3
   },
   "file_extension": ".py",
   "mimetype": "text/x-python",
   "name": "python",
   "nbconvert_exporter": "python",
   "pygments_lexer": "ipython3",
   "version": "3.9.18"
  }
 },
 "nbformat": 4,
 "nbformat_minor": 2
}
