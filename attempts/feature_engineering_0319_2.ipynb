{
 "cells": [
  {
   "cell_type": "code",
   "execution_count": 25,
   "metadata": {},
   "outputs": [],
   "source": [
    "import pandas as pd\n",
    "import numpy as np\n",
    "import random\n",
    "import os"
   ]
  },
  {
   "cell_type": "code",
   "execution_count": 26,
   "metadata": {},
   "outputs": [],
   "source": [
    "from sklearn.preprocessing import LabelEncoder, OneHotEncoder, StandardScaler\n",
    "from sklearn.model_selection import train_test_split, KFold\n",
    "from sklearn.ensemble import GradientBoostingRegressor\n",
    "from sklearn.metrics import mean_squared_error"
   ]
  },
  {
   "cell_type": "code",
   "execution_count": 27,
   "metadata": {},
   "outputs": [],
   "source": [
    "import matplotlib.pyplot as plt\n",
    "import seaborn as sns"
   ]
  },
  {
   "cell_type": "code",
   "execution_count": 28,
   "metadata": {},
   "outputs": [],
   "source": [
    "def seed_everything(seed):\n",
    "    random.seed(seed)\n",
    "    os.environ['PYTHONHASHSEED'] = str(seed)\n",
    "    np.random.seed(seed)\n",
    "\n",
    "seed_everything(42) # Seed 고정"
   ]
  },
  {
   "cell_type": "code",
   "execution_count": 29,
   "metadata": {},
   "outputs": [],
   "source": [
    "# 'Industry_Status',\n",
    "# 'Hispanic_Origin',\n",
    "# 'Household_Status',\n",
    "# 'Birth_Country',\n",
    "# 'Birth_Country (Father)', \n",
    "# 'Birth_Country (Mother)'"
   ]
  },
  {
   "cell_type": "code",
   "execution_count": 30,
   "metadata": {},
   "outputs": [],
   "source": [
    "train = pd.read_csv('data/train.csv')\n",
    "test = pd.read_csv('data/test.csv')"
   ]
  },
  {
   "cell_type": "code",
   "execution_count": 31,
   "metadata": {},
   "outputs": [
    {
     "data": {
      "text/plain": [
       "Index(['ID', 'Age', 'Gender', 'Education_Status', 'Employment_Status',\n",
       "       'Working_Week (Yearly)', 'Industry_Status', 'Occupation_Status', 'Race',\n",
       "       'Hispanic_Origin', 'Martial_Status', 'Household_Status',\n",
       "       'Household_Summary', 'Citizenship', 'Birth_Country',\n",
       "       'Birth_Country (Father)', 'Birth_Country (Mother)', 'Tax_Status',\n",
       "       'Gains', 'Losses', 'Dividends', 'Income_Status', 'Income'],\n",
       "      dtype='object')"
      ]
     },
     "execution_count": 31,
     "metadata": {},
     "output_type": "execute_result"
    }
   ],
   "source": [
    "train.columns"
   ]
  },
  {
   "cell_type": "markdown",
   "metadata": {},
   "source": [
    "### modify education"
   ]
  },
  {
   "cell_type": "code",
   "execution_count": 32,
   "metadata": {},
   "outputs": [],
   "source": [
    "def modify_education(education):\n",
    "    if education in ['Children', 'Kindergarten', 'Elementary (1-4)', 'Elementary (5-6)', \n",
    "                     'Middle (7-8)', 'High Freshman', 'High Sophomore', \n",
    "                     'High Junior', 'High Senior']:\n",
    "        return 'dropout'\n",
    "    elif education in ['College', 'Associates degree (Academic)', 'Associates degree (Vocational)']:\n",
    "        return 'CommunityCollege'\n",
    "    elif education in ['Professional degree', 'Masters degree']:\n",
    "        return 'Masters degree'\n",
    "    else:\n",
    "        return education"
   ]
  },
  {
   "cell_type": "code",
   "execution_count": 33,
   "metadata": {},
   "outputs": [],
   "source": [
    "train['Education'] = train['Education_Status']\n",
    "train['Education'] = train['Education'].apply(modify_education)"
   ]
  },
  {
   "cell_type": "code",
   "execution_count": 34,
   "metadata": {},
   "outputs": [],
   "source": [
    "test['Education'] = test['Education_Status']\n",
    "test['Education'] = test['Education'].apply(modify_education)"
   ]
  },
  {
   "cell_type": "markdown",
   "metadata": {},
   "source": [
    "### modify income status"
   ]
  },
  {
   "cell_type": "code",
   "execution_count": 35,
   "metadata": {},
   "outputs": [],
   "source": [
    "def modify_income_status(status):\n",
    "    if status in ['Unknown', 'Under Median']:\n",
    "        return 'Under Median'\n",
    "    else:\n",
    "        return status"
   ]
  },
  {
   "cell_type": "code",
   "execution_count": 36,
   "metadata": {},
   "outputs": [],
   "source": [
    "train['Income_Status'] = train['Income_Status'].apply(modify_income_status)\n",
    "test['Income_Status'] = test['Income_Status'].apply(modify_income_status)"
   ]
  },
  {
   "cell_type": "markdown",
   "metadata": {},
   "source": [
    "### main"
   ]
  },
  {
   "cell_type": "code",
   "execution_count": 37,
   "metadata": {},
   "outputs": [],
   "source": [
    "trainval_x = train.drop(columns=['ID', 'Income', \n",
    "                                #  'Industry_Status',\n",
    "                                 'Hispanic_Origin', \n",
    "                                 'Household_Status', \n",
    "                                 'Birth_Country', \n",
    "                                 'Birth_Country (Father)', 'Birth_Country (Mother)',\n",
    "                                 'Education_Status',\n",
    "                                #  'Gains', 'Losses', 'Dividends'\n",
    "                                 ])\n",
    "\n",
    "trainval_y = train['Income']\n",
    "# trainval_y = np.log(train['Income']+1)\n",
    "\n",
    "test_x = test.drop(columns=['ID',\n",
    "                            # 'Industry_Status',\n",
    "                            'Hispanic_Origin', \n",
    "                            'Household_Status', \n",
    "                            'Birth_Country', \n",
    "                            'Birth_Country (Father)', 'Birth_Country (Mother)',\n",
    "                            'Education_Status',\n",
    "                            # 'Gains', 'Losses', 'Dividends'\n",
    "                            ])"
   ]
  },
  {
   "cell_type": "code",
   "execution_count": 38,
   "metadata": {},
   "outputs": [
    {
     "name": "stdout",
     "output_type": "stream",
     "text": [
      "<class 'pandas.core.frame.DataFrame'>\n",
      "RangeIndex: 20000 entries, 0 to 19999\n",
      "Data columns (total 16 columns):\n",
      " #   Column                 Non-Null Count  Dtype \n",
      "---  ------                 --------------  ----- \n",
      " 0   Age                    20000 non-null  int64 \n",
      " 1   Gender                 20000 non-null  object\n",
      " 2   Employment_Status      20000 non-null  object\n",
      " 3   Working_Week (Yearly)  20000 non-null  int64 \n",
      " 4   Industry_Status        20000 non-null  object\n",
      " 5   Occupation_Status      20000 non-null  object\n",
      " 6   Race                   20000 non-null  object\n",
      " 7   Martial_Status         20000 non-null  object\n",
      " 8   Household_Summary      20000 non-null  object\n",
      " 9   Citizenship            20000 non-null  object\n",
      " 10  Tax_Status             20000 non-null  object\n",
      " 11  Gains                  20000 non-null  int64 \n",
      " 12  Losses                 20000 non-null  int64 \n",
      " 13  Dividends              20000 non-null  int64 \n",
      " 14  Income_Status          20000 non-null  object\n",
      " 15  Education              20000 non-null  object\n",
      "dtypes: int64(5), object(11)\n",
      "memory usage: 2.4+ MB\n"
     ]
    }
   ],
   "source": [
    "trainval_x.info()"
   ]
  },
  {
   "cell_type": "code",
   "execution_count": 39,
   "metadata": {},
   "outputs": [],
   "source": [
    "encoding_target = list(trainval_x.dtypes[trainval_x.dtypes == \"object\"].index)\n",
    "\n",
    "for i in encoding_target:\n",
    "    le = LabelEncoder()\n",
    "    \n",
    "    # train과 test 데이터셋에서 해당 열의 모든 값을 문자열로 변환\n",
    "    trainval_x[i] = trainval_x[i].astype(str)\n",
    "    test_x[i] = test_x[i].astype(str)\n",
    "    \n",
    "    le.fit(trainval_x[i])\n",
    "    trainval_x[i] = le.transform(trainval_x[i])\n",
    "    \n",
    "    # test 데이터의 새로운 카테고리에 대해 le.classes_ 배열에 추가\n",
    "    for case in np.unique(test_x[i]):\n",
    "        if case not in le.classes_: \n",
    "            print('case')\n",
    "            le.classes_ = np.append(le.classes_, case)\n",
    "    \n",
    "    test_x[i] = le.transform(test_x[i])"
   ]
  },
  {
   "cell_type": "code",
   "execution_count": 40,
   "metadata": {},
   "outputs": [],
   "source": [
    "kf = KFold(n_splits=5)"
   ]
  },
  {
   "cell_type": "code",
   "execution_count": 41,
   "metadata": {},
   "outputs": [
    {
     "name": "stdout",
     "output_type": "stream",
     "text": [
      "1 fold\n",
      "train error : 543.39 | val error : 650.39\n",
      "[post] train error : 543.33 | val error : 650.35\n",
      "------------------------------\n",
      "2 fold\n",
      "train error : 550.07 | val error : 618.70\n",
      "[post] train error : 550.02 | val error : 618.65\n",
      "------------------------------\n",
      "3 fold\n",
      "train error : 561.39 | val error : 597.72\n",
      "[post] train error : 561.35 | val error : 597.18\n",
      "------------------------------\n",
      "4 fold\n",
      "train error : 567.42 | val error : 555.94\n",
      "[post] train error : 567.36 | val error : 555.89\n",
      "------------------------------\n",
      "5 fold\n",
      "train error : 567.07 | val error : 565.85\n",
      "[post] train error : 567.03 | val error : 565.78\n",
      "------------------------------\n"
     ]
    }
   ],
   "source": [
    "num_fold = 1\n",
    "total_train_error, total_val_error = 0, 0\n",
    "total_train_error_post, total_val_error_post = 0, 0\n",
    "test_preds = []\n",
    "for train_idx, val_idx in kf.split(np.arange(len(trainval_x))):\n",
    "    train_x = trainval_x.iloc[train_idx]\n",
    "    train_y = trainval_y.iloc[train_idx]\n",
    "\n",
    "    val_x = trainval_x.iloc[val_idx]\n",
    "    val_y = trainval_y.iloc[val_idx]\n",
    "\n",
    "    model = GradientBoostingRegressor(max_depth=4)\n",
    "    model.fit(train_x, train_y)\n",
    "\n",
    "    print(f'{num_fold} fold')\n",
    "\n",
    "    train_y_hat = model.predict(train_x)\n",
    "    val_y_hat = model.predict(val_x)\n",
    "\n",
    "    pred = model.predict(test_x)\n",
    "    test_preds.append(pred)\n",
    "\n",
    "    train_error = mean_squared_error(train_y, train_y_hat) ** 0.5\n",
    "    val_error = mean_squared_error(val_y, val_y_hat) ** 0.5\n",
    "\n",
    "    total_train_error += train_error\n",
    "    total_val_error += val_error\n",
    "\n",
    "    train_y_hat_post = np.where(train_y_hat<0, 0, train_y_hat)\n",
    "    val_y_hat_post = np.where(val_y_hat<0, 0, val_y_hat)\n",
    "\n",
    "    train_error_post = mean_squared_error(train_y, train_y_hat_post) ** 0.5\n",
    "    val_error_post = mean_squared_error(val_y, val_y_hat_post) ** 0.5\n",
    "\n",
    "    total_train_error_post += train_error_post\n",
    "    total_val_error_post += val_error_post\n",
    "\n",
    "    print(f'train error : {train_error:.2f} | val error : {val_error:.2f}')\n",
    "    print(f'[post] train error : {train_error_post:.2f} | val error : {val_error_post:.2f}')\n",
    "    \n",
    "    print('-'*30)\n",
    "\n",
    "    num_fold += 1"
   ]
  },
  {
   "cell_type": "code",
   "execution_count": 42,
   "metadata": {},
   "outputs": [
    {
     "name": "stdout",
     "output_type": "stream",
     "text": [
      "final train error : 557.87\n",
      "final val error : 597.72\n",
      "[post] final train error : 557.82\n",
      "[post] final val error : 597.57\n"
     ]
    }
   ],
   "source": [
    "print(f'final train error : {total_train_error/5:.2f}')\n",
    "print(f'final val error : {total_val_error/5:.2f}')\n",
    "\n",
    "print(f'[post] final train error : {total_train_error_post/5:.2f}')\n",
    "print(f'[post] final val error : {total_val_error_post/5:.2f}')"
   ]
  },
  {
   "cell_type": "markdown",
   "metadata": {},
   "source": [
    "### post processing"
   ]
  },
  {
   "cell_type": "code",
   "execution_count": null,
   "metadata": {},
   "outputs": [],
   "source": []
  },
  {
   "cell_type": "markdown",
   "metadata": {},
   "source": [
    "### records"
   ]
  },
  {
   "cell_type": "markdown",
   "metadata": {},
   "source": [
    "#### max depth 7\n",
    "final train error : 459.07\n",
    "final val error : 608.42"
   ]
  },
  {
   "cell_type": "markdown",
   "metadata": {},
   "source": [
    "#### max depth 5\n",
    "final train error : 530.45\n",
    "final val error : 599.85"
   ]
  },
  {
   "cell_type": "markdown",
   "metadata": {},
   "source": [
    "#### max depth 4\n",
    "final train error : 557.87\n",
    "final val error : 597.72"
   ]
  },
  {
   "cell_type": "markdown",
   "metadata": {},
   "source": [
    "#### max depth 3\n",
    "final train error : 579.80\n",
    "final val error : 597.66"
   ]
  },
  {
   "cell_type": "code",
   "execution_count": 43,
   "metadata": {},
   "outputs": [],
   "source": [
    "final_pred = np.array(test_preds).mean(0)"
   ]
  },
  {
   "cell_type": "code",
   "execution_count": 44,
   "metadata": {},
   "outputs": [],
   "source": [
    "final_pred_post = np.where(final_pred<0, 0, final_pred)"
   ]
  },
  {
   "cell_type": "code",
   "execution_count": 45,
   "metadata": {},
   "outputs": [],
   "source": [
    "# final_pred_exp = np.exp(final_pred)-1"
   ]
  },
  {
   "cell_type": "code",
   "execution_count": 46,
   "metadata": {},
   "outputs": [],
   "source": [
    "submission = pd.read_csv('data/sample_submission.csv')"
   ]
  },
  {
   "cell_type": "code",
   "execution_count": 47,
   "metadata": {},
   "outputs": [
    {
     "data": {
      "text/html": [
       "<div>\n",
       "<style scoped>\n",
       "    .dataframe tbody tr th:only-of-type {\n",
       "        vertical-align: middle;\n",
       "    }\n",
       "\n",
       "    .dataframe tbody tr th {\n",
       "        vertical-align: top;\n",
       "    }\n",
       "\n",
       "    .dataframe thead th {\n",
       "        text-align: right;\n",
       "    }\n",
       "</style>\n",
       "<table border=\"1\" class=\"dataframe\">\n",
       "  <thead>\n",
       "    <tr style=\"text-align: right;\">\n",
       "      <th></th>\n",
       "      <th>ID</th>\n",
       "      <th>Income</th>\n",
       "    </tr>\n",
       "  </thead>\n",
       "  <tbody>\n",
       "    <tr>\n",
       "      <th>0</th>\n",
       "      <td>TEST_0000</td>\n",
       "      <td>0.000000</td>\n",
       "    </tr>\n",
       "    <tr>\n",
       "      <th>1</th>\n",
       "      <td>TEST_0001</td>\n",
       "      <td>9.955983</td>\n",
       "    </tr>\n",
       "    <tr>\n",
       "      <th>2</th>\n",
       "      <td>TEST_0002</td>\n",
       "      <td>413.401847</td>\n",
       "    </tr>\n",
       "    <tr>\n",
       "      <th>3</th>\n",
       "      <td>TEST_0003</td>\n",
       "      <td>613.009230</td>\n",
       "    </tr>\n",
       "    <tr>\n",
       "      <th>4</th>\n",
       "      <td>TEST_0004</td>\n",
       "      <td>3.861380</td>\n",
       "    </tr>\n",
       "    <tr>\n",
       "      <th>...</th>\n",
       "      <td>...</td>\n",
       "      <td>...</td>\n",
       "    </tr>\n",
       "    <tr>\n",
       "      <th>9995</th>\n",
       "      <td>TEST_9995</td>\n",
       "      <td>813.293201</td>\n",
       "    </tr>\n",
       "    <tr>\n",
       "      <th>9996</th>\n",
       "      <td>TEST_9996</td>\n",
       "      <td>781.530637</td>\n",
       "    </tr>\n",
       "    <tr>\n",
       "      <th>9997</th>\n",
       "      <td>TEST_9997</td>\n",
       "      <td>363.059176</td>\n",
       "    </tr>\n",
       "    <tr>\n",
       "      <th>9998</th>\n",
       "      <td>TEST_9998</td>\n",
       "      <td>3.861380</td>\n",
       "    </tr>\n",
       "    <tr>\n",
       "      <th>9999</th>\n",
       "      <td>TEST_9999</td>\n",
       "      <td>646.245176</td>\n",
       "    </tr>\n",
       "  </tbody>\n",
       "</table>\n",
       "<p>10000 rows × 2 columns</p>\n",
       "</div>"
      ],
      "text/plain": [
       "             ID      Income\n",
       "0     TEST_0000    0.000000\n",
       "1     TEST_0001    9.955983\n",
       "2     TEST_0002  413.401847\n",
       "3     TEST_0003  613.009230\n",
       "4     TEST_0004    3.861380\n",
       "...         ...         ...\n",
       "9995  TEST_9995  813.293201\n",
       "9996  TEST_9996  781.530637\n",
       "9997  TEST_9997  363.059176\n",
       "9998  TEST_9998    3.861380\n",
       "9999  TEST_9999  646.245176\n",
       "\n",
       "[10000 rows x 2 columns]"
      ]
     },
     "execution_count": 47,
     "metadata": {},
     "output_type": "execute_result"
    }
   ],
   "source": [
    "submission['Income'] = final_pred\n",
    "submission['Income'] = final_pred_post\n",
    "# submission['Income'] = final_pred_exp\n",
    "submission"
   ]
  },
  {
   "cell_type": "code",
   "execution_count": 48,
   "metadata": {},
   "outputs": [],
   "source": [
    "os.makedirs('submission', exist_ok=True)\n",
    "# submission.to_csv('submission/feat_engineering_0319_2.csv', index=False)\n",
    "# submission.to_csv('submission/feat_engineering_0319_log.csv', index=False)"
   ]
  }
 ],
 "metadata": {
  "kernelspec": {
   "display_name": "torch",
   "language": "python",
   "name": "python3"
  },
  "language_info": {
   "codemirror_mode": {
    "name": "ipython",
    "version": 3
   },
   "file_extension": ".py",
   "mimetype": "text/x-python",
   "name": "python",
   "nbconvert_exporter": "python",
   "pygments_lexer": "ipython3",
   "version": "3.9.18"
  }
 },
 "nbformat": 4,
 "nbformat_minor": 2
}
