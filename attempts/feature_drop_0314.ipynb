{
 "cells": [
  {
   "cell_type": "code",
   "execution_count": 1,
   "metadata": {},
   "outputs": [],
   "source": [
    "import pandas as pd\n",
    "import numpy as np\n",
    "import random\n",
    "import os"
   ]
  },
  {
   "cell_type": "code",
   "execution_count": 2,
   "metadata": {},
   "outputs": [],
   "source": [
    "from sklearn.preprocessing import LabelEncoder\n",
    "from sklearn.model_selection import train_test_split, KFold\n",
    "from sklearn.ensemble import GradientBoostingRegressor\n",
    "from sklearn.metrics import mean_squared_error"
   ]
  },
  {
   "cell_type": "code",
   "execution_count": 3,
   "metadata": {},
   "outputs": [],
   "source": [
    "def seed_everything(seed):\n",
    "    random.seed(seed)\n",
    "    os.environ['PYTHONHASHSEED'] = str(seed)\n",
    "    np.random.seed(seed)\n",
    "\n",
    "seed_everything(42) # Seed 고정"
   ]
  },
  {
   "cell_type": "code",
   "execution_count": 4,
   "metadata": {},
   "outputs": [],
   "source": [
    "# 'Industry_Status',\n",
    "# 'Hispanic_Origin',\n",
    "# 'Household_Status',\n",
    "# 'Birth_Country',\n",
    "# 'Birth_Country (Father)', \n",
    "# 'Birth_Country (Mother)'"
   ]
  },
  {
   "cell_type": "code",
   "execution_count": 5,
   "metadata": {},
   "outputs": [],
   "source": [
    "train = pd.read_csv('data/train.csv')\n",
    "test = pd.read_csv('data/test.csv')\n",
    "\n",
    "trainval_x = train.drop(columns=['ID', 'Income', \n",
    "                                #  'Industry_Status',\n",
    "                                 'Hispanic_Origin', \n",
    "                                 'Household_Status', \n",
    "                                 'Birth_Country', \n",
    "                                 'Birth_Country (Father)', 'Birth_Country (Mother)'\n",
    "                                 ])\n",
    "trainval_y = train['Income']\n",
    "\n",
    "test_x = test.drop(columns=['ID',\n",
    "                            # 'Industry_Status',\n",
    "                            'Hispanic_Origin', \n",
    "                            'Household_Status', \n",
    "                            'Birth_Country', \n",
    "                            'Birth_Country (Father)', 'Birth_Country (Mother)'\n",
    "                            ])"
   ]
  },
  {
   "cell_type": "code",
   "execution_count": 6,
   "metadata": {},
   "outputs": [],
   "source": [
    "encoding_target = list(trainval_x.dtypes[trainval_x.dtypes == \"object\"].index)\n",
    "\n",
    "for i in encoding_target:\n",
    "    le = LabelEncoder()\n",
    "    \n",
    "    # train과 test 데이터셋에서 해당 열의 모든 값을 문자열로 변환\n",
    "    trainval_x[i] = trainval_x[i].astype(str)\n",
    "    test_x[i] = test_x[i].astype(str)\n",
    "    \n",
    "    le.fit(trainval_x[i])\n",
    "    trainval_x[i] = le.transform(trainval_x[i])\n",
    "    \n",
    "    # test 데이터의 새로운 카테고리에 대해 le.classes_ 배열에 추가\n",
    "    for case in np.unique(test_x[i]):\n",
    "        if case not in le.classes_: \n",
    "            le.classes_ = np.append(le.classes_, case)\n",
    "    \n",
    "    test_x[i] = le.transform(test_x[i])"
   ]
  },
  {
   "cell_type": "code",
   "execution_count": 7,
   "metadata": {},
   "outputs": [],
   "source": [
    "kf = KFold(n_splits=5)"
   ]
  },
  {
   "cell_type": "code",
   "execution_count": 8,
   "metadata": {},
   "outputs": [
    {
     "name": "stdout",
     "output_type": "stream",
     "text": [
      "1 fold\n",
      "train error : 438.96\n",
      "val error : 662.13\n",
      "------------------------------\n",
      "2 fold\n",
      "train error : 447.28\n",
      "val error : 622.59\n",
      "------------------------------\n",
      "3 fold\n",
      "train error : 460.00\n",
      "val error : 616.50\n",
      "------------------------------\n",
      "4 fold\n",
      "train error : 450.56\n",
      "val error : 576.63\n",
      "------------------------------\n",
      "5 fold\n",
      "train error : 453.76\n",
      "val error : 590.34\n",
      "------------------------------\n"
     ]
    }
   ],
   "source": [
    "num_fold = 1\n",
    "total_train_error, total_val_error = 0, 0\n",
    "test_preds = []\n",
    "for train_idx, val_idx in kf.split(np.arange(len(trainval_x))):\n",
    "    train_x = trainval_x.iloc[train_idx]\n",
    "    train_y = trainval_y.iloc[train_idx]\n",
    "\n",
    "    val_x = trainval_x.iloc[val_idx]\n",
    "    val_y = trainval_y.iloc[val_idx]\n",
    "\n",
    "    model = GradientBoostingRegressor(max_depth=7)\n",
    "    model.fit(train_x, train_y)\n",
    "\n",
    "    print(f'{num_fold} fold')\n",
    "\n",
    "    train_y_hat = model.predict(train_x)\n",
    "    val_y_hat = model.predict(val_x)\n",
    "\n",
    "    pred = model.predict(test_x)\n",
    "    test_preds.append(pred)\n",
    "\n",
    "    train_error = mean_squared_error(train_y, train_y_hat) ** 0.5\n",
    "    val_error = mean_squared_error(val_y, val_y_hat) ** 0.5\n",
    "\n",
    "    total_train_error += train_error\n",
    "    total_val_error += val_error\n",
    "\n",
    "    print(f'train error : {train_error:.2f}')\n",
    "    print(f'val error : {val_error:.2f}')\n",
    "    \n",
    "    print('-'*30)\n",
    "    num_fold += 1"
   ]
  },
  {
   "cell_type": "code",
   "execution_count": 9,
   "metadata": {},
   "outputs": [
    {
     "name": "stdout",
     "output_type": "stream",
     "text": [
      "final train error : 450.11\n",
      "final val error : 613.64\n"
     ]
    }
   ],
   "source": [
    "print(f'final train error : {total_train_error/5:.2f}')\n",
    "print(f'final val error : {total_val_error/5:.2f}')"
   ]
  },
  {
   "cell_type": "code",
   "execution_count": 10,
   "metadata": {},
   "outputs": [],
   "source": [
    "final_pred = np.array(test_preds).mean(0)"
   ]
  },
  {
   "cell_type": "code",
   "execution_count": 11,
   "metadata": {},
   "outputs": [
    {
     "data": {
      "text/html": [
       "<div>\n",
       "<style scoped>\n",
       "    .dataframe tbody tr th:only-of-type {\n",
       "        vertical-align: middle;\n",
       "    }\n",
       "\n",
       "    .dataframe tbody tr th {\n",
       "        vertical-align: top;\n",
       "    }\n",
       "\n",
       "    .dataframe thead th {\n",
       "        text-align: right;\n",
       "    }\n",
       "</style>\n",
       "<table border=\"1\" class=\"dataframe\">\n",
       "  <thead>\n",
       "    <tr style=\"text-align: right;\">\n",
       "      <th></th>\n",
       "      <th>ID</th>\n",
       "      <th>Income</th>\n",
       "    </tr>\n",
       "  </thead>\n",
       "  <tbody>\n",
       "    <tr>\n",
       "      <th>0</th>\n",
       "      <td>TEST_0000</td>\n",
       "      <td>0</td>\n",
       "    </tr>\n",
       "    <tr>\n",
       "      <th>1</th>\n",
       "      <td>TEST_0001</td>\n",
       "      <td>0</td>\n",
       "    </tr>\n",
       "    <tr>\n",
       "      <th>2</th>\n",
       "      <td>TEST_0002</td>\n",
       "      <td>0</td>\n",
       "    </tr>\n",
       "    <tr>\n",
       "      <th>3</th>\n",
       "      <td>TEST_0003</td>\n",
       "      <td>0</td>\n",
       "    </tr>\n",
       "    <tr>\n",
       "      <th>4</th>\n",
       "      <td>TEST_0004</td>\n",
       "      <td>0</td>\n",
       "    </tr>\n",
       "    <tr>\n",
       "      <th>...</th>\n",
       "      <td>...</td>\n",
       "      <td>...</td>\n",
       "    </tr>\n",
       "    <tr>\n",
       "      <th>9995</th>\n",
       "      <td>TEST_9995</td>\n",
       "      <td>0</td>\n",
       "    </tr>\n",
       "    <tr>\n",
       "      <th>9996</th>\n",
       "      <td>TEST_9996</td>\n",
       "      <td>0</td>\n",
       "    </tr>\n",
       "    <tr>\n",
       "      <th>9997</th>\n",
       "      <td>TEST_9997</td>\n",
       "      <td>0</td>\n",
       "    </tr>\n",
       "    <tr>\n",
       "      <th>9998</th>\n",
       "      <td>TEST_9998</td>\n",
       "      <td>0</td>\n",
       "    </tr>\n",
       "    <tr>\n",
       "      <th>9999</th>\n",
       "      <td>TEST_9999</td>\n",
       "      <td>0</td>\n",
       "    </tr>\n",
       "  </tbody>\n",
       "</table>\n",
       "<p>10000 rows × 2 columns</p>\n",
       "</div>"
      ],
      "text/plain": [
       "             ID  Income\n",
       "0     TEST_0000       0\n",
       "1     TEST_0001       0\n",
       "2     TEST_0002       0\n",
       "3     TEST_0003       0\n",
       "4     TEST_0004       0\n",
       "...         ...     ...\n",
       "9995  TEST_9995       0\n",
       "9996  TEST_9996       0\n",
       "9997  TEST_9997       0\n",
       "9998  TEST_9998       0\n",
       "9999  TEST_9999       0\n",
       "\n",
       "[10000 rows x 2 columns]"
      ]
     },
     "execution_count": 11,
     "metadata": {},
     "output_type": "execute_result"
    }
   ],
   "source": [
    "submission = pd.read_csv('data/sample_submission.csv')\n",
    "submission"
   ]
  },
  {
   "cell_type": "code",
   "execution_count": 12,
   "metadata": {},
   "outputs": [
    {
     "data": {
      "text/html": [
       "<div>\n",
       "<style scoped>\n",
       "    .dataframe tbody tr th:only-of-type {\n",
       "        vertical-align: middle;\n",
       "    }\n",
       "\n",
       "    .dataframe tbody tr th {\n",
       "        vertical-align: top;\n",
       "    }\n",
       "\n",
       "    .dataframe thead th {\n",
       "        text-align: right;\n",
       "    }\n",
       "</style>\n",
       "<table border=\"1\" class=\"dataframe\">\n",
       "  <thead>\n",
       "    <tr style=\"text-align: right;\">\n",
       "      <th></th>\n",
       "      <th>ID</th>\n",
       "      <th>Income</th>\n",
       "    </tr>\n",
       "  </thead>\n",
       "  <tbody>\n",
       "    <tr>\n",
       "      <th>0</th>\n",
       "      <td>TEST_0000</td>\n",
       "      <td>-6.154207</td>\n",
       "    </tr>\n",
       "    <tr>\n",
       "      <th>1</th>\n",
       "      <td>TEST_0001</td>\n",
       "      <td>-8.271913</td>\n",
       "    </tr>\n",
       "    <tr>\n",
       "      <th>2</th>\n",
       "      <td>TEST_0002</td>\n",
       "      <td>405.154783</td>\n",
       "    </tr>\n",
       "    <tr>\n",
       "      <th>3</th>\n",
       "      <td>TEST_0003</td>\n",
       "      <td>722.505777</td>\n",
       "    </tr>\n",
       "    <tr>\n",
       "      <th>4</th>\n",
       "      <td>TEST_0004</td>\n",
       "      <td>1.549360</td>\n",
       "    </tr>\n",
       "    <tr>\n",
       "      <th>...</th>\n",
       "      <td>...</td>\n",
       "      <td>...</td>\n",
       "    </tr>\n",
       "    <tr>\n",
       "      <th>9995</th>\n",
       "      <td>TEST_9995</td>\n",
       "      <td>860.164394</td>\n",
       "    </tr>\n",
       "    <tr>\n",
       "      <th>9996</th>\n",
       "      <td>TEST_9996</td>\n",
       "      <td>807.807321</td>\n",
       "    </tr>\n",
       "    <tr>\n",
       "      <th>9997</th>\n",
       "      <td>TEST_9997</td>\n",
       "      <td>367.145699</td>\n",
       "    </tr>\n",
       "    <tr>\n",
       "      <th>9998</th>\n",
       "      <td>TEST_9998</td>\n",
       "      <td>3.705860</td>\n",
       "    </tr>\n",
       "    <tr>\n",
       "      <th>9999</th>\n",
       "      <td>TEST_9999</td>\n",
       "      <td>570.400583</td>\n",
       "    </tr>\n",
       "  </tbody>\n",
       "</table>\n",
       "<p>10000 rows × 2 columns</p>\n",
       "</div>"
      ],
      "text/plain": [
       "             ID      Income\n",
       "0     TEST_0000   -6.154207\n",
       "1     TEST_0001   -8.271913\n",
       "2     TEST_0002  405.154783\n",
       "3     TEST_0003  722.505777\n",
       "4     TEST_0004    1.549360\n",
       "...         ...         ...\n",
       "9995  TEST_9995  860.164394\n",
       "9996  TEST_9996  807.807321\n",
       "9997  TEST_9997  367.145699\n",
       "9998  TEST_9998    3.705860\n",
       "9999  TEST_9999  570.400583\n",
       "\n",
       "[10000 rows x 2 columns]"
      ]
     },
     "execution_count": 12,
     "metadata": {},
     "output_type": "execute_result"
    }
   ],
   "source": [
    "submission['Income'] = final_pred\n",
    "submission"
   ]
  },
  {
   "cell_type": "code",
   "execution_count": 13,
   "metadata": {},
   "outputs": [],
   "source": [
    "os.makedirs('submission', exist_ok=True)\n",
    "# submission.to_csv('submission/baseline_0314.csv', index=False)\n",
    "submission.to_csv('submission/feat_engineering_0314.csv', index=False)"
   ]
  }
 ],
 "metadata": {
  "kernelspec": {
   "display_name": "torch",
   "language": "python",
   "name": "python3"
  },
  "language_info": {
   "codemirror_mode": {
    "name": "ipython",
    "version": 3
   },
   "file_extension": ".py",
   "mimetype": "text/x-python",
   "name": "python",
   "nbconvert_exporter": "python",
   "pygments_lexer": "ipython3",
   "version": "3.9.18"
  }
 },
 "nbformat": 4,
 "nbformat_minor": 2
}
