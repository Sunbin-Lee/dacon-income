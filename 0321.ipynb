{
 "cells": [
  {
   "cell_type": "code",
   "execution_count": 1,
   "metadata": {},
   "outputs": [],
   "source": [
    "import pandas as pd\n",
    "import numpy as np\n",
    "import random\n",
    "import os"
   ]
  },
  {
   "cell_type": "code",
   "execution_count": 2,
   "metadata": {},
   "outputs": [],
   "source": [
    "from sklearn.preprocessing import LabelEncoder, OneHotEncoder, StandardScaler\n",
    "from sklearn.model_selection import train_test_split, KFold\n",
    "from sklearn.ensemble import GradientBoostingClassifier, GradientBoostingRegressor\n",
    "from sklearn.metrics import accuracy_score, mean_squared_error, confusion_matrix"
   ]
  },
  {
   "cell_type": "code",
   "execution_count": 3,
   "metadata": {},
   "outputs": [],
   "source": [
    "import matplotlib.pyplot as plt\n",
    "import seaborn as sns"
   ]
  },
  {
   "cell_type": "code",
   "execution_count": 4,
   "metadata": {},
   "outputs": [],
   "source": [
    "def seed_everything(seed):\n",
    "    random.seed(seed)\n",
    "    os.environ['PYTHONHASHSEED'] = str(seed)\n",
    "    np.random.seed(seed)\n",
    "\n",
    "seed_everything(42) # Seed 고정"
   ]
  },
  {
   "cell_type": "code",
   "execution_count": 5,
   "metadata": {},
   "outputs": [],
   "source": [
    "# 'Industry_Status',\n",
    "# 'Hispanic_Origin',\n",
    "# 'Household_Status',\n",
    "# 'Birth_Country',\n",
    "# 'Birth_Country (Father)', \n",
    "# 'Birth_Country (Mother)'"
   ]
  },
  {
   "cell_type": "code",
   "execution_count": 6,
   "metadata": {},
   "outputs": [],
   "source": [
    "train = pd.read_csv('data/train.csv')\n",
    "test = pd.read_csv('data/test.csv')"
   ]
  },
  {
   "cell_type": "code",
   "execution_count": 7,
   "metadata": {},
   "outputs": [
    {
     "data": {
      "text/plain": [
       "Index(['ID', 'Age', 'Gender', 'Education_Status', 'Employment_Status',\n",
       "       'Working_Week (Yearly)', 'Industry_Status', 'Occupation_Status', 'Race',\n",
       "       'Hispanic_Origin', 'Martial_Status', 'Household_Status',\n",
       "       'Household_Summary', 'Citizenship', 'Birth_Country',\n",
       "       'Birth_Country (Father)', 'Birth_Country (Mother)', 'Tax_Status',\n",
       "       'Gains', 'Losses', 'Dividends', 'Income_Status', 'Income'],\n",
       "      dtype='object')"
      ]
     },
     "execution_count": 7,
     "metadata": {},
     "output_type": "execute_result"
    }
   ],
   "source": [
    "train.columns"
   ]
  },
  {
   "cell_type": "markdown",
   "metadata": {},
   "source": [
    "### modify education"
   ]
  },
  {
   "cell_type": "code",
   "execution_count": 8,
   "metadata": {},
   "outputs": [],
   "source": [
    "def modify_education(education):\n",
    "    if education in ['Children', 'Kindergarten', 'Elementary (1-4)', 'Elementary (5-6)', \n",
    "                     'Middle (7-8)', 'High Freshman', 'High Sophomore', \n",
    "                     'High Junior', 'High Senior']:\n",
    "        return 'dropout'\n",
    "    elif education in ['College', 'Associates degree (Academic)', 'Associates degree (Vocational)']:\n",
    "        return 'CommunityCollege'\n",
    "    elif education in ['Professional degree', 'Masters degree']:\n",
    "        return 'Masters degree'\n",
    "    else:\n",
    "        return education"
   ]
  },
  {
   "cell_type": "code",
   "execution_count": 9,
   "metadata": {},
   "outputs": [],
   "source": [
    "train['Education'] = train['Education_Status']\n",
    "train['Education'] = train['Education'].apply(modify_education)"
   ]
  },
  {
   "cell_type": "code",
   "execution_count": 10,
   "metadata": {},
   "outputs": [],
   "source": [
    "test['Education'] = test['Education_Status']\n",
    "test['Education'] = test['Education'].apply(modify_education)"
   ]
  },
  {
   "cell_type": "markdown",
   "metadata": {},
   "source": [
    "### modify income status"
   ]
  },
  {
   "cell_type": "code",
   "execution_count": 11,
   "metadata": {},
   "outputs": [],
   "source": [
    "def modify_income_status(status):\n",
    "    if status in ['Unknown', 'Under Median']:\n",
    "        return 'Under Median'\n",
    "    else:\n",
    "        return status"
   ]
  },
  {
   "cell_type": "code",
   "execution_count": 12,
   "metadata": {},
   "outputs": [],
   "source": [
    "train['Income_Status'] = train['Income_Status'].apply(modify_income_status)\n",
    "test['Income_Status'] = test['Income_Status'].apply(modify_income_status)"
   ]
  },
  {
   "cell_type": "markdown",
   "metadata": {},
   "source": [
    "### income==0 예측"
   ]
  },
  {
   "cell_type": "code",
   "execution_count": 13,
   "metadata": {},
   "outputs": [],
   "source": [
    "train['Income_nonzero'] = train['Income'] > 0"
   ]
  },
  {
   "cell_type": "code",
   "execution_count": 14,
   "metadata": {},
   "outputs": [
    {
     "data": {
      "text/html": [
       "<div>\n",
       "<style scoped>\n",
       "    .dataframe tbody tr th:only-of-type {\n",
       "        vertical-align: middle;\n",
       "    }\n",
       "\n",
       "    .dataframe tbody tr th {\n",
       "        vertical-align: top;\n",
       "    }\n",
       "\n",
       "    .dataframe thead th {\n",
       "        text-align: right;\n",
       "    }\n",
       "</style>\n",
       "<table border=\"1\" class=\"dataframe\">\n",
       "  <thead>\n",
       "    <tr style=\"text-align: right;\">\n",
       "      <th></th>\n",
       "      <th>ID</th>\n",
       "      <th>Age</th>\n",
       "      <th>Gender</th>\n",
       "      <th>Education_Status</th>\n",
       "      <th>Employment_Status</th>\n",
       "      <th>Working_Week (Yearly)</th>\n",
       "      <th>Industry_Status</th>\n",
       "      <th>Occupation_Status</th>\n",
       "      <th>Race</th>\n",
       "      <th>Hispanic_Origin</th>\n",
       "      <th>...</th>\n",
       "      <th>Birth_Country (Father)</th>\n",
       "      <th>Birth_Country (Mother)</th>\n",
       "      <th>Tax_Status</th>\n",
       "      <th>Gains</th>\n",
       "      <th>Losses</th>\n",
       "      <th>Dividends</th>\n",
       "      <th>Income_Status</th>\n",
       "      <th>Income</th>\n",
       "      <th>Education</th>\n",
       "      <th>Income_nonzero</th>\n",
       "    </tr>\n",
       "  </thead>\n",
       "  <tbody>\n",
       "    <tr>\n",
       "      <th>0</th>\n",
       "      <td>TRAIN_00000</td>\n",
       "      <td>63</td>\n",
       "      <td>M</td>\n",
       "      <td>Middle (7-8)</td>\n",
       "      <td>Full-Time</td>\n",
       "      <td>4</td>\n",
       "      <td>Social Services</td>\n",
       "      <td>Services</td>\n",
       "      <td>White</td>\n",
       "      <td>All other</td>\n",
       "      <td>...</td>\n",
       "      <td>US</td>\n",
       "      <td>US</td>\n",
       "      <td>Nonfiler</td>\n",
       "      <td>0</td>\n",
       "      <td>0</td>\n",
       "      <td>0</td>\n",
       "      <td>Under Median</td>\n",
       "      <td>425</td>\n",
       "      <td>dropout</td>\n",
       "      <td>True</td>\n",
       "    </tr>\n",
       "    <tr>\n",
       "      <th>1</th>\n",
       "      <td>TRAIN_00001</td>\n",
       "      <td>37</td>\n",
       "      <td>M</td>\n",
       "      <td>Associates degree (Vocational)</td>\n",
       "      <td>Full-Time</td>\n",
       "      <td>52</td>\n",
       "      <td>Entertainment</td>\n",
       "      <td>Services</td>\n",
       "      <td>White</td>\n",
       "      <td>All other</td>\n",
       "      <td>...</td>\n",
       "      <td>US</td>\n",
       "      <td>US</td>\n",
       "      <td>Single</td>\n",
       "      <td>0</td>\n",
       "      <td>0</td>\n",
       "      <td>0</td>\n",
       "      <td>Under Median</td>\n",
       "      <td>0</td>\n",
       "      <td>CommunityCollege</td>\n",
       "      <td>False</td>\n",
       "    </tr>\n",
       "    <tr>\n",
       "      <th>2</th>\n",
       "      <td>TRAIN_00002</td>\n",
       "      <td>58</td>\n",
       "      <td>F</td>\n",
       "      <td>High graduate</td>\n",
       "      <td>Full-Time</td>\n",
       "      <td>52</td>\n",
       "      <td>Manufacturing (Non-durable)</td>\n",
       "      <td>Admin Support (include Clerical)</td>\n",
       "      <td>Black</td>\n",
       "      <td>All other</td>\n",
       "      <td>...</td>\n",
       "      <td>US</td>\n",
       "      <td>US</td>\n",
       "      <td>Married Filling Jointly both under 65 (MFJ)</td>\n",
       "      <td>3411</td>\n",
       "      <td>0</td>\n",
       "      <td>0</td>\n",
       "      <td>Under Median</td>\n",
       "      <td>860</td>\n",
       "      <td>High graduate</td>\n",
       "      <td>True</td>\n",
       "    </tr>\n",
       "    <tr>\n",
       "      <th>3</th>\n",
       "      <td>TRAIN_00003</td>\n",
       "      <td>44</td>\n",
       "      <td>M</td>\n",
       "      <td>High graduate</td>\n",
       "      <td>Full-Time</td>\n",
       "      <td>52</td>\n",
       "      <td>Retail</td>\n",
       "      <td>Technicians &amp; Support</td>\n",
       "      <td>White</td>\n",
       "      <td>All other</td>\n",
       "      <td>...</td>\n",
       "      <td>US</td>\n",
       "      <td>US</td>\n",
       "      <td>Single</td>\n",
       "      <td>0</td>\n",
       "      <td>0</td>\n",
       "      <td>0</td>\n",
       "      <td>Under Median</td>\n",
       "      <td>850</td>\n",
       "      <td>High graduate</td>\n",
       "      <td>True</td>\n",
       "    </tr>\n",
       "    <tr>\n",
       "      <th>4</th>\n",
       "      <td>TRAIN_00004</td>\n",
       "      <td>37</td>\n",
       "      <td>F</td>\n",
       "      <td>High graduate</td>\n",
       "      <td>Full-Time</td>\n",
       "      <td>52</td>\n",
       "      <td>Retail</td>\n",
       "      <td>Sales</td>\n",
       "      <td>White</td>\n",
       "      <td>All other</td>\n",
       "      <td>...</td>\n",
       "      <td>US</td>\n",
       "      <td>US</td>\n",
       "      <td>Head of Household (HOH)</td>\n",
       "      <td>0</td>\n",
       "      <td>0</td>\n",
       "      <td>0</td>\n",
       "      <td>Under Median</td>\n",
       "      <td>570</td>\n",
       "      <td>High graduate</td>\n",
       "      <td>True</td>\n",
       "    </tr>\n",
       "  </tbody>\n",
       "</table>\n",
       "<p>5 rows × 25 columns</p>\n",
       "</div>"
      ],
      "text/plain": [
       "            ID  Age Gender                Education_Status Employment_Status  \\\n",
       "0  TRAIN_00000   63      M                    Middle (7-8)         Full-Time   \n",
       "1  TRAIN_00001   37      M  Associates degree (Vocational)         Full-Time   \n",
       "2  TRAIN_00002   58      F                   High graduate         Full-Time   \n",
       "3  TRAIN_00003   44      M                   High graduate         Full-Time   \n",
       "4  TRAIN_00004   37      F                   High graduate         Full-Time   \n",
       "\n",
       "   Working_Week (Yearly)              Industry_Status  \\\n",
       "0                      4              Social Services   \n",
       "1                     52                Entertainment   \n",
       "2                     52  Manufacturing (Non-durable)   \n",
       "3                     52                       Retail   \n",
       "4                     52                       Retail   \n",
       "\n",
       "                  Occupation_Status   Race Hispanic_Origin  ...  \\\n",
       "0                          Services  White       All other  ...   \n",
       "1                          Services  White       All other  ...   \n",
       "2  Admin Support (include Clerical)  Black       All other  ...   \n",
       "3             Technicians & Support  White       All other  ...   \n",
       "4                             Sales  White       All other  ...   \n",
       "\n",
       "  Birth_Country (Father) Birth_Country (Mother)  \\\n",
       "0                     US                     US   \n",
       "1                     US                     US   \n",
       "2                     US                     US   \n",
       "3                     US                     US   \n",
       "4                     US                     US   \n",
       "\n",
       "                                    Tax_Status Gains Losses Dividends  \\\n",
       "0                                     Nonfiler     0      0         0   \n",
       "1                                       Single     0      0         0   \n",
       "2  Married Filling Jointly both under 65 (MFJ)  3411      0         0   \n",
       "3                                       Single     0      0         0   \n",
       "4                      Head of Household (HOH)     0      0         0   \n",
       "\n",
       "  Income_Status Income         Education  Income_nonzero  \n",
       "0  Under Median    425           dropout            True  \n",
       "1  Under Median      0  CommunityCollege           False  \n",
       "2  Under Median    860     High graduate            True  \n",
       "3  Under Median    850     High graduate            True  \n",
       "4  Under Median    570     High graduate            True  \n",
       "\n",
       "[5 rows x 25 columns]"
      ]
     },
     "execution_count": 14,
     "metadata": {},
     "output_type": "execute_result"
    }
   ],
   "source": [
    "train.head()"
   ]
  },
  {
   "cell_type": "markdown",
   "metadata": {},
   "source": [
    "### main"
   ]
  },
  {
   "cell_type": "code",
   "execution_count": 15,
   "metadata": {},
   "outputs": [],
   "source": [
    "trainval_x = train.drop(columns=['ID', 'Income', \n",
    "                                 'Hispanic_Origin', \n",
    "                                 'Household_Status', \n",
    "                                 'Birth_Country', \n",
    "                                 'Birth_Country (Father)', 'Birth_Country (Mother)',\n",
    "                                 'Education_Status',\n",
    "                                 'Income_nonzero'\n",
    "                                 ])\n",
    "trainval_y_nonzero = train['Income_nonzero']\n",
    "trainval_y = train['Income']\n",
    "\n",
    "test_x = test.drop(columns=['ID',\n",
    "                            'Hispanic_Origin', \n",
    "                            'Household_Status', \n",
    "                            'Birth_Country', \n",
    "                            'Birth_Country (Father)', 'Birth_Country (Mother)',\n",
    "                            'Education_Status',\n",
    "                            ])"
   ]
  },
  {
   "cell_type": "code",
   "execution_count": 16,
   "metadata": {},
   "outputs": [
    {
     "name": "stdout",
     "output_type": "stream",
     "text": [
      "<class 'pandas.core.frame.DataFrame'>\n",
      "RangeIndex: 20000 entries, 0 to 19999\n",
      "Data columns (total 16 columns):\n",
      " #   Column                 Non-Null Count  Dtype \n",
      "---  ------                 --------------  ----- \n",
      " 0   Age                    20000 non-null  int64 \n",
      " 1   Gender                 20000 non-null  object\n",
      " 2   Employment_Status      20000 non-null  object\n",
      " 3   Working_Week (Yearly)  20000 non-null  int64 \n",
      " 4   Industry_Status        20000 non-null  object\n",
      " 5   Occupation_Status      20000 non-null  object\n",
      " 6   Race                   20000 non-null  object\n",
      " 7   Martial_Status         20000 non-null  object\n",
      " 8   Household_Summary      20000 non-null  object\n",
      " 9   Citizenship            20000 non-null  object\n",
      " 10  Tax_Status             20000 non-null  object\n",
      " 11  Gains                  20000 non-null  int64 \n",
      " 12  Losses                 20000 non-null  int64 \n",
      " 13  Dividends              20000 non-null  int64 \n",
      " 14  Income_Status          20000 non-null  object\n",
      " 15  Education              20000 non-null  object\n",
      "dtypes: int64(5), object(11)\n",
      "memory usage: 2.4+ MB\n"
     ]
    }
   ],
   "source": [
    "trainval_x.info()"
   ]
  },
  {
   "cell_type": "code",
   "execution_count": 17,
   "metadata": {},
   "outputs": [
    {
     "name": "stdout",
     "output_type": "stream",
     "text": [
      "save\n"
     ]
    }
   ],
   "source": [
    "encoding_target = list(trainval_x.dtypes[trainval_x.dtypes == \"object\"].index)\n",
    "\n",
    "for i in encoding_target:\n",
    "    le = LabelEncoder()\n",
    "    \n",
    "    # train과 test 데이터셋에서 해당 열의 모든 값을 문자열로 변환\n",
    "    trainval_x[i] = trainval_x[i].astype(str)\n",
    "    test_x[i] = test_x[i].astype(str)\n",
    "    \n",
    "    le.fit(trainval_x[i])\n",
    "    trainval_x[i] = le.transform(trainval_x[i])\n",
    "    \n",
    "    # test 데이터의 새로운 카테고리에 대해 le.classes_ 배열에 추가\n",
    "    for case in np.unique(test_x[i]):\n",
    "        if case not in le.classes_: \n",
    "            print('case')\n",
    "            le.classes_ = np.append(le.classes_, case)\n",
    "    \n",
    "    if i == 'Occupation_Status':\n",
    "        save_le = le\n",
    "        print('save')\n",
    "        \n",
    "    test_x[i] = le.transform(test_x[i])"
   ]
  },
  {
   "cell_type": "code",
   "execution_count": 18,
   "metadata": {},
   "outputs": [],
   "source": [
    "train_idx, val_idx = train_test_split(np.arange(len(trainval_x)), stratify=trainval_y_nonzero, test_size=0.2)"
   ]
  },
  {
   "cell_type": "code",
   "execution_count": 19,
   "metadata": {},
   "outputs": [],
   "source": [
    "train_x = trainval_x.iloc[train_idx]\n",
    "train_y_nonzero = trainval_y_nonzero[train_idx]\n",
    "train_y = trainval_y[train_idx]\n",
    "\n",
    "val_x = trainval_x.iloc[val_idx]\n",
    "val_y_nonzero = trainval_y_nonzero[val_idx]\n",
    "val_y = trainval_y[val_idx]"
   ]
  },
  {
   "cell_type": "code",
   "execution_count": 20,
   "metadata": {},
   "outputs": [
    {
     "data": {
      "text/plain": [
       "GradientBoostingClassifier(max_depth=7)"
      ]
     },
     "execution_count": 20,
     "metadata": {},
     "output_type": "execute_result"
    }
   ],
   "source": [
    "clf = GradientBoostingClassifier(max_depth=7)\n",
    "clf.fit(train_x, train_y_nonzero)"
   ]
  },
  {
   "cell_type": "code",
   "execution_count": 21,
   "metadata": {},
   "outputs": [
    {
     "name": "stdout",
     "output_type": "stream",
     "text": [
      "train acc : 87.01\n",
      "val acc : 81.58\n"
     ]
    }
   ],
   "source": [
    "train_y_nonzero_hat = clf.predict(train_x)\n",
    "train_acc = accuracy_score(train_y_nonzero, train_y_nonzero_hat)\n",
    "print(f'train acc : {train_acc*100:.2f}')\n",
    "\n",
    "val_y_nonzero_hat = clf.predict(val_x)\n",
    "val_acc = accuracy_score(val_y_nonzero, val_y_nonzero_hat)\n",
    "print(f'val acc : {val_acc*100:.2f}')"
   ]
  },
  {
   "cell_type": "code",
   "execution_count": 22,
   "metadata": {},
   "outputs": [],
   "source": [
    "feature_importance = clf.feature_importances_\n",
    "importance_df = pd.Series(feature_importance, trainval_x.columns)\n",
    "importance_df.sort_values(inplace=True)"
   ]
  },
  {
   "cell_type": "code",
   "execution_count": 23,
   "metadata": {},
   "outputs": [
    {
     "data": {
      "image/png": "[encoded data removed]",
      "text/plain": [
       "<Figure size 432x288 with 1 Axes>"
      ]
     },
     "metadata": {
      "needs_background": "light"
     },
     "output_type": "display_data"
    }
   ],
   "source": [
    "plt.barh(np.arange(len(importance_df)), importance_df)\n",
    "plt.yticks(np.arange(len(importance_df)), importance_df.index)\n",
    "plt.show()"
   ]
  },
  {
   "cell_type": "code",
   "execution_count": 24,
   "metadata": {},
   "outputs": [
    {
     "name": "stdout",
     "output_type": "stream",
     "text": [
      "[[0.64922369 0.35077631]\n",
      " [0.05616984 0.94383016]]\n"
     ]
    },
    {
     "data": {
      "image/png": "[encoded data removed]",
      "text/plain": [
       "<Figure size 432x288 with 2 Axes>"
      ]
     },
     "metadata": {
      "needs_background": "light"
     },
     "output_type": "display_data"
    }
   ],
   "source": [
    "cm = confusion_matrix(val_y_nonzero, val_y_nonzero_hat, normalize='true')\n",
    "print(cm)\n",
    "sns.heatmap(cm, annot=True, cmap='Blues')\n",
    "plt.xlabel('predicted')\n",
    "plt.ylabel('true')\n",
    "plt.show()"
   ]
  },
  {
   "cell_type": "markdown",
   "metadata": {},
   "source": [
    "### income 0을 1로 예측함"
   ]
  },
  {
   "cell_type": "code",
   "execution_count": 25,
   "metadata": {},
   "outputs": [],
   "source": [
    "np.where(val_y_nonzero!=val_y_nonzero_hat)[0]\n",
    "df1 = val_x.iloc[np.where(val_y_nonzero==val_y_nonzero_hat)[0]]\n",
    "df2 = val_x.iloc[np.where(val_y_nonzero!=val_y_nonzero_hat)[0]]"
   ]
  },
  {
   "cell_type": "code",
   "execution_count": 26,
   "metadata": {},
   "outputs": [],
   "source": [
    "check_1 = save_le.inverse_transform(df1['Occupation_Status'])\n",
    "check_2 = save_le.inverse_transform(df2['Occupation_Status'])"
   ]
  },
  {
   "cell_type": "code",
   "execution_count": 28,
   "metadata": {},
   "outputs": [
    {
     "data": {
      "text/plain": [
       "array(['Unknown', 'Unknown', 'Admin Support (include Clerical)', ...,\n",
       "       'Transportation', 'Unknown', 'Unknown'], dtype=object)"
      ]
     },
     "execution_count": 28,
     "metadata": {},
     "output_type": "execute_result"
    }
   ],
   "source": [
    "check_1"
   ]
  },
  {
   "cell_type": "code",
   "execution_count": 29,
   "metadata": {},
   "outputs": [
    {
     "data": {
      "text/plain": [
       "array(['Management', 'Professional', 'Craft & Repair', 'Professional',\n",
       "       'Transportation', 'Admin Support (include Clerical)',\n",
       "       'Craft & Repair', 'Services', 'Professional', 'Sales',\n",
       "       'Professional', 'Farming & Forestry & Fishing', 'Professional',\n",
       "       'Craft & Repair', 'Transportation', 'Services', 'Sales',\n",
       "       'Professional', 'Admin Support (include Clerical)', 'Sales',\n",
       "       'Transportation', 'Management', 'Management',\n",
       "       'Admin Support (include Clerical)',\n",
       "       'Admin Support (include Clerical)', 'Services', 'Sales',\n",
       "       'Handlers/Cleaners', 'Handlers/Cleaners', 'Sales',\n",
       "       'Transportation', 'Services', 'Services', 'Services', 'Management',\n",
       "       'Sales', 'Machine Operators & Inspectors', 'Services', 'Services',\n",
       "       'Services', 'Professional', 'Admin Support (include Clerical)',\n",
       "       'Professional', 'Services', 'Admin Support (include Clerical)',\n",
       "       'Management', 'Professional', 'Machine Operators & Inspectors',\n",
       "       'Professional', 'Admin Support (include Clerical)', 'Services',\n",
       "       'Handlers/Cleaners', 'Transportation',\n",
       "       'Private Household Services', 'Admin Support (include Clerical)',\n",
       "       'Admin Support (include Clerical)', 'Services',\n",
       "       'Admin Support (include Clerical)', 'Farming & Forestry & Fishing',\n",
       "       'Sales', 'Sales', 'Admin Support (include Clerical)',\n",
       "       'Professional', 'Services', 'Professional', 'Management',\n",
       "       'Craft & Repair', 'Professional', 'Sales', 'Professional',\n",
       "       'Transportation', 'Professional', 'Craft & Repair', 'Professional',\n",
       "       'Transportation', 'Admin Support (include Clerical)', 'Services',\n",
       "       'Handlers/Cleaners', 'Handlers/Cleaners', 'Services', 'Services',\n",
       "       'Sales', 'Admin Support (include Clerical)',\n",
       "       'Admin Support (include Clerical)', 'Sales', 'Transportation',\n",
       "       'Admin Support (include Clerical)', 'Craft & Repair',\n",
       "       'Craft & Repair', 'Admin Support (include Clerical)',\n",
       "       'Professional', 'Sales', 'Transportation', 'Craft & Repair',\n",
       "       'Craft & Repair', 'Admin Support (include Clerical)',\n",
       "       'Craft & Repair', 'Handlers/Cleaners', 'Craft & Repair',\n",
       "       'Services', 'Craft & Repair', 'Technicians & Support',\n",
       "       'Professional', 'Transportation', 'Sales', 'Technicians & Support',\n",
       "       'Handlers/Cleaners', 'Professional', 'Craft & Repair', 'Services',\n",
       "       'Transportation', 'Sales', 'Admin Support (include Clerical)',\n",
       "       'Admin Support (include Clerical)', 'Services', 'Sales',\n",
       "       'Services', 'Machine Operators & Inspectors', 'Management',\n",
       "       'Admin Support (include Clerical)', 'Craft & Repair', 'Sales',\n",
       "       'Craft & Repair', 'Professional', 'Professional', 'Sales',\n",
       "       'Admin Support (include Clerical)', 'Services', 'Sales',\n",
       "       'Professional', 'Admin Support (include Clerical)',\n",
       "       'Admin Support (include Clerical)', 'Professional', 'Sales',\n",
       "       'Admin Support (include Clerical)',\n",
       "       'Machine Operators & Inspectors', 'Services', 'Services',\n",
       "       'Admin Support (include Clerical)', 'Services', 'Professional',\n",
       "       'Services', 'Professional', 'Professional', 'Services', 'Services',\n",
       "       'Management', 'Management', 'Transportation', 'Services',\n",
       "       'Services', 'Management', 'Management',\n",
       "       'Machine Operators & Inspectors', 'Management',\n",
       "       'Technicians & Support', 'Admin Support (include Clerical)',\n",
       "       'Sales', 'Sales', 'Farming & Forestry & Fishing', 'Services',\n",
       "       'Craft & Repair', 'Services', 'Services', 'Technicians & Support',\n",
       "       'Handlers/Cleaners', 'Admin Support (include Clerical)',\n",
       "       'Services', 'Admin Support (include Clerical)', 'Professional',\n",
       "       'Machine Operators & Inspectors', 'Craft & Repair', 'Services',\n",
       "       'Admin Support (include Clerical)', 'Management', 'Sales', 'Sales',\n",
       "       'Farming & Forestry & Fishing', 'Management', 'Services',\n",
       "       'Machine Operators & Inspectors', 'Management', 'Management',\n",
       "       'Management', 'Professional', 'Management', 'Craft & Repair',\n",
       "       'Professional', 'Admin Support (include Clerical)', 'Services',\n",
       "       'Handlers/Cleaners', 'Craft & Repair', 'Sales', 'Management',\n",
       "       'Farming & Forestry & Fishing', 'Sales', 'Sales', 'Professional',\n",
       "       'Sales', 'Professional', 'Farming & Forestry & Fishing',\n",
       "       'Management', 'Machine Operators & Inspectors', 'Management',\n",
       "       'Professional', 'Admin Support (include Clerical)', 'Sales',\n",
       "       'Management', 'Admin Support (include Clerical)', 'Management',\n",
       "       'Professional', 'Management', 'Sales', 'Management',\n",
       "       'Professional', 'Sales', 'Management',\n",
       "       'Farming & Forestry & Fishing', 'Admin Support (include Clerical)',\n",
       "       'Professional', 'Craft & Repair', 'Services', 'Handlers/Cleaners',\n",
       "       'Professional', 'Admin Support (include Clerical)',\n",
       "       'Admin Support (include Clerical)', 'Professional', 'Management',\n",
       "       'Admin Support (include Clerical)', 'Services', 'Craft & Repair',\n",
       "       'Professional', 'Professional', 'Admin Support (include Clerical)',\n",
       "       'Sales', 'Professional', 'Craft & Repair',\n",
       "       'Admin Support (include Clerical)', 'Sales',\n",
       "       'Technicians & Support', 'Craft & Repair', 'Professional',\n",
       "       'Handlers/Cleaners', 'Sales', 'Professional',\n",
       "       'Admin Support (include Clerical)',\n",
       "       'Machine Operators & Inspectors',\n",
       "       'Admin Support (include Clerical)', 'Professional',\n",
       "       'Farming & Forestry & Fishing', 'Services',\n",
       "       'Farming & Forestry & Fishing', 'Services', 'Management',\n",
       "       'Handlers/Cleaners', 'Craft & Repair', 'Services',\n",
       "       'Admin Support (include Clerical)', 'Sales', 'Transportation',\n",
       "       'Craft & Repair', 'Admin Support (include Clerical)', 'Services',\n",
       "       'Management', 'Technicians & Support',\n",
       "       'Admin Support (include Clerical)',\n",
       "       'Machine Operators & Inspectors', 'Management', 'Management',\n",
       "       'Machine Operators & Inspectors', 'Services', 'Craft & Repair',\n",
       "       'Craft & Repair', 'Professional', 'Services', 'Services',\n",
       "       'Professional', 'Transportation', 'Farming & Forestry & Fishing',\n",
       "       'Professional', 'Admin Support (include Clerical)',\n",
       "       'Craft & Repair', 'Admin Support (include Clerical)',\n",
       "       'Farming & Forestry & Fishing', 'Sales', 'Services', 'Services',\n",
       "       'Handlers/Cleaners', 'Management', 'Management', 'Professional',\n",
       "       'Admin Support (include Clerical)', 'Professional',\n",
       "       'Transportation', 'Management', 'Management', 'Professional',\n",
       "       'Services', 'Craft & Repair', 'Admin Support (include Clerical)',\n",
       "       'Sales', 'Protective Services', 'Professional', 'Management',\n",
       "       'Admin Support (include Clerical)', 'Professional', 'Services',\n",
       "       'Management', 'Protective Services', 'Sales', 'Professional',\n",
       "       'Technicians & Support', 'Professional',\n",
       "       'Admin Support (include Clerical)', 'Professional', 'Professional',\n",
       "       'Management', 'Services', 'Professional',\n",
       "       'Admin Support (include Clerical)',\n",
       "       'Admin Support (include Clerical)', 'Protective Services',\n",
       "       'Craft & Repair', 'Sales', 'Professional', 'Sales',\n",
       "       'Admin Support (include Clerical)', 'Craft & Repair',\n",
       "       'Professional', 'Admin Support (include Clerical)', 'Professional',\n",
       "       'Services', 'Craft & Repair', 'Machine Operators & Inspectors',\n",
       "       'Sales', 'Admin Support (include Clerical)',\n",
       "       'Technicians & Support', 'Services',\n",
       "       'Admin Support (include Clerical)', 'Management', 'Management',\n",
       "       'Sales', 'Admin Support (include Clerical)',\n",
       "       'Machine Operators & Inspectors', 'Professional', 'Transportation',\n",
       "       'Services', 'Handlers/Cleaners', 'Sales',\n",
       "       'Admin Support (include Clerical)', 'Craft & Repair',\n",
       "       'Admin Support (include Clerical)', 'Craft & Repair', 'Services',\n",
       "       'Sales', 'Sales', 'Services', 'Sales',\n",
       "       'Farming & Forestry & Fishing', 'Admin Support (include Clerical)',\n",
       "       'Technicians & Support', 'Sales',\n",
       "       'Admin Support (include Clerical)',\n",
       "       'Machine Operators & Inspectors', 'Sales',\n",
       "       'Machine Operators & Inspectors', 'Craft & Repair', 'Professional',\n",
       "       'Craft & Repair', 'Management', 'Management',\n",
       "       'Protective Services', 'Management', 'Management', 'Management',\n",
       "       'Technicians & Support', 'Sales', 'Management', 'Sales',\n",
       "       'Admin Support (include Clerical)',\n",
       "       'Admin Support (include Clerical)', 'Professional', 'Management',\n",
       "       'Machine Operators & Inspectors', 'Services', 'Craft & Repair',\n",
       "       'Craft & Repair', 'Admin Support (include Clerical)', 'Services',\n",
       "       'Protective Services', 'Machine Operators & Inspectors',\n",
       "       'Craft & Repair', 'Professional',\n",
       "       'Admin Support (include Clerical)',\n",
       "       'Admin Support (include Clerical)', 'Services', 'Professional',\n",
       "       'Farming & Forestry & Fishing', 'Admin Support (include Clerical)',\n",
       "       'Technicians & Support', 'Sales', 'Craft & Repair', 'Services',\n",
       "       'Management', 'Sales', 'Management', 'Transportation',\n",
       "       'Admin Support (include Clerical)', 'Sales', 'Transportation',\n",
       "       'Transportation', 'Craft & Repair', 'Sales', 'Sales', 'Sales',\n",
       "       'Transportation', 'Professional', 'Management', 'Transportation',\n",
       "       'Craft & Repair', 'Sales', 'Services', 'Craft & Repair',\n",
       "       'Craft & Repair', 'Sales', 'Services',\n",
       "       'Admin Support (include Clerical)', 'Professional',\n",
       "       'Farming & Forestry & Fishing', 'Services', 'Services',\n",
       "       'Machine Operators & Inspectors', 'Management',\n",
       "       'Machine Operators & Inspectors',\n",
       "       'Admin Support (include Clerical)',\n",
       "       'Machine Operators & Inspectors', 'Handlers/Cleaners', 'Sales',\n",
       "       'Admin Support (include Clerical)', 'Craft & Repair',\n",
       "       'Professional', 'Management', 'Professional', 'Management',\n",
       "       'Admin Support (include Clerical)', 'Sales',\n",
       "       'Machine Operators & Inspectors',\n",
       "       'Admin Support (include Clerical)', 'Services',\n",
       "       'Machine Operators & Inspectors', 'Professional',\n",
       "       'Machine Operators & Inspectors', 'Technicians & Support',\n",
       "       'Admin Support (include Clerical)', 'Services',\n",
       "       'Admin Support (include Clerical)', 'Craft & Repair', 'Management',\n",
       "       'Technicians & Support', 'Professional', 'Craft & Repair',\n",
       "       'Handlers/Cleaners', 'Craft & Repair', 'Sales',\n",
       "       'Machine Operators & Inspectors', 'Professional', 'Management',\n",
       "       'Admin Support (include Clerical)', 'Professional', 'Management',\n",
       "       'Machine Operators & Inspectors', 'Professional', 'Transportation',\n",
       "       'Transportation', 'Admin Support (include Clerical)', 'Sales',\n",
       "       'Handlers/Cleaners', 'Sales', 'Services',\n",
       "       'Machine Operators & Inspectors', 'Professional', 'Transportation',\n",
       "       'Professional', 'Sales', 'Admin Support (include Clerical)',\n",
       "       'Private Household Services', 'Professional', 'Professional',\n",
       "       'Technicians & Support', 'Private Household Services', 'Sales',\n",
       "       'Admin Support (include Clerical)', 'Services', 'Professional',\n",
       "       'Craft & Repair', 'Management', 'Craft & Repair', 'Transportation',\n",
       "       'Services', 'Machine Operators & Inspectors', 'Sales',\n",
       "       'Transportation', 'Sales', 'Professional', 'Sales',\n",
       "       'Craft & Repair', 'Services', 'Transportation',\n",
       "       'Machine Operators & Inspectors', 'Sales', 'Services',\n",
       "       'Handlers/Cleaners', 'Services', 'Transportation', 'Sales',\n",
       "       'Management', 'Transportation', 'Farming & Forestry & Fishing',\n",
       "       'Transportation', 'Technicians & Support', 'Services',\n",
       "       'Admin Support (include Clerical)',\n",
       "       'Admin Support (include Clerical)', 'Craft & Repair',\n",
       "       'Technicians & Support', 'Admin Support (include Clerical)',\n",
       "       'Sales', 'Sales', 'Sales', 'Management',\n",
       "       'Admin Support (include Clerical)', 'Technicians & Support',\n",
       "       'Admin Support (include Clerical)', 'Professional', 'Services',\n",
       "       'Management', 'Professional', 'Sales', 'Professional',\n",
       "       'Professional', 'Services', 'Management', 'Management', 'Services',\n",
       "       'Professional', 'Transportation',\n",
       "       'Admin Support (include Clerical)', 'Professional', 'Sales',\n",
       "       'Professional', 'Technicians & Support',\n",
       "       'Private Household Services', 'Services',\n",
       "       'Admin Support (include Clerical)', 'Professional', 'Sales',\n",
       "       'Transportation', 'Sales', 'Craft & Repair', 'Sales',\n",
       "       'Admin Support (include Clerical)', 'Craft & Repair', 'Management',\n",
       "       'Transportation', 'Professional', 'Professional',\n",
       "       'Handlers/Cleaners', 'Craft & Repair', 'Services',\n",
       "       'Craft & Repair', 'Admin Support (include Clerical)', 'Sales',\n",
       "       'Craft & Repair', 'Transportation', 'Transportation',\n",
       "       'Craft & Repair', 'Craft & Repair', 'Services', 'Craft & Repair',\n",
       "       'Professional', 'Admin Support (include Clerical)',\n",
       "       'Machine Operators & Inspectors', 'Sales', 'Professional',\n",
       "       'Transportation', 'Technicians & Support',\n",
       "       'Admin Support (include Clerical)', 'Professional',\n",
       "       'Craft & Repair', 'Technicians & Support', 'Sales',\n",
       "       'Admin Support (include Clerical)',\n",
       "       'Admin Support (include Clerical)',\n",
       "       'Machine Operators & Inspectors', 'Professional',\n",
       "       'Admin Support (include Clerical)', 'Craft & Repair',\n",
       "       'Machine Operators & Inspectors', 'Sales', 'Sales',\n",
       "       'Handlers/Cleaners', 'Admin Support (include Clerical)',\n",
       "       'Technicians & Support', 'Machine Operators & Inspectors',\n",
       "       'Admin Support (include Clerical)', 'Sales', 'Professional',\n",
       "       'Sales', 'Services', 'Technicians & Support', 'Sales',\n",
       "       'Machine Operators & Inspectors',\n",
       "       'Admin Support (include Clerical)',\n",
       "       'Admin Support (include Clerical)', 'Services',\n",
       "       'Machine Operators & Inspectors', 'Sales', 'Transportation',\n",
       "       'Admin Support (include Clerical)', 'Technicians & Support',\n",
       "       'Craft & Repair', 'Admin Support (include Clerical)', 'Services',\n",
       "       'Private Household Services', 'Management', 'Services',\n",
       "       'Admin Support (include Clerical)', 'Transportation',\n",
       "       'Handlers/Cleaners', 'Sales', 'Sales',\n",
       "       'Admin Support (include Clerical)', 'Management',\n",
       "       'Admin Support (include Clerical)', 'Management',\n",
       "       'Admin Support (include Clerical)', 'Sales', 'Services',\n",
       "       'Professional', 'Admin Support (include Clerical)', 'Professional',\n",
       "       'Professional', 'Craft & Repair', 'Machine Operators & Inspectors',\n",
       "       'Craft & Repair', 'Transportation',\n",
       "       'Admin Support (include Clerical)', 'Management',\n",
       "       'Admin Support (include Clerical)', 'Sales', 'Professional',\n",
       "       'Admin Support (include Clerical)', 'Transportation',\n",
       "       'Admin Support (include Clerical)',\n",
       "       'Admin Support (include Clerical)', 'Professional',\n",
       "       'Admin Support (include Clerical)', 'Professional', 'Services',\n",
       "       'Management', 'Admin Support (include Clerical)', 'Management',\n",
       "       'Admin Support (include Clerical)',\n",
       "       'Admin Support (include Clerical)', 'Sales', 'Handlers/Cleaners',\n",
       "       'Services', 'Management', 'Admin Support (include Clerical)',\n",
       "       'Machine Operators & Inspectors',\n",
       "       'Admin Support (include Clerical)', 'Management',\n",
       "       'Machine Operators & Inspectors', 'Sales',\n",
       "       'Machine Operators & Inspectors', 'Management', 'Management',\n",
       "       'Sales', 'Protective Services', 'Craft & Repair', 'Craft & Repair',\n",
       "       'Professional', 'Admin Support (include Clerical)',\n",
       "       'Admin Support (include Clerical)', 'Craft & Repair',\n",
       "       'Professional', 'Farming & Forestry & Fishing', 'Services',\n",
       "       'Management', 'Craft & Repair', 'Handlers/Cleaners', 'Sales',\n",
       "       'Machine Operators & Inspectors', 'Management', 'Services',\n",
       "       'Professional', 'Professional', 'Transportation', 'Services',\n",
       "       'Services', 'Professional', 'Management',\n",
       "       'Admin Support (include Clerical)', 'Management', 'Management',\n",
       "       'Professional', 'Services', 'Technicians & Support',\n",
       "       'Craft & Repair', 'Admin Support (include Clerical)', 'Sales',\n",
       "       'Farming & Forestry & Fishing', 'Services',\n",
       "       'Machine Operators & Inspectors', 'Handlers/Cleaners',\n",
       "       'Professional', 'Professional', 'Admin Support (include Clerical)',\n",
       "       'Craft & Repair', 'Sales', 'Professional', 'Handlers/Cleaners',\n",
       "       'Admin Support (include Clerical)', 'Sales',\n",
       "       'Admin Support (include Clerical)', 'Sales', 'Transportation',\n",
       "       'Craft & Repair', 'Admin Support (include Clerical)', 'Services',\n",
       "       'Machine Operators & Inspectors', 'Craft & Repair', 'Services',\n",
       "       'Admin Support (include Clerical)',\n",
       "       'Machine Operators & Inspectors',\n",
       "       'Admin Support (include Clerical)', 'Services'], dtype=object)"
      ]
     },
     "execution_count": 29,
     "metadata": {},
     "output_type": "execute_result"
    }
   ],
   "source": [
    "check_2"
   ]
  },
  {
   "cell_type": "code",
   "execution_count": 27,
   "metadata": {},
   "outputs": [
    {
     "ename": "SyntaxError",
     "evalue": "invalid syntax (<ipython-input-27-7b18d017f89f>, line 1)",
     "output_type": "error",
     "traceback": [
      "\u001b[1;36m  File \u001b[1;32m\"<ipython-input-27-7b18d017f89f>\"\u001b[1;36m, line \u001b[1;32m1\u001b[0m\n\u001b[1;33m    def\u001b[0m\n\u001b[1;37m       ^\u001b[0m\n\u001b[1;31mSyntaxError\u001b[0m\u001b[1;31m:\u001b[0m invalid syntax\n"
     ]
    }
   ],
   "source": [
    "def"
   ]
  },
  {
   "cell_type": "markdown",
   "metadata": {},
   "source": [
    "### modify education\n",
    "##### final train error : 456.20\n",
    "##### final val error : 610.15"
   ]
  },
  {
   "cell_type": "markdown",
   "metadata": {},
   "source": [
    "### modify income status 1\n",
    "##### final train error : 459.07\n",
    "##### final val error : 608.42"
   ]
  },
  {
   "cell_type": "code",
   "execution_count": null,
   "metadata": {},
   "outputs": [],
   "source": []
  },
  {
   "cell_type": "code",
   "execution_count": null,
   "metadata": {},
   "outputs": [],
   "source": [
    "final_pred = np.array(test_preds).mean(0)"
   ]
  },
  {
   "cell_type": "code",
   "execution_count": null,
   "metadata": {},
   "outputs": [
    {
     "data": {
      "text/html": [
       "<div>\n",
       "<style scoped>\n",
       "    .dataframe tbody tr th:only-of-type {\n",
       "        vertical-align: middle;\n",
       "    }\n",
       "\n",
       "    .dataframe tbody tr th {\n",
       "        vertical-align: top;\n",
       "    }\n",
       "\n",
       "    .dataframe thead th {\n",
       "        text-align: right;\n",
       "    }\n",
       "</style>\n",
       "<table border=\"1\" class=\"dataframe\">\n",
       "  <thead>\n",
       "    <tr style=\"text-align: right;\">\n",
       "      <th></th>\n",
       "      <th>ID</th>\n",
       "      <th>Income</th>\n",
       "    </tr>\n",
       "  </thead>\n",
       "  <tbody>\n",
       "    <tr>\n",
       "      <th>0</th>\n",
       "      <td>TEST_0000</td>\n",
       "      <td>0</td>\n",
       "    </tr>\n",
       "    <tr>\n",
       "      <th>1</th>\n",
       "      <td>TEST_0001</td>\n",
       "      <td>0</td>\n",
       "    </tr>\n",
       "    <tr>\n",
       "      <th>2</th>\n",
       "      <td>TEST_0002</td>\n",
       "      <td>0</td>\n",
       "    </tr>\n",
       "    <tr>\n",
       "      <th>3</th>\n",
       "      <td>TEST_0003</td>\n",
       "      <td>0</td>\n",
       "    </tr>\n",
       "    <tr>\n",
       "      <th>4</th>\n",
       "      <td>TEST_0004</td>\n",
       "      <td>0</td>\n",
       "    </tr>\n",
       "    <tr>\n",
       "      <th>...</th>\n",
       "      <td>...</td>\n",
       "      <td>...</td>\n",
       "    </tr>\n",
       "    <tr>\n",
       "      <th>9995</th>\n",
       "      <td>TEST_9995</td>\n",
       "      <td>0</td>\n",
       "    </tr>\n",
       "    <tr>\n",
       "      <th>9996</th>\n",
       "      <td>TEST_9996</td>\n",
       "      <td>0</td>\n",
       "    </tr>\n",
       "    <tr>\n",
       "      <th>9997</th>\n",
       "      <td>TEST_9997</td>\n",
       "      <td>0</td>\n",
       "    </tr>\n",
       "    <tr>\n",
       "      <th>9998</th>\n",
       "      <td>TEST_9998</td>\n",
       "      <td>0</td>\n",
       "    </tr>\n",
       "    <tr>\n",
       "      <th>9999</th>\n",
       "      <td>TEST_9999</td>\n",
       "      <td>0</td>\n",
       "    </tr>\n",
       "  </tbody>\n",
       "</table>\n",
       "<p>10000 rows × 2 columns</p>\n",
       "</div>"
      ],
      "text/plain": [
       "             ID  Income\n",
       "0     TEST_0000       0\n",
       "1     TEST_0001       0\n",
       "2     TEST_0002       0\n",
       "3     TEST_0003       0\n",
       "4     TEST_0004       0\n",
       "...         ...     ...\n",
       "9995  TEST_9995       0\n",
       "9996  TEST_9996       0\n",
       "9997  TEST_9997       0\n",
       "9998  TEST_9998       0\n",
       "9999  TEST_9999       0\n",
       "\n",
       "[10000 rows x 2 columns]"
      ]
     },
     "execution_count": 30,
     "metadata": {},
     "output_type": "execute_result"
    }
   ],
   "source": [
    "submission = pd.read_csv('data/sample_submission.csv')\n",
    "submission"
   ]
  },
  {
   "cell_type": "code",
   "execution_count": null,
   "metadata": {},
   "outputs": [
    {
     "data": {
      "text/html": [
       "<div>\n",
       "<style scoped>\n",
       "    .dataframe tbody tr th:only-of-type {\n",
       "        vertical-align: middle;\n",
       "    }\n",
       "\n",
       "    .dataframe tbody tr th {\n",
       "        vertical-align: top;\n",
       "    }\n",
       "\n",
       "    .dataframe thead th {\n",
       "        text-align: right;\n",
       "    }\n",
       "</style>\n",
       "<table border=\"1\" class=\"dataframe\">\n",
       "  <thead>\n",
       "    <tr style=\"text-align: right;\">\n",
       "      <th></th>\n",
       "      <th>ID</th>\n",
       "      <th>Income</th>\n",
       "    </tr>\n",
       "  </thead>\n",
       "  <tbody>\n",
       "    <tr>\n",
       "      <th>0</th>\n",
       "      <td>TEST_0000</td>\n",
       "      <td>-1.367361</td>\n",
       "    </tr>\n",
       "    <tr>\n",
       "      <th>1</th>\n",
       "      <td>TEST_0001</td>\n",
       "      <td>31.340819</td>\n",
       "    </tr>\n",
       "    <tr>\n",
       "      <th>2</th>\n",
       "      <td>TEST_0002</td>\n",
       "      <td>407.449383</td>\n",
       "    </tr>\n",
       "    <tr>\n",
       "      <th>3</th>\n",
       "      <td>TEST_0003</td>\n",
       "      <td>621.593877</td>\n",
       "    </tr>\n",
       "    <tr>\n",
       "      <th>4</th>\n",
       "      <td>TEST_0004</td>\n",
       "      <td>3.033274</td>\n",
       "    </tr>\n",
       "    <tr>\n",
       "      <th>...</th>\n",
       "      <td>...</td>\n",
       "      <td>...</td>\n",
       "    </tr>\n",
       "    <tr>\n",
       "      <th>9995</th>\n",
       "      <td>TEST_9995</td>\n",
       "      <td>909.235724</td>\n",
       "    </tr>\n",
       "    <tr>\n",
       "      <th>9996</th>\n",
       "      <td>TEST_9996</td>\n",
       "      <td>817.979346</td>\n",
       "    </tr>\n",
       "    <tr>\n",
       "      <th>9997</th>\n",
       "      <td>TEST_9997</td>\n",
       "      <td>381.699638</td>\n",
       "    </tr>\n",
       "    <tr>\n",
       "      <th>9998</th>\n",
       "      <td>TEST_9998</td>\n",
       "      <td>3.033274</td>\n",
       "    </tr>\n",
       "    <tr>\n",
       "      <th>9999</th>\n",
       "      <td>TEST_9999</td>\n",
       "      <td>571.297869</td>\n",
       "    </tr>\n",
       "  </tbody>\n",
       "</table>\n",
       "<p>10000 rows × 2 columns</p>\n",
       "</div>"
      ],
      "text/plain": [
       "             ID      Income\n",
       "0     TEST_0000   -1.367361\n",
       "1     TEST_0001   31.340819\n",
       "2     TEST_0002  407.449383\n",
       "3     TEST_0003  621.593877\n",
       "4     TEST_0004    3.033274\n",
       "...         ...         ...\n",
       "9995  TEST_9995  909.235724\n",
       "9996  TEST_9996  817.979346\n",
       "9997  TEST_9997  381.699638\n",
       "9998  TEST_9998    3.033274\n",
       "9999  TEST_9999  571.297869\n",
       "\n",
       "[10000 rows x 2 columns]"
      ]
     },
     "execution_count": 31,
     "metadata": {},
     "output_type": "execute_result"
    }
   ],
   "source": [
    "submission['Income'] = final_pred\n",
    "submission"
   ]
  },
  {
   "cell_type": "code",
   "execution_count": null,
   "metadata": {},
   "outputs": [],
   "source": [
    "os.makedirs('submission', exist_ok=True)\n",
    "# submission.to_csv('submission/baseline_0314.csv', index=False)\n",
    "submission.to_csv('submission/feat_engineering_0319_1.csv', index=False)"
   ]
  }
 ],
 "metadata": {
  "kernelspec": {
   "display_name": "torch",
   "language": "python",
   "name": "python3"
  },
  "language_info": {
   "codemirror_mode": {
    "name": "ipython",
    "version": 3
   },
   "file_extension": ".py",
   "mimetype": "text/x-python",
   "name": "python",
   "nbconvert_exporter": "python",
   "pygments_lexer": "ipython3",
   "version": "3.8.8"
  }
 },
 "nbformat": 4,
 "nbformat_minor": 2
}
