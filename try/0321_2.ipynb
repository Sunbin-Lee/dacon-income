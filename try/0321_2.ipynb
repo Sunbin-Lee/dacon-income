{
 "cells": [
  {
   "cell_type": "code",
   "execution_count": 1,
   "metadata": {},
   "outputs": [],
   "source": [
    "import pandas as pd\n",
    "import numpy as np\n",
    "import random\n",
    "import os"
   ]
  },
  {
   "cell_type": "code",
   "execution_count": 2,
   "metadata": {},
   "outputs": [],
   "source": [
    "from sklearn.preprocessing import LabelEncoder, OneHotEncoder, StandardScaler\n",
    "from sklearn.model_selection import train_test_split, KFold, StratifiedKFold\n",
    "from sklearn.svm import SVC\n",
    "from sklearn.ensemble import GradientBoostingClassifier, GradientBoostingRegressor\n",
    "from sklearn.metrics import accuracy_score, mean_squared_error, confusion_matrix"
   ]
  },
  {
   "cell_type": "code",
   "execution_count": 3,
   "metadata": {},
   "outputs": [],
   "source": [
    "import matplotlib.pyplot as plt\n",
    "import seaborn as sns"
   ]
  },
  {
   "cell_type": "code",
   "execution_count": 4,
   "metadata": {},
   "outputs": [],
   "source": [
    "def seed_everything(seed):\n",
    "    random.seed(seed)\n",
    "    os.environ['PYTHONHASHSEED'] = str(seed)\n",
    "    np.random.seed(seed)\n",
    "\n",
    "seed_everything(42) # Seed 고정"
   ]
  },
  {
   "cell_type": "code",
   "execution_count": 5,
   "metadata": {},
   "outputs": [],
   "source": [
    "# 'Industry_Status',\n",
    "# 'Hispanic_Origin',\n",
    "# 'Household_Status',\n",
    "# 'Birth_Country',\n",
    "# 'Birth_Country (Father)', \n",
    "# 'Birth_Country (Mother)'"
   ]
  },
  {
   "cell_type": "code",
   "execution_count": 6,
   "metadata": {},
   "outputs": [],
   "source": [
    "train = pd.read_csv('data/train.csv')\n",
    "test = pd.read_csv('data/test.csv')"
   ]
  },
  {
   "cell_type": "code",
   "execution_count": 7,
   "metadata": {},
   "outputs": [
    {
     "data": {
      "text/plain": [
       "Index(['ID', 'Age', 'Gender', 'Education_Status', 'Employment_Status',\n",
       "       'Working_Week (Yearly)', 'Industry_Status', 'Occupation_Status', 'Race',\n",
       "       'Hispanic_Origin', 'Martial_Status', 'Household_Status',\n",
       "       'Household_Summary', 'Citizenship', 'Birth_Country',\n",
       "       'Birth_Country (Father)', 'Birth_Country (Mother)', 'Tax_Status',\n",
       "       'Gains', 'Losses', 'Dividends', 'Income_Status', 'Income'],\n",
       "      dtype='object')"
      ]
     },
     "execution_count": 7,
     "metadata": {},
     "output_type": "execute_result"
    }
   ],
   "source": [
    "train.columns"
   ]
  },
  {
   "cell_type": "markdown",
   "metadata": {},
   "source": [
    "### modify education"
   ]
  },
  {
   "cell_type": "code",
   "execution_count": 8,
   "metadata": {},
   "outputs": [],
   "source": [
    "def modify_education(education):\n",
    "    if education in ['Children', 'Kindergarten', 'Elementary (1-4)', 'Elementary (5-6)', \n",
    "                     'Middle (7-8)', 'High Freshman', 'High Sophomore', \n",
    "                     'High Junior', 'High Senior']:\n",
    "        return 'dropout'\n",
    "    elif education in ['College', 'Associates degree (Academic)', 'Associates degree (Vocational)']:\n",
    "        return 'CommunityCollege'\n",
    "    elif education in ['Professional degree', 'Masters degree']:\n",
    "        return 'Masters degree'\n",
    "    else:\n",
    "        return education"
   ]
  },
  {
   "cell_type": "code",
   "execution_count": 9,
   "metadata": {},
   "outputs": [],
   "source": [
    "train['Education'] = train['Education_Status']\n",
    "train['Education'] = train['Education'].apply(modify_education)"
   ]
  },
  {
   "cell_type": "code",
   "execution_count": 10,
   "metadata": {},
   "outputs": [],
   "source": [
    "test['Education'] = test['Education_Status']\n",
    "test['Education'] = test['Education'].apply(modify_education)"
   ]
  },
  {
   "cell_type": "markdown",
   "metadata": {},
   "source": [
    "### modify income status"
   ]
  },
  {
   "cell_type": "code",
   "execution_count": 11,
   "metadata": {},
   "outputs": [],
   "source": [
    "def modify_income_status(status):\n",
    "    if status in ['Unknown', 'Under Median']:\n",
    "        return 'Under Median'\n",
    "    else:\n",
    "        return status"
   ]
  },
  {
   "cell_type": "code",
   "execution_count": 12,
   "metadata": {},
   "outputs": [],
   "source": [
    "train['Income_Status'] = train['Income_Status'].apply(modify_income_status)\n",
    "test['Income_Status'] = test['Income_Status'].apply(modify_income_status)"
   ]
  },
  {
   "cell_type": "markdown",
   "metadata": {},
   "source": [
    "### income==0 예측"
   ]
  },
  {
   "cell_type": "code",
   "execution_count": 13,
   "metadata": {},
   "outputs": [],
   "source": [
    "train['Income_nonzero'] = train['Income'] > 0"
   ]
  },
  {
   "cell_type": "code",
   "execution_count": 14,
   "metadata": {},
   "outputs": [
    {
     "data": {
      "text/html": [
       "<div>\n",
       "<style scoped>\n",
       "    .dataframe tbody tr th:only-of-type {\n",
       "        vertical-align: middle;\n",
       "    }\n",
       "\n",
       "    .dataframe tbody tr th {\n",
       "        vertical-align: top;\n",
       "    }\n",
       "\n",
       "    .dataframe thead th {\n",
       "        text-align: right;\n",
       "    }\n",
       "</style>\n",
       "<table border=\"1\" class=\"dataframe\">\n",
       "  <thead>\n",
       "    <tr style=\"text-align: right;\">\n",
       "      <th></th>\n",
       "      <th>ID</th>\n",
       "      <th>Age</th>\n",
       "      <th>Gender</th>\n",
       "      <th>Education_Status</th>\n",
       "      <th>Employment_Status</th>\n",
       "      <th>Working_Week (Yearly)</th>\n",
       "      <th>Industry_Status</th>\n",
       "      <th>Occupation_Status</th>\n",
       "      <th>Race</th>\n",
       "      <th>Hispanic_Origin</th>\n",
       "      <th>...</th>\n",
       "      <th>Birth_Country (Father)</th>\n",
       "      <th>Birth_Country (Mother)</th>\n",
       "      <th>Tax_Status</th>\n",
       "      <th>Gains</th>\n",
       "      <th>Losses</th>\n",
       "      <th>Dividends</th>\n",
       "      <th>Income_Status</th>\n",
       "      <th>Income</th>\n",
       "      <th>Education</th>\n",
       "      <th>Income_nonzero</th>\n",
       "    </tr>\n",
       "  </thead>\n",
       "  <tbody>\n",
       "    <tr>\n",
       "      <th>0</th>\n",
       "      <td>TRAIN_00000</td>\n",
       "      <td>63</td>\n",
       "      <td>M</td>\n",
       "      <td>Middle (7-8)</td>\n",
       "      <td>Full-Time</td>\n",
       "      <td>4</td>\n",
       "      <td>Social Services</td>\n",
       "      <td>Services</td>\n",
       "      <td>White</td>\n",
       "      <td>All other</td>\n",
       "      <td>...</td>\n",
       "      <td>US</td>\n",
       "      <td>US</td>\n",
       "      <td>Nonfiler</td>\n",
       "      <td>0</td>\n",
       "      <td>0</td>\n",
       "      <td>0</td>\n",
       "      <td>Under Median</td>\n",
       "      <td>425</td>\n",
       "      <td>dropout</td>\n",
       "      <td>True</td>\n",
       "    </tr>\n",
       "    <tr>\n",
       "      <th>1</th>\n",
       "      <td>TRAIN_00001</td>\n",
       "      <td>37</td>\n",
       "      <td>M</td>\n",
       "      <td>Associates degree (Vocational)</td>\n",
       "      <td>Full-Time</td>\n",
       "      <td>52</td>\n",
       "      <td>Entertainment</td>\n",
       "      <td>Services</td>\n",
       "      <td>White</td>\n",
       "      <td>All other</td>\n",
       "      <td>...</td>\n",
       "      <td>US</td>\n",
       "      <td>US</td>\n",
       "      <td>Single</td>\n",
       "      <td>0</td>\n",
       "      <td>0</td>\n",
       "      <td>0</td>\n",
       "      <td>Under Median</td>\n",
       "      <td>0</td>\n",
       "      <td>CommunityCollege</td>\n",
       "      <td>False</td>\n",
       "    </tr>\n",
       "    <tr>\n",
       "      <th>2</th>\n",
       "      <td>TRAIN_00002</td>\n",
       "      <td>58</td>\n",
       "      <td>F</td>\n",
       "      <td>High graduate</td>\n",
       "      <td>Full-Time</td>\n",
       "      <td>52</td>\n",
       "      <td>Manufacturing (Non-durable)</td>\n",
       "      <td>Admin Support (include Clerical)</td>\n",
       "      <td>Black</td>\n",
       "      <td>All other</td>\n",
       "      <td>...</td>\n",
       "      <td>US</td>\n",
       "      <td>US</td>\n",
       "      <td>Married Filling Jointly both under 65 (MFJ)</td>\n",
       "      <td>3411</td>\n",
       "      <td>0</td>\n",
       "      <td>0</td>\n",
       "      <td>Under Median</td>\n",
       "      <td>860</td>\n",
       "      <td>High graduate</td>\n",
       "      <td>True</td>\n",
       "    </tr>\n",
       "    <tr>\n",
       "      <th>3</th>\n",
       "      <td>TRAIN_00003</td>\n",
       "      <td>44</td>\n",
       "      <td>M</td>\n",
       "      <td>High graduate</td>\n",
       "      <td>Full-Time</td>\n",
       "      <td>52</td>\n",
       "      <td>Retail</td>\n",
       "      <td>Technicians &amp; Support</td>\n",
       "      <td>White</td>\n",
       "      <td>All other</td>\n",
       "      <td>...</td>\n",
       "      <td>US</td>\n",
       "      <td>US</td>\n",
       "      <td>Single</td>\n",
       "      <td>0</td>\n",
       "      <td>0</td>\n",
       "      <td>0</td>\n",
       "      <td>Under Median</td>\n",
       "      <td>850</td>\n",
       "      <td>High graduate</td>\n",
       "      <td>True</td>\n",
       "    </tr>\n",
       "    <tr>\n",
       "      <th>4</th>\n",
       "      <td>TRAIN_00004</td>\n",
       "      <td>37</td>\n",
       "      <td>F</td>\n",
       "      <td>High graduate</td>\n",
       "      <td>Full-Time</td>\n",
       "      <td>52</td>\n",
       "      <td>Retail</td>\n",
       "      <td>Sales</td>\n",
       "      <td>White</td>\n",
       "      <td>All other</td>\n",
       "      <td>...</td>\n",
       "      <td>US</td>\n",
       "      <td>US</td>\n",
       "      <td>Head of Household (HOH)</td>\n",
       "      <td>0</td>\n",
       "      <td>0</td>\n",
       "      <td>0</td>\n",
       "      <td>Under Median</td>\n",
       "      <td>570</td>\n",
       "      <td>High graduate</td>\n",
       "      <td>True</td>\n",
       "    </tr>\n",
       "  </tbody>\n",
       "</table>\n",
       "<p>5 rows × 25 columns</p>\n",
       "</div>"
      ],
      "text/plain": [
       "            ID  Age Gender                Education_Status Employment_Status  \\\n",
       "0  TRAIN_00000   63      M                    Middle (7-8)         Full-Time   \n",
       "1  TRAIN_00001   37      M  Associates degree (Vocational)         Full-Time   \n",
       "2  TRAIN_00002   58      F                   High graduate         Full-Time   \n",
       "3  TRAIN_00003   44      M                   High graduate         Full-Time   \n",
       "4  TRAIN_00004   37      F                   High graduate         Full-Time   \n",
       "\n",
       "   Working_Week (Yearly)              Industry_Status  \\\n",
       "0                      4              Social Services   \n",
       "1                     52                Entertainment   \n",
       "2                     52  Manufacturing (Non-durable)   \n",
       "3                     52                       Retail   \n",
       "4                     52                       Retail   \n",
       "\n",
       "                  Occupation_Status   Race Hispanic_Origin  ...  \\\n",
       "0                          Services  White       All other  ...   \n",
       "1                          Services  White       All other  ...   \n",
       "2  Admin Support (include Clerical)  Black       All other  ...   \n",
       "3             Technicians & Support  White       All other  ...   \n",
       "4                             Sales  White       All other  ...   \n",
       "\n",
       "  Birth_Country (Father) Birth_Country (Mother)  \\\n",
       "0                     US                     US   \n",
       "1                     US                     US   \n",
       "2                     US                     US   \n",
       "3                     US                     US   \n",
       "4                     US                     US   \n",
       "\n",
       "                                    Tax_Status Gains Losses Dividends  \\\n",
       "0                                     Nonfiler     0      0         0   \n",
       "1                                       Single     0      0         0   \n",
       "2  Married Filling Jointly both under 65 (MFJ)  3411      0         0   \n",
       "3                                       Single     0      0         0   \n",
       "4                      Head of Household (HOH)     0      0         0   \n",
       "\n",
       "  Income_Status Income         Education  Income_nonzero  \n",
       "0  Under Median    425           dropout            True  \n",
       "1  Under Median      0  CommunityCollege           False  \n",
       "2  Under Median    860     High graduate            True  \n",
       "3  Under Median    850     High graduate            True  \n",
       "4  Under Median    570     High graduate            True  \n",
       "\n",
       "[5 rows x 25 columns]"
      ]
     },
     "execution_count": 14,
     "metadata": {},
     "output_type": "execute_result"
    }
   ],
   "source": [
    "train.head()"
   ]
  },
  {
   "cell_type": "markdown",
   "metadata": {},
   "source": [
    "### main"
   ]
  },
  {
   "cell_type": "code",
   "execution_count": 15,
   "metadata": {},
   "outputs": [],
   "source": [
    "trainval_x = train.drop(columns=['ID', 'Income', \n",
    "                                 'Hispanic_Origin', \n",
    "                                 'Household_Status', \n",
    "                                 'Birth_Country', \n",
    "                                 'Birth_Country (Father)', 'Birth_Country (Mother)',\n",
    "                                 'Education_Status',\n",
    "                                 'Income_nonzero'\n",
    "                                 ])\n",
    "trainval_nonzero = train['Income_nonzero']\n",
    "trainval_y = train['Income']\n",
    "\n",
    "test_x = test.drop(columns=['ID',\n",
    "                            'Hispanic_Origin', \n",
    "                            'Household_Status', \n",
    "                            'Birth_Country', \n",
    "                            'Birth_Country (Father)', 'Birth_Country (Mother)',\n",
    "                            'Education_Status',\n",
    "                            ])"
   ]
  },
  {
   "cell_type": "code",
   "execution_count": 16,
   "metadata": {},
   "outputs": [
    {
     "name": "stdout",
     "output_type": "stream",
     "text": [
      "<class 'pandas.core.frame.DataFrame'>\n",
      "RangeIndex: 20000 entries, 0 to 19999\n",
      "Data columns (total 16 columns):\n",
      " #   Column                 Non-Null Count  Dtype \n",
      "---  ------                 --------------  ----- \n",
      " 0   Age                    20000 non-null  int64 \n",
      " 1   Gender                 20000 non-null  object\n",
      " 2   Employment_Status      20000 non-null  object\n",
      " 3   Working_Week (Yearly)  20000 non-null  int64 \n",
      " 4   Industry_Status        20000 non-null  object\n",
      " 5   Occupation_Status      20000 non-null  object\n",
      " 6   Race                   20000 non-null  object\n",
      " 7   Martial_Status         20000 non-null  object\n",
      " 8   Household_Summary      20000 non-null  object\n",
      " 9   Citizenship            20000 non-null  object\n",
      " 10  Tax_Status             20000 non-null  object\n",
      " 11  Gains                  20000 non-null  int64 \n",
      " 12  Losses                 20000 non-null  int64 \n",
      " 13  Dividends              20000 non-null  int64 \n",
      " 14  Income_Status          20000 non-null  object\n",
      " 15  Education              20000 non-null  object\n",
      "dtypes: int64(5), object(11)\n",
      "memory usage: 2.4+ MB\n"
     ]
    }
   ],
   "source": [
    "trainval_x.info()"
   ]
  },
  {
   "cell_type": "code",
   "execution_count": 17,
   "metadata": {},
   "outputs": [
    {
     "name": "stdout",
     "output_type": "stream",
     "text": [
      "save Occupation_Status\n"
     ]
    }
   ],
   "source": [
    "encoding_target = list(trainval_x.dtypes[trainval_x.dtypes == \"object\"].index)\n",
    "\n",
    "for i in encoding_target:\n",
    "    le = LabelEncoder()\n",
    "    \n",
    "    # train과 test 데이터셋에서 해당 열의 모든 값을 문자열로 변환\n",
    "    trainval_x[i] = trainval_x[i].astype(str)\n",
    "    test_x[i] = test_x[i].astype(str)\n",
    "    \n",
    "    le.fit(trainval_x[i])\n",
    "    trainval_x[i] = le.transform(trainval_x[i])\n",
    "    \n",
    "    # test 데이터의 새로운 카테고리에 대해 le.classes_ 배열에 추가\n",
    "    for case in np.unique(test_x[i]):\n",
    "        if case not in le.classes_: \n",
    "            print('case')\n",
    "            le.classes_ = np.append(le.classes_, case)\n",
    "    \n",
    "    if i == 'Occupation_Status':\n",
    "        save_le = le\n",
    "        print(f'save {i}')\n",
    "        \n",
    "    test_x[i] = le.transform(test_x[i])"
   ]
  },
  {
   "cell_type": "code",
   "execution_count": 18,
   "metadata": {},
   "outputs": [],
   "source": [
    "kf = StratifiedKFold(n_splits=5, shuffle=True)"
   ]
  },
  {
   "cell_type": "code",
   "execution_count": 19,
   "metadata": {},
   "outputs": [
    {
     "name": "stdout",
     "output_type": "stream",
     "text": [
      "1 fold\n"
     ]
    },
    {
     "name": "stdout",
     "output_type": "stream",
     "text": [
      "train acc : 82.45 | val acc : 81.50\n",
      "train error : 574.59 | val error : 640.29\n",
      "------------------------------\n",
      "2 fold\n",
      "train acc : 82.50 | val acc : 82.42\n",
      "train error : 586.90 | val error : 576.20\n",
      "------------------------------\n",
      "3 fold\n",
      "train acc : 82.61 | val acc : 81.80\n",
      "train error : 582.17 | val error : 594.71\n",
      "------------------------------\n",
      "4 fold\n",
      "train acc : 82.44 | val acc : 82.15\n",
      "train error : 581.12 | val error : 615.00\n",
      "------------------------------\n",
      "5 fold\n",
      "train acc : 82.53 | val acc : 82.10\n",
      "train error : 579.33 | val error : 612.97\n",
      "------------------------------\n"
     ]
    }
   ],
   "source": [
    "num_fold = 1\n",
    "total_train_error, total_val_error = 0, 0\n",
    "test_preds = []\n",
    "for train_idx, val_idx in kf.split(trainval_x, trainval_nonzero):\n",
    "    print(f'{num_fold} fold')\n",
    "\n",
    "    train_x = trainval_x.iloc[train_idx]\n",
    "    train_nonzero = trainval_nonzero[train_idx]\n",
    "    train_y = trainval_y[train_idx]\n",
    "\n",
    "    train_x.reset_index(drop=True, inplace=True)\n",
    "    train_nonzero = train_nonzero.reset_index(drop=True)\n",
    "    train_y = train_y.reset_index(drop=True)\n",
    "\n",
    "    val_x = trainval_x.iloc[val_idx]\n",
    "    val_nonzero = trainval_nonzero[val_idx]\n",
    "    val_y = trainval_y[val_idx]\n",
    "\n",
    "    val_x.reset_index(drop=True, inplace=True)\n",
    "    val_nonzero = val_nonzero.reset_index(drop=True)\n",
    "    val_y = val_y.reset_index(drop=True)\n",
    "\n",
    "    #### step 1 - classification\n",
    "    clf = GradientBoostingClassifier(max_depth=3)\n",
    "    clf.fit(train_x, train_nonzero)\n",
    "\n",
    "    train_nonzero_hat = clf.predict(train_x)\n",
    "    val_nonzero_hat = clf.predict(val_x)\n",
    "\n",
    "    train_acc = accuracy_score(train_nonzero, train_nonzero_hat)\n",
    "    val_acc = accuracy_score(val_nonzero, val_nonzero_hat)\n",
    "\n",
    "    print(f'train acc : {train_acc*100:.2f} | val acc : {val_acc*100:.2f}')\n",
    "    ####\n",
    "\n",
    "    train_nonzero_idx = np.where(train_nonzero_hat!=0)[0]\n",
    "    val_nonzero_idx = np.where(val_nonzero_hat!=0)[0]\n",
    "\n",
    "    #### step 2 - regression\n",
    "    reg = GradientBoostingRegressor(max_depth=3)\n",
    "    reg.fit(train_x.iloc[train_nonzero_idx], train_y[train_nonzero_idx])\n",
    "\n",
    "    train_y_hat = np.zeros_like(train_y)\n",
    "    val_y_hat = np.zeros_like(val_y)\n",
    "\n",
    "    train_y_hat_nonzero = reg.predict(train_x.iloc[train_nonzero_idx])\n",
    "    val_y_hat_nonzero = reg.predict(val_x.iloc[val_nonzero_idx])\n",
    "\n",
    "    train_y_hat[train_nonzero_idx] = train_y_hat_nonzero\n",
    "    val_y_hat[val_nonzero_idx] = val_y_hat_nonzero\n",
    "\n",
    "    train_error = mean_squared_error(train_y, train_y_hat) ** 0.5\n",
    "    val_error = mean_squared_error(val_y, val_y_hat) ** 0.5\n",
    "\n",
    "    print(f'train error : {train_error:.2f} | val error : {val_error:.2f}')\n",
    "    ####\n",
    "\n",
    "    total_train_error += train_error\n",
    "    total_val_error += val_error\n",
    "\n",
    "    #### for test set\n",
    "    test_nonzero_hat = clf.predict(test_x)\n",
    "\n",
    "    test_nonzero_idx = np.where(test_nonzero_hat!=0)[0]\n",
    "\n",
    "    test_y_hat = np.zeros(shape=(len(test_x), ))\n",
    "\n",
    "    test_y_hat_nonzero = reg.predict(test_x.iloc[test_nonzero_idx])\n",
    "\n",
    "    test_y_hat[test_nonzero_idx] = test_y_hat_nonzero\n",
    "\n",
    "    test_preds.append(test_y_hat)\n",
    "\n",
    "    print('-'*30)\n",
    "\n",
    "    num_fold += 1"
   ]
  },
  {
   "cell_type": "code",
   "execution_count": 20,
   "metadata": {},
   "outputs": [
    {
     "name": "stdout",
     "output_type": "stream",
     "text": [
      "final train error : 580.82\n",
      "final val error : 607.83\n"
     ]
    }
   ],
   "source": [
    "print(f'final train error : {total_train_error/5:.2f}')\n",
    "print(f'final val error : {total_val_error/5:.2f}')"
   ]
  },
  {
   "cell_type": "markdown",
   "metadata": {},
   "source": [
    "### depth 3/3\n",
    "final train error : 580.82\n",
    "final val error : 607.83"
   ]
  },
  {
   "cell_type": "markdown",
   "metadata": {},
   "source": [
    "### depth 4/4\n",
    "final train error : 553.90\n",
    "final val error : 613.42"
   ]
  },
  {
   "cell_type": "markdown",
   "metadata": {},
   "source": [
    "### depth 5/5\n",
    "final train error : 518.09\n",
    "final val error : 622.05"
   ]
  },
  {
   "cell_type": "markdown",
   "metadata": {},
   "source": [
    "### depth 7/7\n",
    "final train error : 427.02\n",
    "final val error : 643.59"
   ]
  },
  {
   "cell_type": "code",
   "execution_count": 21,
   "metadata": {},
   "outputs": [],
   "source": [
    "final_pred = np.array(test_preds).mean(0)"
   ]
  },
  {
   "cell_type": "code",
   "execution_count": 22,
   "metadata": {},
   "outputs": [
    {
     "data": {
      "text/html": [
       "<div>\n",
       "<style scoped>\n",
       "    .dataframe tbody tr th:only-of-type {\n",
       "        vertical-align: middle;\n",
       "    }\n",
       "\n",
       "    .dataframe tbody tr th {\n",
       "        vertical-align: top;\n",
       "    }\n",
       "\n",
       "    .dataframe thead th {\n",
       "        text-align: right;\n",
       "    }\n",
       "</style>\n",
       "<table border=\"1\" class=\"dataframe\">\n",
       "  <thead>\n",
       "    <tr style=\"text-align: right;\">\n",
       "      <th></th>\n",
       "      <th>ID</th>\n",
       "      <th>Income</th>\n",
       "    </tr>\n",
       "  </thead>\n",
       "  <tbody>\n",
       "    <tr>\n",
       "      <th>0</th>\n",
       "      <td>TEST_0000</td>\n",
       "      <td>0</td>\n",
       "    </tr>\n",
       "    <tr>\n",
       "      <th>1</th>\n",
       "      <td>TEST_0001</td>\n",
       "      <td>0</td>\n",
       "    </tr>\n",
       "    <tr>\n",
       "      <th>2</th>\n",
       "      <td>TEST_0002</td>\n",
       "      <td>0</td>\n",
       "    </tr>\n",
       "    <tr>\n",
       "      <th>3</th>\n",
       "      <td>TEST_0003</td>\n",
       "      <td>0</td>\n",
       "    </tr>\n",
       "    <tr>\n",
       "      <th>4</th>\n",
       "      <td>TEST_0004</td>\n",
       "      <td>0</td>\n",
       "    </tr>\n",
       "    <tr>\n",
       "      <th>...</th>\n",
       "      <td>...</td>\n",
       "      <td>...</td>\n",
       "    </tr>\n",
       "    <tr>\n",
       "      <th>9995</th>\n",
       "      <td>TEST_9995</td>\n",
       "      <td>0</td>\n",
       "    </tr>\n",
       "    <tr>\n",
       "      <th>9996</th>\n",
       "      <td>TEST_9996</td>\n",
       "      <td>0</td>\n",
       "    </tr>\n",
       "    <tr>\n",
       "      <th>9997</th>\n",
       "      <td>TEST_9997</td>\n",
       "      <td>0</td>\n",
       "    </tr>\n",
       "    <tr>\n",
       "      <th>9998</th>\n",
       "      <td>TEST_9998</td>\n",
       "      <td>0</td>\n",
       "    </tr>\n",
       "    <tr>\n",
       "      <th>9999</th>\n",
       "      <td>TEST_9999</td>\n",
       "      <td>0</td>\n",
       "    </tr>\n",
       "  </tbody>\n",
       "</table>\n",
       "<p>10000 rows × 2 columns</p>\n",
       "</div>"
      ],
      "text/plain": [
       "             ID  Income\n",
       "0     TEST_0000       0\n",
       "1     TEST_0001       0\n",
       "2     TEST_0002       0\n",
       "3     TEST_0003       0\n",
       "4     TEST_0004       0\n",
       "...         ...     ...\n",
       "9995  TEST_9995       0\n",
       "9996  TEST_9996       0\n",
       "9997  TEST_9997       0\n",
       "9998  TEST_9998       0\n",
       "9999  TEST_9999       0\n",
       "\n",
       "[10000 rows x 2 columns]"
      ]
     },
     "execution_count": 22,
     "metadata": {},
     "output_type": "execute_result"
    }
   ],
   "source": [
    "submission = pd.read_csv('data/sample_submission.csv')\n",
    "submission"
   ]
  },
  {
   "cell_type": "code",
   "execution_count": 23,
   "metadata": {},
   "outputs": [
    {
     "data": {
      "text/html": [
       "<div>\n",
       "<style scoped>\n",
       "    .dataframe tbody tr th:only-of-type {\n",
       "        vertical-align: middle;\n",
       "    }\n",
       "\n",
       "    .dataframe tbody tr th {\n",
       "        vertical-align: top;\n",
       "    }\n",
       "\n",
       "    .dataframe thead th {\n",
       "        text-align: right;\n",
       "    }\n",
       "</style>\n",
       "<table border=\"1\" class=\"dataframe\">\n",
       "  <thead>\n",
       "    <tr style=\"text-align: right;\">\n",
       "      <th></th>\n",
       "      <th>ID</th>\n",
       "      <th>Income</th>\n",
       "    </tr>\n",
       "  </thead>\n",
       "  <tbody>\n",
       "    <tr>\n",
       "      <th>0</th>\n",
       "      <td>TEST_0000</td>\n",
       "      <td>0.000000</td>\n",
       "    </tr>\n",
       "    <tr>\n",
       "      <th>1</th>\n",
       "      <td>TEST_0001</td>\n",
       "      <td>0.000000</td>\n",
       "    </tr>\n",
       "    <tr>\n",
       "      <th>2</th>\n",
       "      <td>TEST_0002</td>\n",
       "      <td>396.495658</td>\n",
       "    </tr>\n",
       "    <tr>\n",
       "      <th>3</th>\n",
       "      <td>TEST_0003</td>\n",
       "      <td>613.660784</td>\n",
       "    </tr>\n",
       "    <tr>\n",
       "      <th>4</th>\n",
       "      <td>TEST_0004</td>\n",
       "      <td>0.000000</td>\n",
       "    </tr>\n",
       "    <tr>\n",
       "      <th>...</th>\n",
       "      <td>...</td>\n",
       "      <td>...</td>\n",
       "    </tr>\n",
       "    <tr>\n",
       "      <th>9995</th>\n",
       "      <td>TEST_9995</td>\n",
       "      <td>896.896521</td>\n",
       "    </tr>\n",
       "    <tr>\n",
       "      <th>9996</th>\n",
       "      <td>TEST_9996</td>\n",
       "      <td>761.892146</td>\n",
       "    </tr>\n",
       "    <tr>\n",
       "      <th>9997</th>\n",
       "      <td>TEST_9997</td>\n",
       "      <td>346.917442</td>\n",
       "    </tr>\n",
       "    <tr>\n",
       "      <th>9998</th>\n",
       "      <td>TEST_9998</td>\n",
       "      <td>0.000000</td>\n",
       "    </tr>\n",
       "    <tr>\n",
       "      <th>9999</th>\n",
       "      <td>TEST_9999</td>\n",
       "      <td>762.482807</td>\n",
       "    </tr>\n",
       "  </tbody>\n",
       "</table>\n",
       "<p>10000 rows × 2 columns</p>\n",
       "</div>"
      ],
      "text/plain": [
       "             ID      Income\n",
       "0     TEST_0000    0.000000\n",
       "1     TEST_0001    0.000000\n",
       "2     TEST_0002  396.495658\n",
       "3     TEST_0003  613.660784\n",
       "4     TEST_0004    0.000000\n",
       "...         ...         ...\n",
       "9995  TEST_9995  896.896521\n",
       "9996  TEST_9996  761.892146\n",
       "9997  TEST_9997  346.917442\n",
       "9998  TEST_9998    0.000000\n",
       "9999  TEST_9999  762.482807\n",
       "\n",
       "[10000 rows x 2 columns]"
      ]
     },
     "execution_count": 23,
     "metadata": {},
     "output_type": "execute_result"
    }
   ],
   "source": [
    "submission['Income'] = final_pred\n",
    "submission"
   ]
  },
  {
   "cell_type": "code",
   "execution_count": 24,
   "metadata": {},
   "outputs": [],
   "source": [
    "os.makedirs('submission', exist_ok=True)\n",
    "# submission.to_csv('submission/baseline_0314.csv', index=False)\n",
    "submission.to_csv('submission/feat_engineering_0321.csv', index=False)"
   ]
  }
 ],
 "metadata": {
  "kernelspec": {
   "display_name": "torch",
   "language": "python",
   "name": "python3"
  },
  "language_info": {
   "codemirror_mode": {
    "name": "ipython",
    "version": 3
   },
   "file_extension": ".py",
   "mimetype": "text/x-python",
   "name": "python",
   "nbconvert_exporter": "python",
   "pygments_lexer": "ipython3",
   "version": "3.9.18"
  }
 },
 "nbformat": 4,
 "nbformat_minor": 2
}
