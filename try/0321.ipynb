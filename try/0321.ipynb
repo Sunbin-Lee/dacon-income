{
 "cells": [
  {
   "cell_type": "code",
   "execution_count": 135,
   "metadata": {},
   "outputs": [],
   "source": [
    "import pandas as pd\n",
    "import numpy as np\n",
    "import random\n",
    "import os"
   ]
  },
  {
   "cell_type": "code",
   "execution_count": 136,
   "metadata": {},
   "outputs": [],
   "source": [
    "from sklearn.preprocessing import LabelEncoder, OneHotEncoder, StandardScaler\n",
    "from sklearn.model_selection import train_test_split, KFold\n",
    "from sklearn.svm import SVC\n",
    "from sklearn.ensemble import GradientBoostingClassifier, GradientBoostingRegressor\n",
    "from sklearn.metrics import accuracy_score, mean_squared_error, confusion_matrix"
   ]
  },
  {
   "cell_type": "code",
   "execution_count": 137,
   "metadata": {},
   "outputs": [],
   "source": [
    "import matplotlib.pyplot as plt\n",
    "import seaborn as sns"
   ]
  },
  {
   "cell_type": "code",
   "execution_count": 138,
   "metadata": {},
   "outputs": [],
   "source": [
    "def seed_everything(seed):\n",
    "    random.seed(seed)\n",
    "    os.environ['PYTHONHASHSEED'] = str(seed)\n",
    "    np.random.seed(seed)\n",
    "\n",
    "seed_everything(42) # Seed 고정"
   ]
  },
  {
   "cell_type": "code",
   "execution_count": 139,
   "metadata": {},
   "outputs": [],
   "source": [
    "# 'Industry_Status',\n",
    "# 'Hispanic_Origin',\n",
    "# 'Household_Status',\n",
    "# 'Birth_Country',\n",
    "# 'Birth_Country (Father)', \n",
    "# 'Birth_Country (Mother)'"
   ]
  },
  {
   "cell_type": "code",
   "execution_count": 140,
   "metadata": {},
   "outputs": [],
   "source": [
    "train = pd.read_csv('data/train.csv')\n",
    "test = pd.read_csv('data/test.csv')"
   ]
  },
  {
   "cell_type": "code",
   "execution_count": 141,
   "metadata": {},
   "outputs": [
    {
     "data": {
      "text/plain": [
       "Index(['ID', 'Age', 'Gender', 'Education_Status', 'Employment_Status',\n",
       "       'Working_Week (Yearly)', 'Industry_Status', 'Occupation_Status', 'Race',\n",
       "       'Hispanic_Origin', 'Martial_Status', 'Household_Status',\n",
       "       'Household_Summary', 'Citizenship', 'Birth_Country',\n",
       "       'Birth_Country (Father)', 'Birth_Country (Mother)', 'Tax_Status',\n",
       "       'Gains', 'Losses', 'Dividends', 'Income_Status', 'Income'],\n",
       "      dtype='object')"
      ]
     },
     "execution_count": 141,
     "metadata": {},
     "output_type": "execute_result"
    }
   ],
   "source": [
    "train.columns"
   ]
  },
  {
   "cell_type": "markdown",
   "metadata": {},
   "source": [
    "### modify education"
   ]
  },
  {
   "cell_type": "code",
   "execution_count": 142,
   "metadata": {},
   "outputs": [],
   "source": [
    "def modify_education(education):\n",
    "    if education in ['Children', 'Kindergarten', 'Elementary (1-4)', 'Elementary (5-6)', \n",
    "                     'Middle (7-8)', 'High Freshman', 'High Sophomore', \n",
    "                     'High Junior', 'High Senior']:\n",
    "        return 'dropout'\n",
    "    elif education in ['College', 'Associates degree (Academic)', 'Associates degree (Vocational)']:\n",
    "        return 'CommunityCollege'\n",
    "    elif education in ['Professional degree', 'Masters degree']:\n",
    "        return 'Masters degree'\n",
    "    else:\n",
    "        return education"
   ]
  },
  {
   "cell_type": "code",
   "execution_count": 143,
   "metadata": {},
   "outputs": [],
   "source": [
    "train['Education'] = train['Education_Status']\n",
    "train['Education'] = train['Education'].apply(modify_education)"
   ]
  },
  {
   "cell_type": "code",
   "execution_count": 144,
   "metadata": {},
   "outputs": [],
   "source": [
    "test['Education'] = test['Education_Status']\n",
    "test['Education'] = test['Education'].apply(modify_education)"
   ]
  },
  {
   "cell_type": "markdown",
   "metadata": {},
   "source": [
    "### modify income status"
   ]
  },
  {
   "cell_type": "code",
   "execution_count": 145,
   "metadata": {},
   "outputs": [],
   "source": [
    "def modify_income_status(status):\n",
    "    if status in ['Unknown', 'Under Median']:\n",
    "        return 'Under Median'\n",
    "    else:\n",
    "        return status"
   ]
  },
  {
   "cell_type": "code",
   "execution_count": 146,
   "metadata": {},
   "outputs": [],
   "source": [
    "train['Income_Status'] = train['Income_Status'].apply(modify_income_status)\n",
    "test['Income_Status'] = test['Income_Status'].apply(modify_income_status)"
   ]
  },
  {
   "cell_type": "markdown",
   "metadata": {},
   "source": [
    "### income==0 예측"
   ]
  },
  {
   "cell_type": "code",
   "execution_count": 147,
   "metadata": {},
   "outputs": [],
   "source": [
    "train['Income_nonzero'] = train['Income'] > 0"
   ]
  },
  {
   "cell_type": "code",
   "execution_count": 148,
   "metadata": {},
   "outputs": [
    {
     "data": {
      "text/html": [
       "<div>\n",
       "<style scoped>\n",
       "    .dataframe tbody tr th:only-of-type {\n",
       "        vertical-align: middle;\n",
       "    }\n",
       "\n",
       "    .dataframe tbody tr th {\n",
       "        vertical-align: top;\n",
       "    }\n",
       "\n",
       "    .dataframe thead th {\n",
       "        text-align: right;\n",
       "    }\n",
       "</style>\n",
       "<table border=\"1\" class=\"dataframe\">\n",
       "  <thead>\n",
       "    <tr style=\"text-align: right;\">\n",
       "      <th></th>\n",
       "      <th>ID</th>\n",
       "      <th>Age</th>\n",
       "      <th>Gender</th>\n",
       "      <th>Education_Status</th>\n",
       "      <th>Employment_Status</th>\n",
       "      <th>Working_Week (Yearly)</th>\n",
       "      <th>Industry_Status</th>\n",
       "      <th>Occupation_Status</th>\n",
       "      <th>Race</th>\n",
       "      <th>Hispanic_Origin</th>\n",
       "      <th>...</th>\n",
       "      <th>Birth_Country (Father)</th>\n",
       "      <th>Birth_Country (Mother)</th>\n",
       "      <th>Tax_Status</th>\n",
       "      <th>Gains</th>\n",
       "      <th>Losses</th>\n",
       "      <th>Dividends</th>\n",
       "      <th>Income_Status</th>\n",
       "      <th>Income</th>\n",
       "      <th>Education</th>\n",
       "      <th>Income_nonzero</th>\n",
       "    </tr>\n",
       "  </thead>\n",
       "  <tbody>\n",
       "    <tr>\n",
       "      <th>0</th>\n",
       "      <td>TRAIN_00000</td>\n",
       "      <td>63</td>\n",
       "      <td>M</td>\n",
       "      <td>Middle (7-8)</td>\n",
       "      <td>Full-Time</td>\n",
       "      <td>4</td>\n",
       "      <td>Social Services</td>\n",
       "      <td>Services</td>\n",
       "      <td>White</td>\n",
       "      <td>All other</td>\n",
       "      <td>...</td>\n",
       "      <td>US</td>\n",
       "      <td>US</td>\n",
       "      <td>Nonfiler</td>\n",
       "      <td>0</td>\n",
       "      <td>0</td>\n",
       "      <td>0</td>\n",
       "      <td>Under Median</td>\n",
       "      <td>425</td>\n",
       "      <td>dropout</td>\n",
       "      <td>True</td>\n",
       "    </tr>\n",
       "    <tr>\n",
       "      <th>1</th>\n",
       "      <td>TRAIN_00001</td>\n",
       "      <td>37</td>\n",
       "      <td>M</td>\n",
       "      <td>Associates degree (Vocational)</td>\n",
       "      <td>Full-Time</td>\n",
       "      <td>52</td>\n",
       "      <td>Entertainment</td>\n",
       "      <td>Services</td>\n",
       "      <td>White</td>\n",
       "      <td>All other</td>\n",
       "      <td>...</td>\n",
       "      <td>US</td>\n",
       "      <td>US</td>\n",
       "      <td>Single</td>\n",
       "      <td>0</td>\n",
       "      <td>0</td>\n",
       "      <td>0</td>\n",
       "      <td>Under Median</td>\n",
       "      <td>0</td>\n",
       "      <td>CommunityCollege</td>\n",
       "      <td>False</td>\n",
       "    </tr>\n",
       "    <tr>\n",
       "      <th>2</th>\n",
       "      <td>TRAIN_00002</td>\n",
       "      <td>58</td>\n",
       "      <td>F</td>\n",
       "      <td>High graduate</td>\n",
       "      <td>Full-Time</td>\n",
       "      <td>52</td>\n",
       "      <td>Manufacturing (Non-durable)</td>\n",
       "      <td>Admin Support (include Clerical)</td>\n",
       "      <td>Black</td>\n",
       "      <td>All other</td>\n",
       "      <td>...</td>\n",
       "      <td>US</td>\n",
       "      <td>US</td>\n",
       "      <td>Married Filling Jointly both under 65 (MFJ)</td>\n",
       "      <td>3411</td>\n",
       "      <td>0</td>\n",
       "      <td>0</td>\n",
       "      <td>Under Median</td>\n",
       "      <td>860</td>\n",
       "      <td>High graduate</td>\n",
       "      <td>True</td>\n",
       "    </tr>\n",
       "    <tr>\n",
       "      <th>3</th>\n",
       "      <td>TRAIN_00003</td>\n",
       "      <td>44</td>\n",
       "      <td>M</td>\n",
       "      <td>High graduate</td>\n",
       "      <td>Full-Time</td>\n",
       "      <td>52</td>\n",
       "      <td>Retail</td>\n",
       "      <td>Technicians &amp; Support</td>\n",
       "      <td>White</td>\n",
       "      <td>All other</td>\n",
       "      <td>...</td>\n",
       "      <td>US</td>\n",
       "      <td>US</td>\n",
       "      <td>Single</td>\n",
       "      <td>0</td>\n",
       "      <td>0</td>\n",
       "      <td>0</td>\n",
       "      <td>Under Median</td>\n",
       "      <td>850</td>\n",
       "      <td>High graduate</td>\n",
       "      <td>True</td>\n",
       "    </tr>\n",
       "    <tr>\n",
       "      <th>4</th>\n",
       "      <td>TRAIN_00004</td>\n",
       "      <td>37</td>\n",
       "      <td>F</td>\n",
       "      <td>High graduate</td>\n",
       "      <td>Full-Time</td>\n",
       "      <td>52</td>\n",
       "      <td>Retail</td>\n",
       "      <td>Sales</td>\n",
       "      <td>White</td>\n",
       "      <td>All other</td>\n",
       "      <td>...</td>\n",
       "      <td>US</td>\n",
       "      <td>US</td>\n",
       "      <td>Head of Household (HOH)</td>\n",
       "      <td>0</td>\n",
       "      <td>0</td>\n",
       "      <td>0</td>\n",
       "      <td>Under Median</td>\n",
       "      <td>570</td>\n",
       "      <td>High graduate</td>\n",
       "      <td>True</td>\n",
       "    </tr>\n",
       "  </tbody>\n",
       "</table>\n",
       "<p>5 rows × 25 columns</p>\n",
       "</div>"
      ],
      "text/plain": [
       "            ID  Age Gender                Education_Status Employment_Status  \\\n",
       "0  TRAIN_00000   63      M                    Middle (7-8)         Full-Time   \n",
       "1  TRAIN_00001   37      M  Associates degree (Vocational)         Full-Time   \n",
       "2  TRAIN_00002   58      F                   High graduate         Full-Time   \n",
       "3  TRAIN_00003   44      M                   High graduate         Full-Time   \n",
       "4  TRAIN_00004   37      F                   High graduate         Full-Time   \n",
       "\n",
       "   Working_Week (Yearly)              Industry_Status  \\\n",
       "0                      4              Social Services   \n",
       "1                     52                Entertainment   \n",
       "2                     52  Manufacturing (Non-durable)   \n",
       "3                     52                       Retail   \n",
       "4                     52                       Retail   \n",
       "\n",
       "                  Occupation_Status   Race Hispanic_Origin  ...  \\\n",
       "0                          Services  White       All other  ...   \n",
       "1                          Services  White       All other  ...   \n",
       "2  Admin Support (include Clerical)  Black       All other  ...   \n",
       "3             Technicians & Support  White       All other  ...   \n",
       "4                             Sales  White       All other  ...   \n",
       "\n",
       "  Birth_Country (Father) Birth_Country (Mother)  \\\n",
       "0                     US                     US   \n",
       "1                     US                     US   \n",
       "2                     US                     US   \n",
       "3                     US                     US   \n",
       "4                     US                     US   \n",
       "\n",
       "                                    Tax_Status Gains Losses Dividends  \\\n",
       "0                                     Nonfiler     0      0         0   \n",
       "1                                       Single     0      0         0   \n",
       "2  Married Filling Jointly both under 65 (MFJ)  3411      0         0   \n",
       "3                                       Single     0      0         0   \n",
       "4                      Head of Household (HOH)     0      0         0   \n",
       "\n",
       "  Income_Status Income         Education  Income_nonzero  \n",
       "0  Under Median    425           dropout            True  \n",
       "1  Under Median      0  CommunityCollege           False  \n",
       "2  Under Median    860     High graduate            True  \n",
       "3  Under Median    850     High graduate            True  \n",
       "4  Under Median    570     High graduate            True  \n",
       "\n",
       "[5 rows x 25 columns]"
      ]
     },
     "execution_count": 148,
     "metadata": {},
     "output_type": "execute_result"
    }
   ],
   "source": [
    "train.head()"
   ]
  },
  {
   "cell_type": "markdown",
   "metadata": {},
   "source": [
    "### main"
   ]
  },
  {
   "cell_type": "code",
   "execution_count": 149,
   "metadata": {},
   "outputs": [],
   "source": [
    "trainval_x = train.drop(columns=['ID', 'Income', \n",
    "                                 'Hispanic_Origin', \n",
    "                                 'Household_Status', \n",
    "                                 'Birth_Country', \n",
    "                                 'Birth_Country (Father)', 'Birth_Country (Mother)',\n",
    "                                 'Education_Status',\n",
    "                                 'Income_nonzero'\n",
    "                                 ])\n",
    "trainval_y_nonzero = train['Income_nonzero']\n",
    "trainval_y = train['Income']\n",
    "\n",
    "test_x = test.drop(columns=['ID',\n",
    "                            'Hispanic_Origin', \n",
    "                            'Household_Status', \n",
    "                            'Birth_Country', \n",
    "                            'Birth_Country (Father)', 'Birth_Country (Mother)',\n",
    "                            'Education_Status',\n",
    "                            ])"
   ]
  },
  {
   "cell_type": "code",
   "execution_count": 150,
   "metadata": {},
   "outputs": [
    {
     "name": "stdout",
     "output_type": "stream",
     "text": [
      "<class 'pandas.core.frame.DataFrame'>\n",
      "RangeIndex: 20000 entries, 0 to 19999\n",
      "Data columns (total 16 columns):\n",
      " #   Column                 Non-Null Count  Dtype \n",
      "---  ------                 --------------  ----- \n",
      " 0   Age                    20000 non-null  int64 \n",
      " 1   Gender                 20000 non-null  object\n",
      " 2   Employment_Status      20000 non-null  object\n",
      " 3   Working_Week (Yearly)  20000 non-null  int64 \n",
      " 4   Industry_Status        20000 non-null  object\n",
      " 5   Occupation_Status      20000 non-null  object\n",
      " 6   Race                   20000 non-null  object\n",
      " 7   Martial_Status         20000 non-null  object\n",
      " 8   Household_Summary      20000 non-null  object\n",
      " 9   Citizenship            20000 non-null  object\n",
      " 10  Tax_Status             20000 non-null  object\n",
      " 11  Gains                  20000 non-null  int64 \n",
      " 12  Losses                 20000 non-null  int64 \n",
      " 13  Dividends              20000 non-null  int64 \n",
      " 14  Income_Status          20000 non-null  object\n",
      " 15  Education              20000 non-null  object\n",
      "dtypes: int64(5), object(11)\n",
      "memory usage: 2.4+ MB\n"
     ]
    }
   ],
   "source": [
    "trainval_x.info()"
   ]
  },
  {
   "cell_type": "code",
   "execution_count": 151,
   "metadata": {},
   "outputs": [
    {
     "name": "stdout",
     "output_type": "stream",
     "text": [
      "save\n"
     ]
    }
   ],
   "source": [
    "encoding_target = list(trainval_x.dtypes[trainval_x.dtypes == \"object\"].index)\n",
    "\n",
    "for i in encoding_target:\n",
    "    le = LabelEncoder()\n",
    "    \n",
    "    # train과 test 데이터셋에서 해당 열의 모든 값을 문자열로 변환\n",
    "    trainval_x[i] = trainval_x[i].astype(str)\n",
    "    test_x[i] = test_x[i].astype(str)\n",
    "    \n",
    "    le.fit(trainval_x[i])\n",
    "    trainval_x[i] = le.transform(trainval_x[i])\n",
    "    \n",
    "    # test 데이터의 새로운 카테고리에 대해 le.classes_ 배열에 추가\n",
    "    for case in np.unique(test_x[i]):\n",
    "        if case not in le.classes_: \n",
    "            print('case')\n",
    "            le.classes_ = np.append(le.classes_, case)\n",
    "    \n",
    "    if i == 'Occupation_Status':\n",
    "        save_le = le\n",
    "        print('save')\n",
    "        \n",
    "    test_x[i] = le.transform(test_x[i])"
   ]
  },
  {
   "cell_type": "code",
   "execution_count": 152,
   "metadata": {},
   "outputs": [],
   "source": [
    "train_idx, val_idx = train_test_split(np.arange(len(trainval_x)), stratify=trainval_y_nonzero, test_size=0.2)"
   ]
  },
  {
   "cell_type": "code",
   "execution_count": 153,
   "metadata": {},
   "outputs": [],
   "source": [
    "train_x = trainval_x.iloc[train_idx]\n",
    "train_y_nonzero = trainval_y_nonzero[train_idx]\n",
    "train_y = trainval_y[train_idx]\n",
    "\n",
    "train_x.reset_index(drop=True, inplace=True)\n",
    "train_y_nonzero = train_y_nonzero.reset_index(drop=True)\n",
    "train_y = train_y.reset_index(drop=True)\n",
    "\n",
    "val_x = trainval_x.iloc[val_idx]\n",
    "val_y_nonzero = trainval_y_nonzero[val_idx]\n",
    "val_y = trainval_y[val_idx]\n",
    "\n",
    "val_x.reset_index(drop=True, inplace=True)\n",
    "val_y_nonzero = val_y_nonzero.reset_index(drop=True)\n",
    "val_y = val_y.reset_index(drop=True)"
   ]
  },
  {
   "cell_type": "markdown",
   "metadata": {},
   "source": [
    "#### step1-classification"
   ]
  },
  {
   "cell_type": "code",
   "execution_count": 154,
   "metadata": {},
   "outputs": [
    {
     "data": {
      "text/html": [
       "<style>#sk-container-id-17 {color: black;}#sk-container-id-17 pre{padding: 0;}#sk-container-id-17 div.sk-toggleable {background-color: white;}#sk-container-id-17 label.sk-toggleable__label {cursor: pointer;display: block;width: 100%;margin-bottom: 0;padding: 0.3em;box-sizing: border-box;text-align: center;}#sk-container-id-17 label.sk-toggleable__label-arrow:before {content: \"▸\";float: left;margin-right: 0.25em;color: #696969;}#sk-container-id-17 label.sk-toggleable__label-arrow:hover:before {color: black;}#sk-container-id-17 div.sk-estimator:hover label.sk-toggleable__label-arrow:before {color: black;}#sk-container-id-17 div.sk-toggleable__content {max-height: 0;max-width: 0;overflow: hidden;text-align: left;background-color: #f0f8ff;}#sk-container-id-17 div.sk-toggleable__content pre {margin: 0.2em;color: black;border-radius: 0.25em;background-color: #f0f8ff;}#sk-container-id-17 input.sk-toggleable__control:checked~div.sk-toggleable__content {max-height: 200px;max-width: 100%;overflow: auto;}#sk-container-id-17 input.sk-toggleable__control:checked~label.sk-toggleable__label-arrow:before {content: \"▾\";}#sk-container-id-17 div.sk-estimator input.sk-toggleable__control:checked~label.sk-toggleable__label {background-color: #d4ebff;}#sk-container-id-17 div.sk-label input.sk-toggleable__control:checked~label.sk-toggleable__label {background-color: #d4ebff;}#sk-container-id-17 input.sk-hidden--visually {border: 0;clip: rect(1px 1px 1px 1px);clip: rect(1px, 1px, 1px, 1px);height: 1px;margin: -1px;overflow: hidden;padding: 0;position: absolute;width: 1px;}#sk-container-id-17 div.sk-estimator {font-family: monospace;background-color: #f0f8ff;border: 1px dotted black;border-radius: 0.25em;box-sizing: border-box;margin-bottom: 0.5em;}#sk-container-id-17 div.sk-estimator:hover {background-color: #d4ebff;}#sk-container-id-17 div.sk-parallel-item::after {content: \"\";width: 100%;border-bottom: 1px solid gray;flex-grow: 1;}#sk-container-id-17 div.sk-label:hover label.sk-toggleable__label {background-color: #d4ebff;}#sk-container-id-17 div.sk-serial::before {content: \"\";position: absolute;border-left: 1px solid gray;box-sizing: border-box;top: 0;bottom: 0;left: 50%;z-index: 0;}#sk-container-id-17 div.sk-serial {display: flex;flex-direction: column;align-items: center;background-color: white;padding-right: 0.2em;padding-left: 0.2em;position: relative;}#sk-container-id-17 div.sk-item {position: relative;z-index: 1;}#sk-container-id-17 div.sk-parallel {display: flex;align-items: stretch;justify-content: center;background-color: white;position: relative;}#sk-container-id-17 div.sk-item::before, #sk-container-id-17 div.sk-parallel-item::before {content: \"\";position: absolute;border-left: 1px solid gray;box-sizing: border-box;top: 0;bottom: 0;left: 50%;z-index: -1;}#sk-container-id-17 div.sk-parallel-item {display: flex;flex-direction: column;z-index: 1;position: relative;background-color: white;}#sk-container-id-17 div.sk-parallel-item:first-child::after {align-self: flex-end;width: 50%;}#sk-container-id-17 div.sk-parallel-item:last-child::after {align-self: flex-start;width: 50%;}#sk-container-id-17 div.sk-parallel-item:only-child::after {width: 0;}#sk-container-id-17 div.sk-dashed-wrapped {border: 1px dashed gray;margin: 0 0.4em 0.5em 0.4em;box-sizing: border-box;padding-bottom: 0.4em;background-color: white;}#sk-container-id-17 div.sk-label label {font-family: monospace;font-weight: bold;display: inline-block;line-height: 1.2em;}#sk-container-id-17 div.sk-label-container {text-align: center;}#sk-container-id-17 div.sk-container {/* jupyter's `normalize.less` sets `[hidden] { display: none; }` but bootstrap.min.css set `[hidden] { display: none !important; }` so we also need the `!important` here to be able to override the default hidden behavior on the sphinx rendered scikit-learn.org. See: https://github.com/scikit-learn/scikit-learn/issues/21755 */display: inline-block !important;position: relative;}#sk-container-id-17 div.sk-text-repr-fallback {display: none;}</style><div id=\"sk-container-id-17\" class=\"sk-top-container\"><div class=\"sk-text-repr-fallback\"><pre>GradientBoostingClassifier()</pre><b>In a Jupyter environment, please rerun this cell to show the HTML representation or trust the notebook. <br />On GitHub, the HTML representation is unable to render, please try loading this page with nbviewer.org.</b></div><div class=\"sk-container\" hidden><div class=\"sk-item\"><div class=\"sk-estimator sk-toggleable\"><input class=\"sk-toggleable__control sk-hidden--visually\" id=\"sk-estimator-id-17\" type=\"checkbox\" checked><label for=\"sk-estimator-id-17\" class=\"sk-toggleable__label sk-toggleable__label-arrow\">GradientBoostingClassifier</label><div class=\"sk-toggleable__content\"><pre>GradientBoostingClassifier()</pre></div></div></div></div></div>"
      ],
      "text/plain": [
       "GradientBoostingClassifier()"
      ]
     },
     "execution_count": 154,
     "metadata": {},
     "output_type": "execute_result"
    }
   ],
   "source": [
    "clf = GradientBoostingClassifier(max_depth=3)\n",
    "# clf = SVC()\n",
    "clf.fit(train_x, train_y_nonzero)"
   ]
  },
  {
   "cell_type": "code",
   "execution_count": 155,
   "metadata": {},
   "outputs": [
    {
     "name": "stdout",
     "output_type": "stream",
     "text": [
      "train acc : 82.59\n",
      "val acc : 81.90\n"
     ]
    }
   ],
   "source": [
    "train_y_nonzero_hat = clf.predict(train_x)\n",
    "train_acc = accuracy_score(train_y_nonzero, train_y_nonzero_hat)\n",
    "print(f'train acc : {train_acc*100:.2f}')\n",
    "\n",
    "val_y_nonzero_hat = clf.predict(val_x)\n",
    "val_acc = accuracy_score(val_y_nonzero, val_y_nonzero_hat)\n",
    "print(f'val acc : {val_acc*100:.2f}')"
   ]
  },
  {
   "cell_type": "code",
   "execution_count": 156,
   "metadata": {},
   "outputs": [],
   "source": [
    "feature_importance = clf.feature_importances_\n",
    "importance_df = pd.Series(feature_importance, trainval_x.columns)\n",
    "importance_df.sort_values(inplace=True)"
   ]
  },
  {
   "cell_type": "code",
   "execution_count": 157,
   "metadata": {},
   "outputs": [
    {
     "data": {
      "image/png": "[encoded data removed]",
      "text/plain": [
       "<Figure size 640x480 with 1 Axes>"
      ]
     },
     "metadata": {},
     "output_type": "display_data"
    }
   ],
   "source": [
    "plt.barh(np.arange(len(importance_df)), importance_df)\n",
    "plt.yticks(np.arange(len(importance_df)), importance_df.index)\n",
    "plt.show()"
   ]
  },
  {
   "cell_type": "code",
   "execution_count": 158,
   "metadata": {},
   "outputs": [
    {
     "name": "stdout",
     "output_type": "stream",
     "text": [
      "[[1087  652]\n",
      " [  72 2189]]\n",
      "[[0.62507188 0.37492812]\n",
      " [0.03184432 0.96815568]]\n"
     ]
    },
    {
     "data": {
      "image/png": "[encoded data removed]",
      "text/plain": [
       "<Figure size 640x480 with 2 Axes>"
      ]
     },
     "metadata": {},
     "output_type": "display_data"
    }
   ],
   "source": [
    "cm_true = confusion_matrix(val_y_nonzero, val_y_nonzero_hat)\n",
    "print(cm_true)\n",
    "cm = confusion_matrix(val_y_nonzero, val_y_nonzero_hat, normalize='true')\n",
    "print(cm)\n",
    "sns.heatmap(cm, annot=True, cmap='Blues')\n",
    "plt.xlabel('predicted')\n",
    "plt.ylabel('true')\n",
    "plt.show()"
   ]
  },
  {
   "cell_type": "markdown",
   "metadata": {},
   "source": [
    "#### income 0을 1로 예측하는 오류가 대부분"
   ]
  },
  {
   "cell_type": "code",
   "execution_count": 159,
   "metadata": {},
   "outputs": [],
   "source": [
    "np.where(val_y_nonzero!=val_y_nonzero_hat)[0]\n",
    "df1 = val_x.iloc[np.where(val_y_nonzero==val_y_nonzero_hat)[0]]\n",
    "df2 = val_x.iloc[np.where(val_y_nonzero!=val_y_nonzero_hat)[0]]"
   ]
  },
  {
   "cell_type": "code",
   "execution_count": 160,
   "metadata": {},
   "outputs": [],
   "source": [
    "check_1 = save_le.inverse_transform(df1['Occupation_Status'])\n",
    "check_2 = save_le.inverse_transform(df2['Occupation_Status'])"
   ]
  },
  {
   "cell_type": "code",
   "execution_count": 161,
   "metadata": {},
   "outputs": [
    {
     "data": {
      "image/png": "[encoded data removed]",
      "text/plain": [
       "<Figure size 640x480 with 1 Axes>"
      ]
     },
     "metadata": {},
     "output_type": "display_data"
    }
   ],
   "source": [
    "sns.histplot(y=check_1, label='correct')\n",
    "sns.histplot(y=check_2, label='incorrect')\n",
    "plt.show()"
   ]
  },
  {
   "cell_type": "markdown",
   "metadata": {},
   "source": [
    "#### unknown -> income 0"
   ]
  },
  {
   "cell_type": "markdown",
   "metadata": {},
   "source": [
    "#### step2-regression (income=1로 예측한 것들만)"
   ]
  },
  {
   "cell_type": "code",
   "execution_count": 162,
   "metadata": {},
   "outputs": [
    {
     "data": {
      "text/plain": [
       "(4604, 11396)"
      ]
     },
     "execution_count": 162,
     "metadata": {},
     "output_type": "execute_result"
    }
   ],
   "source": [
    "train_zero_idx = np.where(train_y_nonzero_hat==0)[0]\n",
    "train_nonzero_idx = np.where(train_y_nonzero_hat!=0)[0]\n",
    "\n",
    "len(train_zero_idx), len(train_nonzero_idx)"
   ]
  },
  {
   "cell_type": "code",
   "execution_count": 163,
   "metadata": {},
   "outputs": [
    {
     "data": {
      "text/plain": [
       "(1159, 2841)"
      ]
     },
     "execution_count": 163,
     "metadata": {},
     "output_type": "execute_result"
    }
   ],
   "source": [
    "val_zero_idx = np.where(val_y_nonzero_hat==0)[0]\n",
    "val_nonzero_idx = np.where(val_y_nonzero_hat!=0)[0]\n",
    "\n",
    "len(val_zero_idx), len(val_nonzero_idx)"
   ]
  },
  {
   "cell_type": "code",
   "execution_count": 164,
   "metadata": {},
   "outputs": [
    {
     "data": {
      "text/html": [
       "<style>#sk-container-id-18 {color: black;}#sk-container-id-18 pre{padding: 0;}#sk-container-id-18 div.sk-toggleable {background-color: white;}#sk-container-id-18 label.sk-toggleable__label {cursor: pointer;display: block;width: 100%;margin-bottom: 0;padding: 0.3em;box-sizing: border-box;text-align: center;}#sk-container-id-18 label.sk-toggleable__label-arrow:before {content: \"▸\";float: left;margin-right: 0.25em;color: #696969;}#sk-container-id-18 label.sk-toggleable__label-arrow:hover:before {color: black;}#sk-container-id-18 div.sk-estimator:hover label.sk-toggleable__label-arrow:before {color: black;}#sk-container-id-18 div.sk-toggleable__content {max-height: 0;max-width: 0;overflow: hidden;text-align: left;background-color: #f0f8ff;}#sk-container-id-18 div.sk-toggleable__content pre {margin: 0.2em;color: black;border-radius: 0.25em;background-color: #f0f8ff;}#sk-container-id-18 input.sk-toggleable__control:checked~div.sk-toggleable__content {max-height: 200px;max-width: 100%;overflow: auto;}#sk-container-id-18 input.sk-toggleable__control:checked~label.sk-toggleable__label-arrow:before {content: \"▾\";}#sk-container-id-18 div.sk-estimator input.sk-toggleable__control:checked~label.sk-toggleable__label {background-color: #d4ebff;}#sk-container-id-18 div.sk-label input.sk-toggleable__control:checked~label.sk-toggleable__label {background-color: #d4ebff;}#sk-container-id-18 input.sk-hidden--visually {border: 0;clip: rect(1px 1px 1px 1px);clip: rect(1px, 1px, 1px, 1px);height: 1px;margin: -1px;overflow: hidden;padding: 0;position: absolute;width: 1px;}#sk-container-id-18 div.sk-estimator {font-family: monospace;background-color: #f0f8ff;border: 1px dotted black;border-radius: 0.25em;box-sizing: border-box;margin-bottom: 0.5em;}#sk-container-id-18 div.sk-estimator:hover {background-color: #d4ebff;}#sk-container-id-18 div.sk-parallel-item::after {content: \"\";width: 100%;border-bottom: 1px solid gray;flex-grow: 1;}#sk-container-id-18 div.sk-label:hover label.sk-toggleable__label {background-color: #d4ebff;}#sk-container-id-18 div.sk-serial::before {content: \"\";position: absolute;border-left: 1px solid gray;box-sizing: border-box;top: 0;bottom: 0;left: 50%;z-index: 0;}#sk-container-id-18 div.sk-serial {display: flex;flex-direction: column;align-items: center;background-color: white;padding-right: 0.2em;padding-left: 0.2em;position: relative;}#sk-container-id-18 div.sk-item {position: relative;z-index: 1;}#sk-container-id-18 div.sk-parallel {display: flex;align-items: stretch;justify-content: center;background-color: white;position: relative;}#sk-container-id-18 div.sk-item::before, #sk-container-id-18 div.sk-parallel-item::before {content: \"\";position: absolute;border-left: 1px solid gray;box-sizing: border-box;top: 0;bottom: 0;left: 50%;z-index: -1;}#sk-container-id-18 div.sk-parallel-item {display: flex;flex-direction: column;z-index: 1;position: relative;background-color: white;}#sk-container-id-18 div.sk-parallel-item:first-child::after {align-self: flex-end;width: 50%;}#sk-container-id-18 div.sk-parallel-item:last-child::after {align-self: flex-start;width: 50%;}#sk-container-id-18 div.sk-parallel-item:only-child::after {width: 0;}#sk-container-id-18 div.sk-dashed-wrapped {border: 1px dashed gray;margin: 0 0.4em 0.5em 0.4em;box-sizing: border-box;padding-bottom: 0.4em;background-color: white;}#sk-container-id-18 div.sk-label label {font-family: monospace;font-weight: bold;display: inline-block;line-height: 1.2em;}#sk-container-id-18 div.sk-label-container {text-align: center;}#sk-container-id-18 div.sk-container {/* jupyter's `normalize.less` sets `[hidden] { display: none; }` but bootstrap.min.css set `[hidden] { display: none !important; }` so we also need the `!important` here to be able to override the default hidden behavior on the sphinx rendered scikit-learn.org. See: https://github.com/scikit-learn/scikit-learn/issues/21755 */display: inline-block !important;position: relative;}#sk-container-id-18 div.sk-text-repr-fallback {display: none;}</style><div id=\"sk-container-id-18\" class=\"sk-top-container\"><div class=\"sk-text-repr-fallback\"><pre>GradientBoostingRegressor()</pre><b>In a Jupyter environment, please rerun this cell to show the HTML representation or trust the notebook. <br />On GitHub, the HTML representation is unable to render, please try loading this page with nbviewer.org.</b></div><div class=\"sk-container\" hidden><div class=\"sk-item\"><div class=\"sk-estimator sk-toggleable\"><input class=\"sk-toggleable__control sk-hidden--visually\" id=\"sk-estimator-id-18\" type=\"checkbox\" checked><label for=\"sk-estimator-id-18\" class=\"sk-toggleable__label sk-toggleable__label-arrow\">GradientBoostingRegressor</label><div class=\"sk-toggleable__content\"><pre>GradientBoostingRegressor()</pre></div></div></div></div></div>"
      ],
      "text/plain": [
       "GradientBoostingRegressor()"
      ]
     },
     "execution_count": 164,
     "metadata": {},
     "output_type": "execute_result"
    }
   ],
   "source": [
    "reg = GradientBoostingRegressor(max_depth=3)\n",
    "reg.fit(train_x.iloc[train_nonzero_idx], train_y[train_nonzero_idx])"
   ]
  },
  {
   "cell_type": "code",
   "execution_count": 165,
   "metadata": {},
   "outputs": [
    {
     "data": {
      "image/png": "[encoded data removed]",
      "text/plain": [
       "<Figure size 640x480 with 1 Axes>"
      ]
     },
     "metadata": {},
     "output_type": "display_data"
    }
   ],
   "source": [
    "feature_importance = reg.feature_importances_\n",
    "importance_df = pd.Series(feature_importance, trainval_x.columns)\n",
    "importance_df.sort_values(inplace=True)\n",
    "\n",
    "plt.barh(np.arange(len(importance_df)), importance_df)\n",
    "plt.yticks(np.arange(len(importance_df)), importance_df.index)\n",
    "plt.show()"
   ]
  },
  {
   "cell_type": "code",
   "execution_count": 166,
   "metadata": {},
   "outputs": [
    {
     "name": "stdout",
     "output_type": "stream",
     "text": [
      "train error : 580.22\n",
      "val error : 611.53\n"
     ]
    }
   ],
   "source": [
    "train_y_hat = np.zeros_like(train_y)\n",
    "val_y_hat = np.zeros_like(val_y)\n",
    "\n",
    "train_y_hat_nonzero = reg.predict(train_x.iloc[train_nonzero_idx])\n",
    "val_y_hat_nonzero = reg.predict(val_x.iloc[val_nonzero_idx])\n",
    "\n",
    "train_y_hat[train_nonzero_idx] = train_y_hat_nonzero\n",
    "val_y_hat[val_nonzero_idx] = val_y_hat_nonzero\n",
    "\n",
    "train_error = mean_squared_error(train_y, train_y_hat) ** 0.5\n",
    "val_error = mean_squared_error(val_y, val_y_hat) ** 0.5\n",
    "\n",
    "print(f'train error : {train_error:.2f}')\n",
    "print(f'val error : {val_error:.2f}')"
   ]
  },
  {
   "cell_type": "code",
   "execution_count": 167,
   "metadata": {},
   "outputs": [
    {
     "ename": "SyntaxError",
     "evalue": "invalid syntax (1102136943.py, line 1)",
     "output_type": "error",
     "traceback": [
      "\u001b[1;36m  Cell \u001b[1;32mIn[167], line 1\u001b[1;36m\u001b[0m\n\u001b[1;33m    def\u001b[0m\n\u001b[1;37m       ^\u001b[0m\n\u001b[1;31mSyntaxError\u001b[0m\u001b[1;31m:\u001b[0m invalid syntax\n"
     ]
    }
   ],
   "source": [
    "def"
   ]
  },
  {
   "cell_type": "code",
   "execution_count": null,
   "metadata": {},
   "outputs": [],
   "source": []
  },
  {
   "cell_type": "markdown",
   "metadata": {},
   "source": [
    "### modify income status (best)\n",
    "##### final train error : 459.07\n",
    "##### final val error : 608.42"
   ]
  },
  {
   "cell_type": "code",
   "execution_count": null,
   "metadata": {},
   "outputs": [],
   "source": []
  },
  {
   "cell_type": "code",
   "execution_count": null,
   "metadata": {},
   "outputs": [],
   "source": [
    "final_pred = np.array(test_preds).mean(0)"
   ]
  },
  {
   "cell_type": "code",
   "execution_count": null,
   "metadata": {},
   "outputs": [
    {
     "data": {
      "text/html": [
       "<div>\n",
       "<style scoped>\n",
       "    .dataframe tbody tr th:only-of-type {\n",
       "        vertical-align: middle;\n",
       "    }\n",
       "\n",
       "    .dataframe tbody tr th {\n",
       "        vertical-align: top;\n",
       "    }\n",
       "\n",
       "    .dataframe thead th {\n",
       "        text-align: right;\n",
       "    }\n",
       "</style>\n",
       "<table border=\"1\" class=\"dataframe\">\n",
       "  <thead>\n",
       "    <tr style=\"text-align: right;\">\n",
       "      <th></th>\n",
       "      <th>ID</th>\n",
       "      <th>Income</th>\n",
       "    </tr>\n",
       "  </thead>\n",
       "  <tbody>\n",
       "    <tr>\n",
       "      <th>0</th>\n",
       "      <td>TEST_0000</td>\n",
       "      <td>0</td>\n",
       "    </tr>\n",
       "    <tr>\n",
       "      <th>1</th>\n",
       "      <td>TEST_0001</td>\n",
       "      <td>0</td>\n",
       "    </tr>\n",
       "    <tr>\n",
       "      <th>2</th>\n",
       "      <td>TEST_0002</td>\n",
       "      <td>0</td>\n",
       "    </tr>\n",
       "    <tr>\n",
       "      <th>3</th>\n",
       "      <td>TEST_0003</td>\n",
       "      <td>0</td>\n",
       "    </tr>\n",
       "    <tr>\n",
       "      <th>4</th>\n",
       "      <td>TEST_0004</td>\n",
       "      <td>0</td>\n",
       "    </tr>\n",
       "    <tr>\n",
       "      <th>...</th>\n",
       "      <td>...</td>\n",
       "      <td>...</td>\n",
       "    </tr>\n",
       "    <tr>\n",
       "      <th>9995</th>\n",
       "      <td>TEST_9995</td>\n",
       "      <td>0</td>\n",
       "    </tr>\n",
       "    <tr>\n",
       "      <th>9996</th>\n",
       "      <td>TEST_9996</td>\n",
       "      <td>0</td>\n",
       "    </tr>\n",
       "    <tr>\n",
       "      <th>9997</th>\n",
       "      <td>TEST_9997</td>\n",
       "      <td>0</td>\n",
       "    </tr>\n",
       "    <tr>\n",
       "      <th>9998</th>\n",
       "      <td>TEST_9998</td>\n",
       "      <td>0</td>\n",
       "    </tr>\n",
       "    <tr>\n",
       "      <th>9999</th>\n",
       "      <td>TEST_9999</td>\n",
       "      <td>0</td>\n",
       "    </tr>\n",
       "  </tbody>\n",
       "</table>\n",
       "<p>10000 rows × 2 columns</p>\n",
       "</div>"
      ],
      "text/plain": [
       "             ID  Income\n",
       "0     TEST_0000       0\n",
       "1     TEST_0001       0\n",
       "2     TEST_0002       0\n",
       "3     TEST_0003       0\n",
       "4     TEST_0004       0\n",
       "...         ...     ...\n",
       "9995  TEST_9995       0\n",
       "9996  TEST_9996       0\n",
       "9997  TEST_9997       0\n",
       "9998  TEST_9998       0\n",
       "9999  TEST_9999       0\n",
       "\n",
       "[10000 rows x 2 columns]"
      ]
     },
     "execution_count": 30,
     "metadata": {},
     "output_type": "execute_result"
    }
   ],
   "source": [
    "submission = pd.read_csv('data/sample_submission.csv')\n",
    "submission"
   ]
  },
  {
   "cell_type": "code",
   "execution_count": null,
   "metadata": {},
   "outputs": [
    {
     "data": {
      "text/html": [
       "<div>\n",
       "<style scoped>\n",
       "    .dataframe tbody tr th:only-of-type {\n",
       "        vertical-align: middle;\n",
       "    }\n",
       "\n",
       "    .dataframe tbody tr th {\n",
       "        vertical-align: top;\n",
       "    }\n",
       "\n",
       "    .dataframe thead th {\n",
       "        text-align: right;\n",
       "    }\n",
       "</style>\n",
       "<table border=\"1\" class=\"dataframe\">\n",
       "  <thead>\n",
       "    <tr style=\"text-align: right;\">\n",
       "      <th></th>\n",
       "      <th>ID</th>\n",
       "      <th>Income</th>\n",
       "    </tr>\n",
       "  </thead>\n",
       "  <tbody>\n",
       "    <tr>\n",
       "      <th>0</th>\n",
       "      <td>TEST_0000</td>\n",
       "      <td>-1.367361</td>\n",
       "    </tr>\n",
       "    <tr>\n",
       "      <th>1</th>\n",
       "      <td>TEST_0001</td>\n",
       "      <td>31.340819</td>\n",
       "    </tr>\n",
       "    <tr>\n",
       "      <th>2</th>\n",
       "      <td>TEST_0002</td>\n",
       "      <td>407.449383</td>\n",
       "    </tr>\n",
       "    <tr>\n",
       "      <th>3</th>\n",
       "      <td>TEST_0003</td>\n",
       "      <td>621.593877</td>\n",
       "    </tr>\n",
       "    <tr>\n",
       "      <th>4</th>\n",
       "      <td>TEST_0004</td>\n",
       "      <td>3.033274</td>\n",
       "    </tr>\n",
       "    <tr>\n",
       "      <th>...</th>\n",
       "      <td>...</td>\n",
       "      <td>...</td>\n",
       "    </tr>\n",
       "    <tr>\n",
       "      <th>9995</th>\n",
       "      <td>TEST_9995</td>\n",
       "      <td>909.235724</td>\n",
       "    </tr>\n",
       "    <tr>\n",
       "      <th>9996</th>\n",
       "      <td>TEST_9996</td>\n",
       "      <td>817.979346</td>\n",
       "    </tr>\n",
       "    <tr>\n",
       "      <th>9997</th>\n",
       "      <td>TEST_9997</td>\n",
       "      <td>381.699638</td>\n",
       "    </tr>\n",
       "    <tr>\n",
       "      <th>9998</th>\n",
       "      <td>TEST_9998</td>\n",
       "      <td>3.033274</td>\n",
       "    </tr>\n",
       "    <tr>\n",
       "      <th>9999</th>\n",
       "      <td>TEST_9999</td>\n",
       "      <td>571.297869</td>\n",
       "    </tr>\n",
       "  </tbody>\n",
       "</table>\n",
       "<p>10000 rows × 2 columns</p>\n",
       "</div>"
      ],
      "text/plain": [
       "             ID      Income\n",
       "0     TEST_0000   -1.367361\n",
       "1     TEST_0001   31.340819\n",
       "2     TEST_0002  407.449383\n",
       "3     TEST_0003  621.593877\n",
       "4     TEST_0004    3.033274\n",
       "...         ...         ...\n",
       "9995  TEST_9995  909.235724\n",
       "9996  TEST_9996  817.979346\n",
       "9997  TEST_9997  381.699638\n",
       "9998  TEST_9998    3.033274\n",
       "9999  TEST_9999  571.297869\n",
       "\n",
       "[10000 rows x 2 columns]"
      ]
     },
     "execution_count": 31,
     "metadata": {},
     "output_type": "execute_result"
    }
   ],
   "source": [
    "submission['Income'] = final_pred\n",
    "submission"
   ]
  },
  {
   "cell_type": "code",
   "execution_count": null,
   "metadata": {},
   "outputs": [],
   "source": [
    "os.makedirs('submission', exist_ok=True)\n",
    "# submission.to_csv('submission/baseline_0314.csv', index=False)\n",
    "submission.to_csv('submission/feat_engineering_0321.csv', index=False)"
   ]
  }
 ],
 "metadata": {
  "kernelspec": {
   "display_name": "torch",
   "language": "python",
   "name": "python3"
  },
  "language_info": {
   "codemirror_mode": {
    "name": "ipython",
    "version": 3
   },
   "file_extension": ".py",
   "mimetype": "text/x-python",
   "name": "python",
   "nbconvert_exporter": "python",
   "pygments_lexer": "ipython3",
   "version": "3.9.18"
  }
 },
 "nbformat": 4,
 "nbformat_minor": 2
}
