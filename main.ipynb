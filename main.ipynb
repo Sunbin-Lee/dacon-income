{
 "cells": [
  {
   "cell_type": "markdown",
   "metadata": {},
   "source": [
    "### duplicated data 처리\n",
    "#### (now) income까지 다 같은 행만 제거 duplicated_1 464.47(464.38) -> 463.78(463.70)\n",
    "#### max : duplicated_2 466.40(466.31)\n",
    "#### avg : duplicated_3 464.50(464.42)"
   ]
  },
  {
   "cell_type": "markdown",
   "metadata": {},
   "source": [
    "#### 18261보다 작아야 함"
   ]
  },
  {
   "cell_type": "code",
   "execution_count": 273,
   "metadata": {},
   "outputs": [],
   "source": [
    "name = 'gbr_mlp_ensemble_scaling'"
   ]
  },
  {
   "cell_type": "code",
   "execution_count": 274,
   "metadata": {},
   "outputs": [],
   "source": [
    "gbr_learning_rate = 0.05\n",
    "gbr_n_estimators = 500\n",
    "gbr_max_depth = 4\n",
    "gbr_min_samples_split = 16 # 노드 분할을 위한 최소 샘플 수\n",
    "gbr_min_samples_leaf = 16 # 리프노드 최소 샘플 수"
   ]
  },
  {
   "cell_type": "code",
   "execution_count": 275,
   "metadata": {},
   "outputs": [],
   "source": [
    "# - val_lr_0.05_n_500_d_4_s_16_leaf_16"
   ]
  },
  {
   "cell_type": "code",
   "execution_count": 276,
   "metadata": {},
   "outputs": [],
   "source": [
    "xgb_learning_rate = 0.1\n",
    "xgb_max_depth = 4\n",
    "xgb_n_estimators = 200\n",
    "xgb_min_child_weight = 16"
   ]
  },
  {
   "cell_type": "code",
   "execution_count": 277,
   "metadata": {},
   "outputs": [],
   "source": [
    "# - val_n_200_lr_0.1_d_4_child_16"
   ]
  },
  {
   "cell_type": "code",
   "execution_count": 278,
   "metadata": {},
   "outputs": [],
   "source": [
    "mlp_activation = 'tanh'\n",
    "mlp_max_iter = 127"
   ]
  },
  {
   "cell_type": "code",
   "execution_count": 279,
   "metadata": {},
   "outputs": [],
   "source": [
    "import pandas as pd\n",
    "import numpy as np\n",
    "import random\n",
    "import os"
   ]
  },
  {
   "cell_type": "code",
   "execution_count": 280,
   "metadata": {},
   "outputs": [],
   "source": [
    "from sklearn.preprocessing import LabelEncoder, OneHotEncoder, StandardScaler\n",
    "from sklearn.model_selection import train_test_split, KFold, StratifiedKFold\n",
    "from sklearn.ensemble import GradientBoostingRegressor, RandomForestRegressor\n",
    "from sklearn.neural_network import MLPRegressor\n",
    "from sklearn.metrics import mean_squared_error"
   ]
  },
  {
   "cell_type": "code",
   "execution_count": 281,
   "metadata": {},
   "outputs": [],
   "source": [
    "import xgboost\n",
    "from xgboost import XGBRegressor"
   ]
  },
  {
   "cell_type": "code",
   "execution_count": 282,
   "metadata": {},
   "outputs": [
    {
     "name": "stdout",
     "output_type": "stream",
     "text": [
      "0.24.1\n"
     ]
    }
   ],
   "source": [
    "import sklearn\n",
    "print(sklearn.__version__)"
   ]
  },
  {
   "cell_type": "code",
   "execution_count": 283,
   "metadata": {},
   "outputs": [],
   "source": [
    "import warnings\n",
    "warnings.filterwarnings('ignore')"
   ]
  },
  {
   "cell_type": "code",
   "execution_count": 284,
   "metadata": {},
   "outputs": [],
   "source": [
    "import matplotlib.pyplot as plt\n",
    "import seaborn as sns"
   ]
  },
  {
   "cell_type": "code",
   "execution_count": 285,
   "metadata": {},
   "outputs": [],
   "source": [
    "def seed_everything(seed):\n",
    "    random.seed(seed)\n",
    "    os.environ['PYTHONHASHSEED'] = str(seed)\n",
    "    np.random.seed(seed)\n",
    "\n",
    "seed_everything(42) # Seed 고정"
   ]
  },
  {
   "cell_type": "code",
   "execution_count": 286,
   "metadata": {},
   "outputs": [],
   "source": [
    "# 'Industry_Status',\n",
    "# 'Hispanic_Origin',\n",
    "# 'Household_Status',\n",
    "# 'Birth_Country',\n",
    "# 'Birth_Country (Father)', \n",
    "# 'Birth_Country (Mother)'"
   ]
  },
  {
   "cell_type": "code",
   "execution_count": 287,
   "metadata": {},
   "outputs": [],
   "source": [
    "train = pd.read_csv('data/train.csv')\n",
    "test = pd.read_csv('data/test.csv')"
   ]
  },
  {
   "cell_type": "code",
   "execution_count": 288,
   "metadata": {},
   "outputs": [
    {
     "data": {
      "text/plain": [
       "Index(['ID', 'Age', 'Gender', 'Education_Status', 'Employment_Status',\n",
       "       'Working_Week (Yearly)', 'Industry_Status', 'Occupation_Status', 'Race',\n",
       "       'Hispanic_Origin', 'Martial_Status', 'Household_Status',\n",
       "       'Household_Summary', 'Citizenship', 'Birth_Country',\n",
       "       'Birth_Country (Father)', 'Birth_Country (Mother)', 'Tax_Status',\n",
       "       'Gains', 'Losses', 'Dividends', 'Income_Status', 'Income'],\n",
       "      dtype='object')"
      ]
     },
     "execution_count": 288,
     "metadata": {},
     "output_type": "execute_result"
    }
   ],
   "source": [
    "train.columns"
   ]
  },
  {
   "cell_type": "code",
   "execution_count": 289,
   "metadata": {},
   "outputs": [],
   "source": [
    "features = ['Age', 'Gender', 'Education_Status', 'Employment_Status',\n",
    "       'Working_Week (Yearly)', 'Industry_Status', 'Occupation_Status', 'Race',\n",
    "       'Hispanic_Origin', 'Martial_Status', 'Household_Status',\n",
    "       'Household_Summary', 'Citizenship', 'Birth_Country',\n",
    "       'Birth_Country (Father)', 'Birth_Country (Mother)', 'Tax_Status',\n",
    "       'Gains', 'Losses', 'Dividends', 'Income_Status']"
   ]
  },
  {
   "cell_type": "code",
   "execution_count": 290,
   "metadata": {},
   "outputs": [
    {
     "data": {
      "text/plain": [
       "18320"
      ]
     },
     "execution_count": 290,
     "metadata": {},
     "output_type": "execute_result"
    }
   ],
   "source": [
    "drop_dup_1 = train.drop_duplicates(features)\n",
    "len(drop_dup_1)"
   ]
  },
  {
   "cell_type": "markdown",
   "metadata": {},
   "source": [
    "### 학습데이터 중복 행 처리"
   ]
  },
  {
   "cell_type": "code",
   "execution_count": 291,
   "metadata": {},
   "outputs": [],
   "source": [
    "features = ['Age', 'Gender', 'Education_Status', 'Employment_Status',\n",
    "    'Working_Week (Yearly)', 'Industry_Status', 'Occupation_Status', 'Race',\n",
    "    'Hispanic_Origin', 'Martial_Status', 'Household_Status',\n",
    "    'Household_Summary', 'Citizenship', 'Birth_Country',\n",
    "    'Birth_Country (Father)', 'Birth_Country (Mother)', 'Tax_Status',\n",
    "    'Gains', 'Losses', 'Dividends', 'Income_Status',\n",
    "    'Income' # Income 확인 여부\n",
    "    ]"
   ]
  },
  {
   "cell_type": "code",
   "execution_count": 292,
   "metadata": {},
   "outputs": [],
   "source": [
    "def concatenate_columns(row, features):\n",
    "\n",
    "    columns = [row[f] for f in features]\n",
    "    return ''.join(map(str, columns))\n",
    "\n",
    "train['key'] = train.apply(concatenate_columns, axis=1, args=(features, ))"
   ]
  },
  {
   "cell_type": "code",
   "execution_count": 293,
   "metadata": {},
   "outputs": [
    {
     "data": {
      "text/plain": [
       "'63MMiddle (7-8)Full-Time4Social ServicesServicesWhite All otherMarriedHouseholderHouseholderNativeUSUSUSNonfiler000Unknown425'"
      ]
     },
     "execution_count": 293,
     "metadata": {},
     "output_type": "execute_result"
    }
   ],
   "source": [
    "train['key'][0]"
   ]
  },
  {
   "cell_type": "code",
   "execution_count": null,
   "metadata": {},
   "outputs": [],
   "source": []
  },
  {
   "cell_type": "code",
   "execution_count": 294,
   "metadata": {},
   "outputs": [],
   "source": [
    "# count = 0\n",
    "# total_count = 0\n",
    "# total_count_row = 0\n",
    "# dup_idxs = []\n",
    "# for k in set(train['key']):\n",
    "#     income = train.loc[train['key']==k, 'Income']\n",
    "#     l = list(income)\n",
    "#     if len(l) > 1:\n",
    "#         if len(np.unique(l))>=2: # 중복 존재 & income이 다른 경우\n",
    "#             # train.loc[train['key']==k, 'Income'] = max(l) # max\n",
    "#             train.loc[train['key']==k, 'Income'] = sum(l)/len(l) # avg"
   ]
  },
  {
   "cell_type": "code",
   "execution_count": 295,
   "metadata": {},
   "outputs": [
    {
     "data": {
      "text/plain": [
       "18501"
      ]
     },
     "execution_count": 295,
     "metadata": {},
     "output_type": "execute_result"
    }
   ],
   "source": [
    "drop_dup_2 = train.drop_duplicates(features)\n",
    "len(drop_dup_2)"
   ]
  },
  {
   "cell_type": "markdown",
   "metadata": {},
   "source": [
    "### drop duplicated"
   ]
  },
  {
   "cell_type": "code",
   "execution_count": 296,
   "metadata": {},
   "outputs": [],
   "source": [
    "train.drop_duplicates(features, inplace=True)\n",
    "train.reset_index(drop=True, inplace=True)"
   ]
  },
  {
   "cell_type": "code",
   "execution_count": 297,
   "metadata": {},
   "outputs": [
    {
     "data": {
      "text/plain": [
       "18501"
      ]
     },
     "execution_count": 297,
     "metadata": {},
     "output_type": "execute_result"
    }
   ],
   "source": [
    "len(train)"
   ]
  },
  {
   "cell_type": "markdown",
   "metadata": {},
   "source": [
    "##### max로 채우기 mean(600) / std(713)"
   ]
  },
  {
   "cell_type": "code",
   "execution_count": 298,
   "metadata": {},
   "outputs": [
    {
     "data": {
      "text/html": [
       "<div>\n",
       "<style scoped>\n",
       "    .dataframe tbody tr th:only-of-type {\n",
       "        vertical-align: middle;\n",
       "    }\n",
       "\n",
       "    .dataframe tbody tr th {\n",
       "        vertical-align: top;\n",
       "    }\n",
       "\n",
       "    .dataframe thead th {\n",
       "        text-align: right;\n",
       "    }\n",
       "</style>\n",
       "<table border=\"1\" class=\"dataframe\">\n",
       "  <thead>\n",
       "    <tr style=\"text-align: right;\">\n",
       "      <th></th>\n",
       "      <th>Age</th>\n",
       "      <th>Working_Week (Yearly)</th>\n",
       "      <th>Gains</th>\n",
       "      <th>Losses</th>\n",
       "      <th>Dividends</th>\n",
       "      <th>Income</th>\n",
       "    </tr>\n",
       "  </thead>\n",
       "  <tbody>\n",
       "    <tr>\n",
       "      <th>count</th>\n",
       "      <td>18501.000000</td>\n",
       "      <td>18501.000000</td>\n",
       "      <td>18501.000000</td>\n",
       "      <td>18501.000000</td>\n",
       "      <td>18501.000000</td>\n",
       "      <td>18501.000000</td>\n",
       "    </tr>\n",
       "    <tr>\n",
       "      <th>mean</th>\n",
       "      <td>37.752284</td>\n",
       "      <td>37.739095</td>\n",
       "      <td>414.171666</td>\n",
       "      <td>43.459435</td>\n",
       "      <td>133.453813</td>\n",
       "      <td>599.213880</td>\n",
       "    </tr>\n",
       "    <tr>\n",
       "      <th>std</th>\n",
       "      <td>16.726767</td>\n",
       "      <td>20.720317</td>\n",
       "      <td>4307.383394</td>\n",
       "      <td>290.029113</td>\n",
       "      <td>1254.362886</td>\n",
       "      <td>710.776048</td>\n",
       "    </tr>\n",
       "    <tr>\n",
       "      <th>min</th>\n",
       "      <td>0.000000</td>\n",
       "      <td>0.000000</td>\n",
       "      <td>0.000000</td>\n",
       "      <td>0.000000</td>\n",
       "      <td>0.000000</td>\n",
       "      <td>0.000000</td>\n",
       "    </tr>\n",
       "    <tr>\n",
       "      <th>25%</th>\n",
       "      <td>25.000000</td>\n",
       "      <td>24.000000</td>\n",
       "      <td>0.000000</td>\n",
       "      <td>0.000000</td>\n",
       "      <td>0.000000</td>\n",
       "      <td>0.000000</td>\n",
       "    </tr>\n",
       "    <tr>\n",
       "      <th>50%</th>\n",
       "      <td>36.000000</td>\n",
       "      <td>52.000000</td>\n",
       "      <td>0.000000</td>\n",
       "      <td>0.000000</td>\n",
       "      <td>0.000000</td>\n",
       "      <td>505.000000</td>\n",
       "    </tr>\n",
       "    <tr>\n",
       "      <th>75%</th>\n",
       "      <td>48.000000</td>\n",
       "      <td>52.000000</td>\n",
       "      <td>0.000000</td>\n",
       "      <td>0.000000</td>\n",
       "      <td>0.000000</td>\n",
       "      <td>900.000000</td>\n",
       "    </tr>\n",
       "    <tr>\n",
       "      <th>max</th>\n",
       "      <td>90.000000</td>\n",
       "      <td>52.000000</td>\n",
       "      <td>99999.000000</td>\n",
       "      <td>4356.000000</td>\n",
       "      <td>45000.000000</td>\n",
       "      <td>9999.000000</td>\n",
       "    </tr>\n",
       "  </tbody>\n",
       "</table>\n",
       "</div>"
      ],
      "text/plain": [
       "                Age  Working_Week (Yearly)         Gains        Losses  \\\n",
       "count  18501.000000           18501.000000  18501.000000  18501.000000   \n",
       "mean      37.752284              37.739095    414.171666     43.459435   \n",
       "std       16.726767              20.720317   4307.383394    290.029113   \n",
       "min        0.000000               0.000000      0.000000      0.000000   \n",
       "25%       25.000000              24.000000      0.000000      0.000000   \n",
       "50%       36.000000              52.000000      0.000000      0.000000   \n",
       "75%       48.000000              52.000000      0.000000      0.000000   \n",
       "max       90.000000              52.000000  99999.000000   4356.000000   \n",
       "\n",
       "          Dividends        Income  \n",
       "count  18501.000000  18501.000000  \n",
       "mean     133.453813    599.213880  \n",
       "std     1254.362886    710.776048  \n",
       "min        0.000000      0.000000  \n",
       "25%        0.000000      0.000000  \n",
       "50%        0.000000    505.000000  \n",
       "75%        0.000000    900.000000  \n",
       "max    45000.000000   9999.000000  "
      ]
     },
     "execution_count": 298,
     "metadata": {},
     "output_type": "execute_result"
    }
   ],
   "source": [
    "train.describe()"
   ]
  },
  {
   "cell_type": "markdown",
   "metadata": {},
   "source": [
    "#### 중복행 1680"
   ]
  },
  {
   "cell_type": "markdown",
   "metadata": {},
   "source": [
    "### modify age (처리x)"
   ]
  },
  {
   "cell_type": "markdown",
   "metadata": {},
   "source": [
    "### modify education"
   ]
  },
  {
   "cell_type": "code",
   "execution_count": 299,
   "metadata": {},
   "outputs": [],
   "source": [
    "def modify_education(education):\n",
    "    if education in ['Children', 'Kindergarten', 'Elementary (1-4)', 'Elementary (5-6)', \n",
    "                     'Middle (7-8)', 'High Freshman', 'High Sophomore', \n",
    "                     'High Junior', 'High Senior']:\n",
    "        return 'dropout'\n",
    "    elif education in ['College', 'Associates degree (Academic)', 'Associates degree (Vocational)']:\n",
    "        return 'CommunityCollege'\n",
    "    elif education in ['Professional degree', 'Masters degree']:\n",
    "        return 'Masters degree'\n",
    "    else:\n",
    "        return education"
   ]
  },
  {
   "cell_type": "code",
   "execution_count": 300,
   "metadata": {},
   "outputs": [],
   "source": [
    "train['Education'] = train['Education_Status']\n",
    "train['Education'] = train['Education'].apply(modify_education)"
   ]
  },
  {
   "cell_type": "code",
   "execution_count": 301,
   "metadata": {},
   "outputs": [],
   "source": [
    "test['Education'] = test['Education_Status']\n",
    "test['Education'] = test['Education'].apply(modify_education)"
   ]
  },
  {
   "cell_type": "markdown",
   "metadata": {},
   "source": [
    "### employment status"
   ]
  },
  {
   "cell_type": "markdown",
   "metadata": {},
   "source": [
    "### race - 시도"
   ]
  },
  {
   "cell_type": "markdown",
   "metadata": {},
   "source": [
    "### martial status"
   ]
  },
  {
   "cell_type": "markdown",
   "metadata": {},
   "source": [
    "### modify household (처리x)"
   ]
  },
  {
   "cell_type": "code",
   "execution_count": 302,
   "metadata": {},
   "outputs": [
    {
     "data": {
      "text/plain": [
       "array(['Child 18 or older', 'Child under 18 ever married',\n",
       "       'Child under 18 never married',\n",
       "       'Group Quarters- Secondary individual', 'Householder',\n",
       "       'Nonrelative of householder', 'Other relative of householder',\n",
       "       'Spouse of householder'], dtype=object)"
      ]
     },
     "execution_count": 302,
     "metadata": {},
     "output_type": "execute_result"
    }
   ],
   "source": [
    "np.unique(train['Household_Summary'])"
   ]
  },
  {
   "cell_type": "code",
   "execution_count": 303,
   "metadata": {},
   "outputs": [],
   "source": [
    "# def modify_household(household):\n",
    "#     if household == 'Householder':\n",
    "#         return 'Householder'\n",
    "#     elif household in ['Child 18 or older', 'Child under 18 ever married', 'Child under 18 never married', \n",
    "#                      'Other relative of householder', 'Spouse of householder']:\n",
    "#         return 'dependents'\n",
    "#     else:\n",
    "#         return 'others'"
   ]
  },
  {
   "cell_type": "code",
   "execution_count": 304,
   "metadata": {},
   "outputs": [],
   "source": [
    "# train['Household_Summary'] = train['Household_Summary'].apply(modify_household)\n",
    "# test['Household_Summary'] = test['Household_Summary'].apply(modify_household)"
   ]
  },
  {
   "cell_type": "markdown",
   "metadata": {},
   "source": [
    "### citizenship"
   ]
  },
  {
   "cell_type": "markdown",
   "metadata": {},
   "source": [
    "### modify tax status (처리x)"
   ]
  },
  {
   "cell_type": "code",
   "execution_count": 305,
   "metadata": {},
   "outputs": [],
   "source": [
    "def modify_tax(tax):\n",
    "    if tax.startswith('Married'):\n",
    "        return 'MFJ'\n",
    "    else:\n",
    "        return tax"
   ]
  },
  {
   "cell_type": "code",
   "execution_count": 306,
   "metadata": {},
   "outputs": [],
   "source": [
    "# train['Tax_Status'] = train['Tax_Status'].apply(modify_tax)\n",
    "# test['Tax_Status'] = test['Tax_Status'].apply(modify_tax)"
   ]
  },
  {
   "cell_type": "code",
   "execution_count": 307,
   "metadata": {},
   "outputs": [],
   "source": [
    "# sns.histplot(y='Tax_Status', data=train)"
   ]
  },
  {
   "cell_type": "markdown",
   "metadata": {},
   "source": [
    "### modify income status"
   ]
  },
  {
   "cell_type": "code",
   "execution_count": 308,
   "metadata": {},
   "outputs": [],
   "source": [
    "def modify_income_status(status):\n",
    "    if status in ['Unknown', 'Under Median']:\n",
    "        return 'Under Median'\n",
    "    else:\n",
    "        return status"
   ]
  },
  {
   "cell_type": "code",
   "execution_count": 309,
   "metadata": {},
   "outputs": [],
   "source": [
    "train['Income_Status'] = train['Income_Status'].apply(modify_income_status)\n",
    "test['Income_Status'] = test['Income_Status'].apply(modify_income_status)"
   ]
  },
  {
   "cell_type": "code",
   "execution_count": 310,
   "metadata": {},
   "outputs": [
    {
     "data": {
      "text/html": [
       "<div>\n",
       "<style scoped>\n",
       "    .dataframe tbody tr th:only-of-type {\n",
       "        vertical-align: middle;\n",
       "    }\n",
       "\n",
       "    .dataframe tbody tr th {\n",
       "        vertical-align: top;\n",
       "    }\n",
       "\n",
       "    .dataframe thead th {\n",
       "        text-align: right;\n",
       "    }\n",
       "</style>\n",
       "<table border=\"1\" class=\"dataframe\">\n",
       "  <thead>\n",
       "    <tr style=\"text-align: right;\">\n",
       "      <th></th>\n",
       "      <th>ID</th>\n",
       "      <th>Age</th>\n",
       "      <th>Gender</th>\n",
       "      <th>Education_Status</th>\n",
       "      <th>Employment_Status</th>\n",
       "      <th>Working_Week (Yearly)</th>\n",
       "      <th>Industry_Status</th>\n",
       "      <th>Occupation_Status</th>\n",
       "      <th>Race</th>\n",
       "      <th>Hispanic_Origin</th>\n",
       "      <th>...</th>\n",
       "      <th>Birth_Country (Father)</th>\n",
       "      <th>Birth_Country (Mother)</th>\n",
       "      <th>Tax_Status</th>\n",
       "      <th>Gains</th>\n",
       "      <th>Losses</th>\n",
       "      <th>Dividends</th>\n",
       "      <th>Income_Status</th>\n",
       "      <th>Income</th>\n",
       "      <th>key</th>\n",
       "      <th>Education</th>\n",
       "    </tr>\n",
       "  </thead>\n",
       "  <tbody>\n",
       "    <tr>\n",
       "      <th>0</th>\n",
       "      <td>TRAIN_00000</td>\n",
       "      <td>63</td>\n",
       "      <td>M</td>\n",
       "      <td>Middle (7-8)</td>\n",
       "      <td>Full-Time</td>\n",
       "      <td>4</td>\n",
       "      <td>Social Services</td>\n",
       "      <td>Services</td>\n",
       "      <td>White</td>\n",
       "      <td>All other</td>\n",
       "      <td>...</td>\n",
       "      <td>US</td>\n",
       "      <td>US</td>\n",
       "      <td>Nonfiler</td>\n",
       "      <td>0</td>\n",
       "      <td>0</td>\n",
       "      <td>0</td>\n",
       "      <td>Under Median</td>\n",
       "      <td>425</td>\n",
       "      <td>63MMiddle (7-8)Full-Time4Social ServicesServic...</td>\n",
       "      <td>dropout</td>\n",
       "    </tr>\n",
       "    <tr>\n",
       "      <th>1</th>\n",
       "      <td>TRAIN_00001</td>\n",
       "      <td>37</td>\n",
       "      <td>M</td>\n",
       "      <td>Associates degree (Vocational)</td>\n",
       "      <td>Full-Time</td>\n",
       "      <td>52</td>\n",
       "      <td>Entertainment</td>\n",
       "      <td>Services</td>\n",
       "      <td>White</td>\n",
       "      <td>All other</td>\n",
       "      <td>...</td>\n",
       "      <td>US</td>\n",
       "      <td>US</td>\n",
       "      <td>Single</td>\n",
       "      <td>0</td>\n",
       "      <td>0</td>\n",
       "      <td>0</td>\n",
       "      <td>Under Median</td>\n",
       "      <td>0</td>\n",
       "      <td>37MAssociates degree (Vocational)Full-Time52En...</td>\n",
       "      <td>CommunityCollege</td>\n",
       "    </tr>\n",
       "    <tr>\n",
       "      <th>2</th>\n",
       "      <td>TRAIN_00002</td>\n",
       "      <td>58</td>\n",
       "      <td>F</td>\n",
       "      <td>High graduate</td>\n",
       "      <td>Full-Time</td>\n",
       "      <td>52</td>\n",
       "      <td>Manufacturing (Non-durable)</td>\n",
       "      <td>Admin Support (include Clerical)</td>\n",
       "      <td>Black</td>\n",
       "      <td>All other</td>\n",
       "      <td>...</td>\n",
       "      <td>US</td>\n",
       "      <td>US</td>\n",
       "      <td>Married Filling Jointly both under 65 (MFJ)</td>\n",
       "      <td>3411</td>\n",
       "      <td>0</td>\n",
       "      <td>0</td>\n",
       "      <td>Under Median</td>\n",
       "      <td>860</td>\n",
       "      <td>58FHigh graduateFull-Time52Manufacturing (Non-...</td>\n",
       "      <td>High graduate</td>\n",
       "    </tr>\n",
       "    <tr>\n",
       "      <th>3</th>\n",
       "      <td>TRAIN_00003</td>\n",
       "      <td>44</td>\n",
       "      <td>M</td>\n",
       "      <td>High graduate</td>\n",
       "      <td>Full-Time</td>\n",
       "      <td>52</td>\n",
       "      <td>Retail</td>\n",
       "      <td>Technicians &amp; Support</td>\n",
       "      <td>White</td>\n",
       "      <td>All other</td>\n",
       "      <td>...</td>\n",
       "      <td>US</td>\n",
       "      <td>US</td>\n",
       "      <td>Single</td>\n",
       "      <td>0</td>\n",
       "      <td>0</td>\n",
       "      <td>0</td>\n",
       "      <td>Under Median</td>\n",
       "      <td>850</td>\n",
       "      <td>44MHigh graduateFull-Time52RetailTechnicians &amp;...</td>\n",
       "      <td>High graduate</td>\n",
       "    </tr>\n",
       "    <tr>\n",
       "      <th>4</th>\n",
       "      <td>TRAIN_00004</td>\n",
       "      <td>37</td>\n",
       "      <td>F</td>\n",
       "      <td>High graduate</td>\n",
       "      <td>Full-Time</td>\n",
       "      <td>52</td>\n",
       "      <td>Retail</td>\n",
       "      <td>Sales</td>\n",
       "      <td>White</td>\n",
       "      <td>All other</td>\n",
       "      <td>...</td>\n",
       "      <td>US</td>\n",
       "      <td>US</td>\n",
       "      <td>Head of Household (HOH)</td>\n",
       "      <td>0</td>\n",
       "      <td>0</td>\n",
       "      <td>0</td>\n",
       "      <td>Under Median</td>\n",
       "      <td>570</td>\n",
       "      <td>37FHigh graduateFull-Time52RetailSalesWhite Al...</td>\n",
       "      <td>High graduate</td>\n",
       "    </tr>\n",
       "    <tr>\n",
       "      <th>...</th>\n",
       "      <td>...</td>\n",
       "      <td>...</td>\n",
       "      <td>...</td>\n",
       "      <td>...</td>\n",
       "      <td>...</td>\n",
       "      <td>...</td>\n",
       "      <td>...</td>\n",
       "      <td>...</td>\n",
       "      <td>...</td>\n",
       "      <td>...</td>\n",
       "      <td>...</td>\n",
       "      <td>...</td>\n",
       "      <td>...</td>\n",
       "      <td>...</td>\n",
       "      <td>...</td>\n",
       "      <td>...</td>\n",
       "      <td>...</td>\n",
       "      <td>...</td>\n",
       "      <td>...</td>\n",
       "      <td>...</td>\n",
       "      <td>...</td>\n",
       "    </tr>\n",
       "    <tr>\n",
       "      <th>18496</th>\n",
       "      <td>TRAIN_19995</td>\n",
       "      <td>33</td>\n",
       "      <td>M</td>\n",
       "      <td>High graduate</td>\n",
       "      <td>Children or Armed Forces</td>\n",
       "      <td>52</td>\n",
       "      <td>Manufacturing (Durable)</td>\n",
       "      <td>Handlers/Cleaners</td>\n",
       "      <td>White</td>\n",
       "      <td>All other</td>\n",
       "      <td>...</td>\n",
       "      <td>US</td>\n",
       "      <td>US</td>\n",
       "      <td>Single</td>\n",
       "      <td>0</td>\n",
       "      <td>0</td>\n",
       "      <td>0</td>\n",
       "      <td>Under Median</td>\n",
       "      <td>1300</td>\n",
       "      <td>33MHigh graduateChildren or Armed Forces52Manu...</td>\n",
       "      <td>High graduate</td>\n",
       "    </tr>\n",
       "    <tr>\n",
       "      <th>18497</th>\n",
       "      <td>TRAIN_19996</td>\n",
       "      <td>20</td>\n",
       "      <td>F</td>\n",
       "      <td>College</td>\n",
       "      <td>Full-Time</td>\n",
       "      <td>12</td>\n",
       "      <td>Education</td>\n",
       "      <td>Admin Support (include Clerical)</td>\n",
       "      <td>White</td>\n",
       "      <td>Mexican-American</td>\n",
       "      <td>...</td>\n",
       "      <td>Mexico</td>\n",
       "      <td>Mexico</td>\n",
       "      <td>Nonfiler</td>\n",
       "      <td>0</td>\n",
       "      <td>0</td>\n",
       "      <td>0</td>\n",
       "      <td>Under Median</td>\n",
       "      <td>850</td>\n",
       "      <td>20FCollegeFull-Time12EducationAdmin Support (i...</td>\n",
       "      <td>CommunityCollege</td>\n",
       "    </tr>\n",
       "    <tr>\n",
       "      <th>18498</th>\n",
       "      <td>TRAIN_19997</td>\n",
       "      <td>22</td>\n",
       "      <td>M</td>\n",
       "      <td>College</td>\n",
       "      <td>Children or Armed Forces</td>\n",
       "      <td>52</td>\n",
       "      <td>Transportation</td>\n",
       "      <td>Technicians &amp; Support</td>\n",
       "      <td>White</td>\n",
       "      <td>All other</td>\n",
       "      <td>...</td>\n",
       "      <td>US</td>\n",
       "      <td>US</td>\n",
       "      <td>Single</td>\n",
       "      <td>0</td>\n",
       "      <td>0</td>\n",
       "      <td>0</td>\n",
       "      <td>Under Median</td>\n",
       "      <td>999</td>\n",
       "      <td>22MCollegeChildren or Armed Forces52Transporta...</td>\n",
       "      <td>CommunityCollege</td>\n",
       "    </tr>\n",
       "    <tr>\n",
       "      <th>18499</th>\n",
       "      <td>TRAIN_19998</td>\n",
       "      <td>76</td>\n",
       "      <td>F</td>\n",
       "      <td>High graduate</td>\n",
       "      <td>Not Working</td>\n",
       "      <td>0</td>\n",
       "      <td>Not in universe or children</td>\n",
       "      <td>Unknown</td>\n",
       "      <td>White</td>\n",
       "      <td>All other</td>\n",
       "      <td>...</td>\n",
       "      <td>Scotland</td>\n",
       "      <td>England</td>\n",
       "      <td>Single</td>\n",
       "      <td>0</td>\n",
       "      <td>0</td>\n",
       "      <td>0</td>\n",
       "      <td>Under Median</td>\n",
       "      <td>0</td>\n",
       "      <td>76FHigh graduateNot Working0Not in universe or...</td>\n",
       "      <td>High graduate</td>\n",
       "    </tr>\n",
       "    <tr>\n",
       "      <th>18500</th>\n",
       "      <td>TRAIN_19999</td>\n",
       "      <td>41</td>\n",
       "      <td>F</td>\n",
       "      <td>High graduate</td>\n",
       "      <td>Children or Armed Forces</td>\n",
       "      <td>52</td>\n",
       "      <td>Public Administration</td>\n",
       "      <td>Admin Support (include Clerical)</td>\n",
       "      <td>White</td>\n",
       "      <td>All other</td>\n",
       "      <td>...</td>\n",
       "      <td>US</td>\n",
       "      <td>US</td>\n",
       "      <td>Head of Household (HOH)</td>\n",
       "      <td>0</td>\n",
       "      <td>0</td>\n",
       "      <td>0</td>\n",
       "      <td>Under Median</td>\n",
       "      <td>671</td>\n",
       "      <td>41FHigh graduateChildren or Armed Forces52Publ...</td>\n",
       "      <td>High graduate</td>\n",
       "    </tr>\n",
       "  </tbody>\n",
       "</table>\n",
       "<p>18501 rows × 25 columns</p>\n",
       "</div>"
      ],
      "text/plain": [
       "                ID  Age Gender                Education_Status  \\\n",
       "0      TRAIN_00000   63      M                    Middle (7-8)   \n",
       "1      TRAIN_00001   37      M  Associates degree (Vocational)   \n",
       "2      TRAIN_00002   58      F                   High graduate   \n",
       "3      TRAIN_00003   44      M                   High graduate   \n",
       "4      TRAIN_00004   37      F                   High graduate   \n",
       "...            ...  ...    ...                             ...   \n",
       "18496  TRAIN_19995   33      M                   High graduate   \n",
       "18497  TRAIN_19996   20      F                         College   \n",
       "18498  TRAIN_19997   22      M                         College   \n",
       "18499  TRAIN_19998   76      F                   High graduate   \n",
       "18500  TRAIN_19999   41      F                   High graduate   \n",
       "\n",
       "              Employment_Status  Working_Week (Yearly)  \\\n",
       "0                     Full-Time                      4   \n",
       "1                     Full-Time                     52   \n",
       "2                     Full-Time                     52   \n",
       "3                     Full-Time                     52   \n",
       "4                     Full-Time                     52   \n",
       "...                         ...                    ...   \n",
       "18496  Children or Armed Forces                     52   \n",
       "18497                 Full-Time                     12   \n",
       "18498  Children or Armed Forces                     52   \n",
       "18499               Not Working                      0   \n",
       "18500  Children or Armed Forces                     52   \n",
       "\n",
       "                   Industry_Status                 Occupation_Status   Race  \\\n",
       "0                  Social Services                          Services  White   \n",
       "1                    Entertainment                          Services  White   \n",
       "2      Manufacturing (Non-durable)  Admin Support (include Clerical)  Black   \n",
       "3                           Retail             Technicians & Support  White   \n",
       "4                           Retail                             Sales  White   \n",
       "...                            ...                               ...    ...   \n",
       "18496      Manufacturing (Durable)                 Handlers/Cleaners  White   \n",
       "18497                    Education  Admin Support (include Clerical)  White   \n",
       "18498               Transportation             Technicians & Support  White   \n",
       "18499  Not in universe or children                           Unknown  White   \n",
       "18500        Public Administration  Admin Support (include Clerical)  White   \n",
       "\n",
       "         Hispanic_Origin  ... Birth_Country (Father) Birth_Country (Mother)  \\\n",
       "0              All other  ...                     US                     US   \n",
       "1              All other  ...                     US                     US   \n",
       "2              All other  ...                     US                     US   \n",
       "3              All other  ...                     US                     US   \n",
       "4              All other  ...                     US                     US   \n",
       "...                  ...  ...                    ...                    ...   \n",
       "18496          All other  ...                     US                     US   \n",
       "18497   Mexican-American  ...                 Mexico                 Mexico   \n",
       "18498          All other  ...                     US                     US   \n",
       "18499          All other  ...               Scotland                England   \n",
       "18500          All other  ...                     US                     US   \n",
       "\n",
       "                                        Tax_Status Gains Losses Dividends  \\\n",
       "0                                         Nonfiler     0      0         0   \n",
       "1                                           Single     0      0         0   \n",
       "2      Married Filling Jointly both under 65 (MFJ)  3411      0         0   \n",
       "3                                           Single     0      0         0   \n",
       "4                          Head of Household (HOH)     0      0         0   \n",
       "...                                            ...   ...    ...       ...   \n",
       "18496                                       Single     0      0         0   \n",
       "18497                                     Nonfiler     0      0         0   \n",
       "18498                                       Single     0      0         0   \n",
       "18499                                       Single     0      0         0   \n",
       "18500                      Head of Household (HOH)     0      0         0   \n",
       "\n",
       "      Income_Status Income                                                key  \\\n",
       "0      Under Median    425  63MMiddle (7-8)Full-Time4Social ServicesServic...   \n",
       "1      Under Median      0  37MAssociates degree (Vocational)Full-Time52En...   \n",
       "2      Under Median    860  58FHigh graduateFull-Time52Manufacturing (Non-...   \n",
       "3      Under Median    850  44MHigh graduateFull-Time52RetailTechnicians &...   \n",
       "4      Under Median    570  37FHigh graduateFull-Time52RetailSalesWhite Al...   \n",
       "...             ...    ...                                                ...   \n",
       "18496  Under Median   1300  33MHigh graduateChildren or Armed Forces52Manu...   \n",
       "18497  Under Median    850  20FCollegeFull-Time12EducationAdmin Support (i...   \n",
       "18498  Under Median    999  22MCollegeChildren or Armed Forces52Transporta...   \n",
       "18499  Under Median      0  76FHigh graduateNot Working0Not in universe or...   \n",
       "18500  Under Median    671  41FHigh graduateChildren or Armed Forces52Publ...   \n",
       "\n",
       "              Education  \n",
       "0               dropout  \n",
       "1      CommunityCollege  \n",
       "2         High graduate  \n",
       "3         High graduate  \n",
       "4         High graduate  \n",
       "...                 ...  \n",
       "18496     High graduate  \n",
       "18497  CommunityCollege  \n",
       "18498  CommunityCollege  \n",
       "18499     High graduate  \n",
       "18500     High graduate  \n",
       "\n",
       "[18501 rows x 25 columns]"
      ]
     },
     "execution_count": 310,
     "metadata": {},
     "output_type": "execute_result"
    }
   ],
   "source": [
    "train"
   ]
  },
  {
   "cell_type": "markdown",
   "metadata": {},
   "source": [
    "#### 노이즈 제거 (고려)"
   ]
  },
  {
   "cell_type": "code",
   "execution_count": 311,
   "metadata": {},
   "outputs": [
    {
     "data": {
      "text/plain": [
       "233"
      ]
     },
     "execution_count": 311,
     "metadata": {},
     "output_type": "execute_result"
    }
   ],
   "source": [
    "under = train.loc[train['Income_Status']=='Under Median']\n",
    "\n",
    "Q1 = np.quantile(under['Income'], 0.25)\n",
    "Q3 = np.quantile(under['Income'], 0.75)\n",
    "IOR = Q3-Q1\n",
    "outlier_step = IOR*1.5\n",
    "\n",
    "u_outliers = under.loc[(under['Income']<Q1-outlier_step)|(under['Income']>Q3+outlier_step)]\n",
    "len(u_outliers)"
   ]
  },
  {
   "cell_type": "code",
   "execution_count": 312,
   "metadata": {},
   "outputs": [
    {
     "data": {
      "text/plain": [
       "(array([154.,  18.,  12.,   8.,  10.,   8.,   4.,   9.,   4.,   6.]),\n",
       " array([2251. , 3017.5, 3784. , 4550.5, 5317. , 6083.5, 6850. , 7616.5,\n",
       "        8383. , 9149.5, 9916. ]),\n",
       " <BarContainer object of 10 artists>)"
      ]
     },
     "execution_count": 312,
     "metadata": {},
     "output_type": "execute_result"
    },
    {
     "data": {
      "image/png": "[encoded data removed]",
      "text/plain": [
       "<Figure size 432x288 with 1 Axes>"
      ]
     },
     "metadata": {
      "needs_background": "light"
     },
     "output_type": "display_data"
    }
   ],
   "source": [
    "plt.hist(u_outliers['Income'])"
   ]
  },
  {
   "cell_type": "code",
   "execution_count": 313,
   "metadata": {},
   "outputs": [
    {
     "data": {
      "text/plain": [
       "7"
      ]
     },
     "execution_count": 313,
     "metadata": {},
     "output_type": "execute_result"
    }
   ],
   "source": [
    "over = train.loc[train['Income_Status']=='Over Median']\n",
    "\n",
    "Q1 = np.quantile(over['Income'], 0.25)\n",
    "Q3 = np.quantile(over['Income'], 0.75)\n",
    "IOR = Q3-Q1\n",
    "outlier_step = IOR*1.5\n",
    "\n",
    "o_outliers = over.loc[(over['Income']<Q1-outlier_step)|(over['Income']>Q3+outlier_step)]\n",
    "len(o_outliers)"
   ]
  },
  {
   "cell_type": "code",
   "execution_count": 314,
   "metadata": {},
   "outputs": [
    {
     "data": {
      "text/plain": [
       "(array([2., 0., 0., 3., 1., 0., 0., 0., 0., 1.]),\n",
       " array([4807. , 5326.2, 5845.4, 6364.6, 6883.8, 7403. , 7922.2, 8441.4,\n",
       "        8960.6, 9479.8, 9999. ]),\n",
       " <BarContainer object of 10 artists>)"
      ]
     },
     "execution_count": 314,
     "metadata": {},
     "output_type": "execute_result"
    },
    {
     "data": {
      "image/png": "[encoded data removed]",
      "text/plain": [
       "<Figure size 432x288 with 1 Axes>"
      ]
     },
     "metadata": {
      "needs_background": "light"
     },
     "output_type": "display_data"
    }
   ],
   "source": [
    "plt.hist(o_outliers['Income'])"
   ]
  },
  {
   "cell_type": "code",
   "execution_count": 315,
   "metadata": {},
   "outputs": [],
   "source": [
    "outliers = list(u_outliers.index) + list(o_outliers.index)"
   ]
  },
  {
   "cell_type": "code",
   "execution_count": 316,
   "metadata": {},
   "outputs": [],
   "source": [
    "# train.drop(index=u_outliers.index, inplace=True)\n",
    "train.drop(index=outliers, inplace=True)\n",
    "train.reset_index(drop=True, inplace=True)"
   ]
  },
  {
   "cell_type": "markdown",
   "metadata": {},
   "source": [
    "#### outlier 231 (income state = under median)"
   ]
  },
  {
   "cell_type": "markdown",
   "metadata": {},
   "source": [
    "### working week (처리x)"
   ]
  },
  {
   "cell_type": "code",
   "execution_count": 317,
   "metadata": {},
   "outputs": [],
   "source": [
    "# plt.hist(train['Working_Week (Yearly)'])\n",
    "# plt.show()"
   ]
  },
  {
   "cell_type": "code",
   "execution_count": 318,
   "metadata": {},
   "outputs": [],
   "source": [
    "# sum(train['Working_Week (Yearly)']<52), sum(train['Working_Week (Yearly)']==52)"
   ]
  },
  {
   "cell_type": "markdown",
   "metadata": {},
   "source": [
    "##### (7891, 10429)"
   ]
  },
  {
   "cell_type": "markdown",
   "metadata": {},
   "source": [
    "### mod"
   ]
  },
  {
   "cell_type": "code",
   "execution_count": 319,
   "metadata": {},
   "outputs": [],
   "source": [
    "# train['Working_Week (Yearly)'] = np.where(train['Working_Week (Yearly)']<52, 0, 1)\n",
    "# test['Working_Week (Yearly)'] = np.where(test['Working_Week (Yearly)']<52, 0, 1)"
   ]
  },
  {
   "cell_type": "code",
   "execution_count": 320,
   "metadata": {},
   "outputs": [],
   "source": [
    "# plt.hist(train['Working_Week (Yearly)'])\n",
    "# plt.show()"
   ]
  },
  {
   "cell_type": "markdown",
   "metadata": {},
   "source": [
    "### gain, loss, dividend (binary 처리)"
   ]
  },
  {
   "cell_type": "code",
   "execution_count": 321,
   "metadata": {},
   "outputs": [],
   "source": [
    "train['Gains'] = np.where(train['Gains']>0, 1, 0)\n",
    "test['Gains'] = np.where(test['Gains']>0, 1, 0)\n",
    "\n",
    "train['Losses'] = np.where(train['Losses']>0, 1, 0)\n",
    "test['Losses'] = np.where(test['Losses']>0, 1, 0)\n",
    "\n",
    "train['Dividends'] = np.where(train['Dividends']>0, 1, 0)\n",
    "test['Dividends'] = np.where(test['Dividends']>0, 1, 0)"
   ]
  },
  {
   "cell_type": "code",
   "execution_count": 322,
   "metadata": {},
   "outputs": [],
   "source": [
    "# train['Capital'] = train['Gains'] + train['Dividends'] - train['Losses']\n",
    "# test['Capital'] = test['Gains'] + test['Dividends'] - test['Losses']\n",
    "\n",
    "# train['Capital'] = np.where(train['Capital']>0, 1, 0)\n",
    "# test['Capital'] = np.where(test['Capital']>0, 1, 0)"
   ]
  },
  {
   "cell_type": "markdown",
   "metadata": {},
   "source": [
    "### feature engineering 후 중복 확인"
   ]
  },
  {
   "cell_type": "code",
   "execution_count": 323,
   "metadata": {},
   "outputs": [],
   "source": [
    "features = ['Age', 'Gender', 'Employment_Status',\n",
    "       'Working_Week (Yearly)', 'Industry_Status', 'Occupation_Status', \n",
    "       'Race',\n",
    "       'Martial_Status',\n",
    "       'Household_Summary', 'Citizenship', 'Tax_Status',\n",
    "       'Gains', 'Losses', 'Dividends', 'Income_Status',\n",
    "       'Education']"
   ]
  },
  {
   "cell_type": "code",
   "execution_count": 324,
   "metadata": {},
   "outputs": [
    {
     "data": {
      "text/plain": [
       "1208"
      ]
     },
     "execution_count": 324,
     "metadata": {},
     "output_type": "execute_result"
    }
   ],
   "source": [
    "sum(train.duplicated(features))"
   ]
  },
  {
   "cell_type": "code",
   "execution_count": 325,
   "metadata": {},
   "outputs": [],
   "source": [
    "# train['key'] = train.apply(concatenate_columns, axis=1, args=(features, ))"
   ]
  },
  {
   "cell_type": "code",
   "execution_count": 326,
   "metadata": {},
   "outputs": [],
   "source": [
    "# count = 0\n",
    "# total_count = 0\n",
    "# total_count_row = 0\n",
    "# dup_idxs = []\n",
    "# for k in set(train['key']):\n",
    "#     income = train.loc[train['key']==k, 'Income']\n",
    "#     l = list(income)\n",
    "#     if len(l) > 1:\n",
    "#         if len(np.unique(l))>=2: # 중복 존재 & income이 다른 경우\n",
    "#             # train.loc[train['key']==k, 'Income'] = max(l) # max\n",
    "#             print(l)"
   ]
  },
  {
   "cell_type": "markdown",
   "metadata": {},
   "source": [
    "### main"
   ]
  },
  {
   "cell_type": "code",
   "execution_count": 327,
   "metadata": {},
   "outputs": [],
   "source": [
    "trainval_x = train.drop(columns=['ID', 'Income', \n",
    "                                #  'Industry_Status',\n",
    "                                 'Hispanic_Origin', \n",
    "                                 'Household_Status', \n",
    "                                 'Birth_Country', \n",
    "                                 'Birth_Country (Father)', 'Birth_Country (Mother)',\n",
    "                                 'Education_Status',\n",
    "                                #  'Gains', 'Losses', 'Dividends',\n",
    "                                 'key'\n",
    "                                 ])\n",
    "\n",
    "trainval_y = train['Income']\n",
    "income_over = train['Income'] > 900\n",
    "# trainval_y = np.log(train['Income']+1)\n",
    "\n",
    "test_x = test.drop(columns=['ID',\n",
    "                            # 'Industry_Status',\n",
    "                            'Hispanic_Origin', \n",
    "                            'Household_Status', \n",
    "                            'Birth_Country', \n",
    "                            'Birth_Country (Father)', 'Birth_Country (Mother)',\n",
    "                            'Education_Status',\n",
    "                            # 'Gains', 'Losses', 'Dividends'\n",
    "                            ])"
   ]
  },
  {
   "cell_type": "code",
   "execution_count": 328,
   "metadata": {},
   "outputs": [
    {
     "name": "stdout",
     "output_type": "stream",
     "text": [
      "(array([False,  True]), array([13923,  4338], dtype=int64))\n"
     ]
    }
   ],
   "source": [
    "print(np.unique(income_over, return_counts=True))"
   ]
  },
  {
   "cell_type": "code",
   "execution_count": 329,
   "metadata": {},
   "outputs": [
    {
     "name": "stdout",
     "output_type": "stream",
     "text": [
      "<class 'pandas.core.frame.DataFrame'>\n",
      "RangeIndex: 18261 entries, 0 to 18260\n",
      "Data columns (total 16 columns):\n",
      " #   Column                 Non-Null Count  Dtype \n",
      "---  ------                 --------------  ----- \n",
      " 0   Age                    18261 non-null  int64 \n",
      " 1   Gender                 18261 non-null  object\n",
      " 2   Employment_Status      18261 non-null  object\n",
      " 3   Working_Week (Yearly)  18261 non-null  int64 \n",
      " 4   Industry_Status        18261 non-null  object\n",
      " 5   Occupation_Status      18261 non-null  object\n",
      " 6   Race                   18261 non-null  object\n",
      " 7   Martial_Status         18261 non-null  object\n",
      " 8   Household_Summary      18261 non-null  object\n",
      " 9   Citizenship            18261 non-null  object\n",
      " 10  Tax_Status             18261 non-null  object\n",
      " 11  Gains                  18261 non-null  int32 \n",
      " 12  Losses                 18261 non-null  int32 \n",
      " 13  Dividends              18261 non-null  int32 \n",
      " 14  Income_Status          18261 non-null  object\n",
      " 15  Education              18261 non-null  object\n",
      "dtypes: int32(3), int64(2), object(11)\n",
      "memory usage: 2.0+ MB\n"
     ]
    }
   ],
   "source": [
    "trainval_x.info()"
   ]
  },
  {
   "cell_type": "code",
   "execution_count": 330,
   "metadata": {},
   "outputs": [
    {
     "name": "stdout",
     "output_type": "stream",
     "text": [
      "18261\n"
     ]
    }
   ],
   "source": [
    "print(len(trainval_x))"
   ]
  },
  {
   "cell_type": "code",
   "execution_count": 331,
   "metadata": {},
   "outputs": [
    {
     "name": "stdout",
     "output_type": "stream",
     "text": [
      "Gender\n",
      "Income_Status\n"
     ]
    }
   ],
   "source": [
    "encoding_target = list(trainval_x.dtypes[trainval_x.dtypes == \"object\"].index)\n",
    "\n",
    "# save_encoder = None\n",
    "for i in encoding_target:\n",
    "    le = LabelEncoder()\n",
    "\n",
    "    # train과 test 데이터셋에서 해당 열의 모든 값을 문자열로 변환\n",
    "    trainval_x[i] = trainval_x[i].astype(str)\n",
    "    test_x[i] = test_x[i].astype(str)\n",
    "\n",
    "    le.fit(trainval_x[i])\n",
    "    trainval_x[i] = le.transform(trainval_x[i])\n",
    "    \n",
    "    # test 데이터의 새로운 카테고리에 대해 le.classes_ 배열에 추가\n",
    "    for case in np.unique(test_x[i]):\n",
    "        if case not in le.classes_: \n",
    "            print('case')\n",
    "            le.classes_ = np.append(le.classes_, case)\n",
    "    \n",
    "    test_x[i] = le.transform(test_x[i])\n",
    "\n",
    "    # if i == 'Occupation_Status':\n",
    "    #     save_encoder = le\n",
    "    #     print(f'{i}_save')\n",
    "\n",
    "    if len(np.unique(trainval_x[i])) == 2:\n",
    "        print(i)\n",
    "        continue\n",
    "\n",
    "    ohe = OneHotEncoder(sparse=False, handle_unknown='ignore') ## ignore로 학습 데이터셋에 없는 데이터가 들어와도 무시\n",
    "    train_encoded = ohe.fit_transform(trainval_x[[i]])\n",
    "\n",
    "    train_encoded_df = pd.DataFrame(train_encoded, columns=[f\"{i}_{j}\" for j in range(train_encoded.shape[1])])\n",
    "    trainval_x = pd.concat([trainval_x.drop(columns=[i]), train_encoded_df], axis=1)\n",
    "    \n",
    "    test_encoded = ohe.transform(test_x[[i]])\n",
    "    \n",
    "    test_encoded_df = pd.DataFrame(test_encoded, columns=[f\"{i}_{j}\" for j in range(test_encoded.shape[1])])\n",
    "    test_x = pd.concat([test_x.drop(columns=[i]), test_encoded_df], axis=1)"
   ]
  },
  {
   "cell_type": "code",
   "execution_count": 332,
   "metadata": {},
   "outputs": [
    {
     "data": {
      "text/html": [
       "<div>\n",
       "<style scoped>\n",
       "    .dataframe tbody tr th:only-of-type {\n",
       "        vertical-align: middle;\n",
       "    }\n",
       "\n",
       "    .dataframe tbody tr th {\n",
       "        vertical-align: top;\n",
       "    }\n",
       "\n",
       "    .dataframe thead th {\n",
       "        text-align: right;\n",
       "    }\n",
       "</style>\n",
       "<table border=\"1\" class=\"dataframe\">\n",
       "  <thead>\n",
       "    <tr style=\"text-align: right;\">\n",
       "      <th></th>\n",
       "      <th>Age</th>\n",
       "      <th>Gender</th>\n",
       "      <th>Working_Week (Yearly)</th>\n",
       "      <th>Gains</th>\n",
       "      <th>Losses</th>\n",
       "      <th>Dividends</th>\n",
       "      <th>Income_Status</th>\n",
       "      <th>Employment_Status_0</th>\n",
       "      <th>Employment_Status_1</th>\n",
       "      <th>Employment_Status_2</th>\n",
       "      <th>...</th>\n",
       "      <th>Tax_Status_2</th>\n",
       "      <th>Tax_Status_3</th>\n",
       "      <th>Tax_Status_4</th>\n",
       "      <th>Tax_Status_5</th>\n",
       "      <th>Education_0</th>\n",
       "      <th>Education_1</th>\n",
       "      <th>Education_2</th>\n",
       "      <th>Education_3</th>\n",
       "      <th>Education_4</th>\n",
       "      <th>Education_5</th>\n",
       "    </tr>\n",
       "  </thead>\n",
       "  <tbody>\n",
       "    <tr>\n",
       "      <th>0</th>\n",
       "      <td>63</td>\n",
       "      <td>1</td>\n",
       "      <td>4</td>\n",
       "      <td>0</td>\n",
       "      <td>0</td>\n",
       "      <td>0</td>\n",
       "      <td>1</td>\n",
       "      <td>0.0</td>\n",
       "      <td>0.0</td>\n",
       "      <td>1.0</td>\n",
       "      <td>...</td>\n",
       "      <td>0.0</td>\n",
       "      <td>0.0</td>\n",
       "      <td>1.0</td>\n",
       "      <td>0.0</td>\n",
       "      <td>0.0</td>\n",
       "      <td>0.0</td>\n",
       "      <td>0.0</td>\n",
       "      <td>0.0</td>\n",
       "      <td>0.0</td>\n",
       "      <td>1.0</td>\n",
       "    </tr>\n",
       "    <tr>\n",
       "      <th>1</th>\n",
       "      <td>37</td>\n",
       "      <td>1</td>\n",
       "      <td>52</td>\n",
       "      <td>0</td>\n",
       "      <td>0</td>\n",
       "      <td>0</td>\n",
       "      <td>1</td>\n",
       "      <td>0.0</td>\n",
       "      <td>0.0</td>\n",
       "      <td>1.0</td>\n",
       "      <td>...</td>\n",
       "      <td>0.0</td>\n",
       "      <td>0.0</td>\n",
       "      <td>0.0</td>\n",
       "      <td>1.0</td>\n",
       "      <td>0.0</td>\n",
       "      <td>1.0</td>\n",
       "      <td>0.0</td>\n",
       "      <td>0.0</td>\n",
       "      <td>0.0</td>\n",
       "      <td>0.0</td>\n",
       "    </tr>\n",
       "    <tr>\n",
       "      <th>2</th>\n",
       "      <td>58</td>\n",
       "      <td>0</td>\n",
       "      <td>52</td>\n",
       "      <td>1</td>\n",
       "      <td>0</td>\n",
       "      <td>0</td>\n",
       "      <td>1</td>\n",
       "      <td>0.0</td>\n",
       "      <td>0.0</td>\n",
       "      <td>1.0</td>\n",
       "      <td>...</td>\n",
       "      <td>1.0</td>\n",
       "      <td>0.0</td>\n",
       "      <td>0.0</td>\n",
       "      <td>0.0</td>\n",
       "      <td>0.0</td>\n",
       "      <td>0.0</td>\n",
       "      <td>0.0</td>\n",
       "      <td>1.0</td>\n",
       "      <td>0.0</td>\n",
       "      <td>0.0</td>\n",
       "    </tr>\n",
       "    <tr>\n",
       "      <th>3</th>\n",
       "      <td>44</td>\n",
       "      <td>1</td>\n",
       "      <td>52</td>\n",
       "      <td>0</td>\n",
       "      <td>0</td>\n",
       "      <td>0</td>\n",
       "      <td>1</td>\n",
       "      <td>0.0</td>\n",
       "      <td>0.0</td>\n",
       "      <td>1.0</td>\n",
       "      <td>...</td>\n",
       "      <td>0.0</td>\n",
       "      <td>0.0</td>\n",
       "      <td>0.0</td>\n",
       "      <td>1.0</td>\n",
       "      <td>0.0</td>\n",
       "      <td>0.0</td>\n",
       "      <td>0.0</td>\n",
       "      <td>1.0</td>\n",
       "      <td>0.0</td>\n",
       "      <td>0.0</td>\n",
       "    </tr>\n",
       "    <tr>\n",
       "      <th>4</th>\n",
       "      <td>37</td>\n",
       "      <td>0</td>\n",
       "      <td>52</td>\n",
       "      <td>0</td>\n",
       "      <td>0</td>\n",
       "      <td>0</td>\n",
       "      <td>1</td>\n",
       "      <td>0.0</td>\n",
       "      <td>0.0</td>\n",
       "      <td>1.0</td>\n",
       "      <td>...</td>\n",
       "      <td>0.0</td>\n",
       "      <td>0.0</td>\n",
       "      <td>0.0</td>\n",
       "      <td>0.0</td>\n",
       "      <td>0.0</td>\n",
       "      <td>0.0</td>\n",
       "      <td>0.0</td>\n",
       "      <td>1.0</td>\n",
       "      <td>0.0</td>\n",
       "      <td>0.0</td>\n",
       "    </tr>\n",
       "  </tbody>\n",
       "</table>\n",
       "<p>5 rows × 91 columns</p>\n",
       "</div>"
      ],
      "text/plain": [
       "   Age  Gender  Working_Week (Yearly)  Gains  Losses  Dividends  \\\n",
       "0   63       1                      4      0       0          0   \n",
       "1   37       1                     52      0       0          0   \n",
       "2   58       0                     52      1       0          0   \n",
       "3   44       1                     52      0       0          0   \n",
       "4   37       0                     52      0       0          0   \n",
       "\n",
       "   Income_Status  Employment_Status_0  Employment_Status_1  \\\n",
       "0              1                  0.0                  0.0   \n",
       "1              1                  0.0                  0.0   \n",
       "2              1                  0.0                  0.0   \n",
       "3              1                  0.0                  0.0   \n",
       "4              1                  0.0                  0.0   \n",
       "\n",
       "   Employment_Status_2  ...  Tax_Status_2  Tax_Status_3  Tax_Status_4  \\\n",
       "0                  1.0  ...           0.0           0.0           1.0   \n",
       "1                  1.0  ...           0.0           0.0           0.0   \n",
       "2                  1.0  ...           1.0           0.0           0.0   \n",
       "3                  1.0  ...           0.0           0.0           0.0   \n",
       "4                  1.0  ...           0.0           0.0           0.0   \n",
       "\n",
       "   Tax_Status_5  Education_0  Education_1  Education_2  Education_3  \\\n",
       "0           0.0          0.0          0.0          0.0          0.0   \n",
       "1           1.0          0.0          1.0          0.0          0.0   \n",
       "2           0.0          0.0          0.0          0.0          1.0   \n",
       "3           1.0          0.0          0.0          0.0          1.0   \n",
       "4           0.0          0.0          0.0          0.0          1.0   \n",
       "\n",
       "   Education_4  Education_5  \n",
       "0          0.0          1.0  \n",
       "1          0.0          0.0  \n",
       "2          0.0          0.0  \n",
       "3          0.0          0.0  \n",
       "4          0.0          0.0  \n",
       "\n",
       "[5 rows x 91 columns]"
      ]
     },
     "execution_count": 332,
     "metadata": {},
     "output_type": "execute_result"
    }
   ],
   "source": [
    "trainval_x.head()"
   ]
  },
  {
   "cell_type": "code",
   "execution_count": 333,
   "metadata": {},
   "outputs": [
    {
     "data": {
      "text/plain": [
       "91"
      ]
     },
     "execution_count": 333,
     "metadata": {},
     "output_type": "execute_result"
    }
   ],
   "source": [
    "len(trainval_x.columns)"
   ]
  },
  {
   "cell_type": "code",
   "execution_count": 334,
   "metadata": {},
   "outputs": [
    {
     "data": {
      "text/plain": [
       "(18261, 18261, 18261)"
      ]
     },
     "execution_count": 334,
     "metadata": {},
     "output_type": "execute_result"
    }
   ],
   "source": [
    "len(train), len(trainval_x), len(income_over)"
   ]
  },
  {
   "cell_type": "code",
   "execution_count": 335,
   "metadata": {},
   "outputs": [],
   "source": [
    "kf = StratifiedKFold(n_splits=5, shuffle=True)"
   ]
  },
  {
   "cell_type": "markdown",
   "metadata": {},
   "source": [
    "### train"
   ]
  },
  {
   "cell_type": "markdown",
   "metadata": {},
   "source": [
    "#### ensemble try"
   ]
  },
  {
   "cell_type": "code",
   "execution_count": 336,
   "metadata": {},
   "outputs": [],
   "source": [
    "numeric_cols = ['Age', 'Working_Week (Yearly)']"
   ]
  },
  {
   "cell_type": "code",
   "execution_count": 337,
   "metadata": {},
   "outputs": [
    {
     "name": "stdout",
     "output_type": "stream",
     "text": [
      "[gbr] train error : 431.92 | val error : 462.97\n",
      "[mlp] train error : 413.28 | val error : 486.94\n",
      "[mean] train error : 415.96 | val error : 468.59\n",
      "--------------------------------------------------\n",
      "[gbr] train error : 431.01 | val error : 468.43\n",
      "[mlp] train error : 439.74 | val error : 481.26\n",
      "[mean] train error : 431.09 | val error : 470.68\n",
      "--------------------------------------------------\n"
     ]
    }
   ],
   "source": [
    "num_fold = 1\n",
    "total_train_error_gbr, total_val_error_gbr = 0, 0\n",
    "total_train_error_xgb, total_val_error_xgb = 0, 0\n",
    "total_train_error_mlp, total_val_error_mlp = 0, 0\n",
    "total_train_error, total_val_error = 0, 0\n",
    "test_preds = []\n",
    "for train_idx, val_idx in kf.split(trainval_x, income_over):\n",
    "    train_x = trainval_x.iloc[train_idx]\n",
    "    train_y = trainval_y.iloc[train_idx]\n",
    "    # print(train_x.shape)\n",
    "\n",
    "    val_x = trainval_x.iloc[val_idx]\n",
    "    val_y = trainval_y.iloc[val_idx]\n",
    "\n",
    "    fold_train_y_preds = []\n",
    "    fold_val_y_preds = []\n",
    "\n",
    "    scaler_x = StandardScaler()\n",
    "    scaler_y = StandardScaler()\n",
    "    train_y_scaled = scaler_y.fit_transform(train_y.values.reshape(-1,1)).squeeze()\n",
    "\n",
    "    ## gbr\n",
    "    gbr = GradientBoostingRegressor(learning_rate = gbr_learning_rate,\n",
    "                                    n_estimators = gbr_n_estimators,\n",
    "                                    max_depth = gbr_max_depth,\n",
    "                                    min_samples_split = gbr_min_samples_split, # 노드 분할을 위한 최소 샘플 수\n",
    "                                    min_samples_leaf = gbr_min_samples_leaf # 리프노드 최소 샘플 수\n",
    "                                    )\n",
    "    gbr.fit(train_x, train_y_scaled)\n",
    "\n",
    "    # with open(f'{model_path}/gbr_{num_fold}.pkl', 'wb') as f:\n",
    "    #     pickle.dump(gbr, f)\n",
    "\n",
    "    train_y_hat_gbr = gbr.predict(train_x)\n",
    "    val_y_hat_gbr = gbr.predict(val_x)\n",
    "\n",
    "    train_y_hat_gbr_inverse = scaler_y.inverse_transform(train_y_hat_gbr.reshape(-1,1)).squeeze()\n",
    "    val_y_hat_gbr_inverse = scaler_y.inverse_transform(val_y_hat_gbr.reshape(-1,1)).squeeze()\n",
    "\n",
    "    fold_train_y_preds.append(train_y_hat_gbr_inverse)\n",
    "    fold_val_y_preds.append(val_y_hat_gbr_inverse)\n",
    "\n",
    "    pred_gbr = gbr.predict(test_x)\n",
    "    pred_gbr_inverse = scaler_y.inverse_transform(pred_gbr.reshape(-1,1)).squeeze()\n",
    "\n",
    "    test_preds.append(pred_gbr_inverse)\n",
    "\n",
    "    train_error = mean_squared_error(train_y, train_y_hat_gbr_inverse) ** 0.5\n",
    "    val_error = mean_squared_error(val_y, val_y_hat_gbr_inverse) ** 0.5\n",
    "\n",
    "    total_train_error_gbr += train_error\n",
    "    total_val_error_gbr += val_error\n",
    "\n",
    "    print(f'[gbr] train error : {train_error:.2f} | val error : {val_error:.2f}')\n",
    "    ####################################################################################\n",
    "    \n",
    "    ## xgb\n",
    "    # xgb = XGBRegressor(learning_rate = xgb_learning_rate,\n",
    "    #                     max_depth = xgb_max_depth,\n",
    "    #                     n_estimators = xgb_n_estimators,\n",
    "    #                     min_child_weight = xgb_min_child_weight\n",
    "    #                     )\n",
    "    # xgb.fit(train_x, train_y_scaled)\n",
    "\n",
    "    # # with open(f'{model_path}/xgb_{num_fold}.pkl', 'wb') as f:\n",
    "    # #     pickle.dump(xgb, f)\n",
    "\n",
    "    # train_y_hat_xgb = xgb.predict(train_x)\n",
    "    # val_y_hat_xgb = xgb.predict(val_x)\n",
    "\n",
    "    # train_y_hat_xgb_inverse = scaler_y.inverse_transform(train_y_hat_xgb.reshape(-1,1)).squeeze()\n",
    "    # val_y_hat_xgb_inverse = scaler_y.inverse_transform(val_y_hat_xgb.reshape(-1,1)).squeeze()\n",
    "\n",
    "    # fold_train_y_preds.append(train_y_hat_xgb_inverse)\n",
    "    # fold_val_y_preds.append(val_y_hat_xgb_inverse)\n",
    "\n",
    "    # pred_xgb = xgb.predict(test_x)\n",
    "    # pred_xgb_inverse = scaler_y.inverse_transform(pred_xgb.reshape(-1,1)).squeeze()\n",
    "\n",
    "    # test_preds.append(pred_xgb_inverse)\n",
    "\n",
    "    # train_error = mean_squared_error(train_y, train_y_hat_xgb_inverse) ** 0.5\n",
    "    # val_error = mean_squared_error(val_y, val_y_hat_xgb_inverse) ** 0.5\n",
    "\n",
    "    # total_train_error_xgb += train_error\n",
    "    # total_val_error_xgb += val_error\n",
    "\n",
    "    # print(f'[xgb] train error : {train_error:.2f} | val error : {val_error:.2f}')    \n",
    "    ####################################################################################\n",
    " \n",
    "    ## mlp\n",
    "    mlp = MLPRegressor(activation=mlp_activation, \n",
    "                       max_iter=mlp_max_iter,\n",
    "                       )\n",
    "    mlp.fit(train_x, train_y_scaled)\n",
    "\n",
    "    # with open(f'{model_path}/mlp_{num_fold}.pkl', 'wb') as f:\n",
    "    #     pickle.dump(mlp, f)\n",
    "\n",
    "    train_y_hat_mlp = mlp.predict(train_x)\n",
    "    val_y_hat_mlp = mlp.predict(val_x)\n",
    "\n",
    "    train_y_hat_mlp_inverse = scaler_y.inverse_transform(train_y_hat_mlp.reshape(-1,1)).squeeze()\n",
    "    val_y_hat_mlp_inverse = scaler_y.inverse_transform(val_y_hat_mlp.reshape(-1,1)).squeeze()\n",
    "\n",
    "    fold_train_y_preds.append(train_y_hat_mlp_inverse)\n",
    "    fold_val_y_preds.append(val_y_hat_mlp_inverse)\n",
    "\n",
    "    pred_mlp = mlp.predict(test_x)\n",
    "    pred_mlp_inverse = scaler_y.inverse_transform(pred_mlp.reshape(-1,1)).squeeze()\n",
    "\n",
    "    test_preds.append(pred_mlp_inverse)\n",
    "\n",
    "    train_error = mean_squared_error(train_y, train_y_hat_mlp_inverse) ** 0.5\n",
    "    val_error = mean_squared_error(val_y, val_y_hat_mlp_inverse) ** 0.5\n",
    "\n",
    "    total_train_error_mlp += train_error\n",
    "    total_val_error_mlp += val_error\n",
    "\n",
    "    print(f'[mlp] train error : {train_error:.2f} | val error : {val_error:.2f}')\n",
    "    ####################################################################################\n",
    "\n",
    "    fold_train_y_hat = np.array(fold_train_y_preds).mean(0)\n",
    "    fold_val_y_hat = np.array(fold_val_y_preds).mean(0)\n",
    "    \n",
    "    train_error = mean_squared_error(train_y, fold_train_y_hat) ** 0.5\n",
    "    val_error = mean_squared_error(val_y, fold_val_y_hat) ** 0.5\n",
    "\n",
    "    total_train_error += train_error\n",
    "    total_val_error += val_error\n",
    "\n",
    "    print(f'[mean] train error : {train_error:.2f} | val error : {val_error:.2f}')    \n",
    "    print('-'*50)\n",
    "\n",
    "    num_fold += 1"
   ]
  },
  {
   "cell_type": "code",
   "execution_count": null,
   "metadata": {},
   "outputs": [
    {
     "data": {
      "text/plain": [
       "10"
      ]
     },
     "execution_count": 261,
     "metadata": {},
     "output_type": "execute_result"
    }
   ],
   "source": [
    "len(test_preds)"
   ]
  },
  {
   "cell_type": "code",
   "execution_count": null,
   "metadata": {},
   "outputs": [
    {
     "name": "stdout",
     "output_type": "stream",
     "text": [
      "final train error gbr : 432.61\n",
      "final val error gbr : 461.81\n",
      "final train error xgb : 0.00\n",
      "final val error xgb : 0.00\n",
      "final train error mlp : 414.29\n",
      "final val error mlp : 481.86\n",
      "[total] final train error : 416.30\n",
      "[total] final val error : 464.86\n"
     ]
    }
   ],
   "source": [
    "print(f'final train error gbr : {total_train_error_gbr/5:.2f}')\n",
    "print(f'final val error gbr : {total_val_error_gbr/5:.2f}')\n",
    "\n",
    "print(f'final train error xgb : {total_train_error_xgb/5:.2f}')\n",
    "print(f'final val error xgb : {total_val_error_xgb/5:.2f}')\n",
    "\n",
    "print(f'final train error mlp : {total_train_error_mlp/5:.2f}')\n",
    "print(f'final val error mlp : {total_val_error_mlp/5:.2f}')\n",
    "\n",
    "print(f'[total] final train error : {total_train_error/5:.2f}')\n",
    "print(f'[total] final val error : {total_val_error/5:.2f}')"
   ]
  },
  {
   "cell_type": "markdown",
   "metadata": {},
   "source": [
    "#### 459.16 [xgb + mlp]"
   ]
  },
  {
   "cell_type": "markdown",
   "metadata": {},
   "source": [
    "#### 459.31 [gbr + mlp]"
   ]
  },
  {
   "cell_type": "markdown",
   "metadata": {},
   "source": [
    "#### 459.31 [gbr + xgb + mlp]"
   ]
  },
  {
   "cell_type": "markdown",
   "metadata": {},
   "source": [
    "#### 461.32 [gbr + xgb]"
   ]
  },
  {
   "cell_type": "markdown",
   "metadata": {},
   "source": [
    "#### 원래 메인"
   ]
  },
  {
   "cell_type": "code",
   "execution_count": null,
   "metadata": {},
   "outputs": [],
   "source": [
    "# num_fold = 1\n",
    "# total_train_error, total_val_error = 0, 0\n",
    "# total_train_error_post, total_val_error_post = 0, 0\n",
    "# test_preds = []\n",
    "# for train_idx, val_idx in kf.split(trainval_x, income_over):\n",
    "#     train_x = trainval_x.iloc[train_idx]\n",
    "#     train_y = trainval_y.iloc[train_idx]\n",
    "\n",
    "#     val_x = trainval_x.iloc[val_idx]\n",
    "#     val_y = trainval_y.iloc[val_idx]\n",
    "\n",
    "#     model = GradientBoostingRegressor(max_depth=4)\n",
    "#     # model.fit(train_x, train_y)\n",
    "#     model.fit(train_x, train_y)\n",
    "\n",
    "#     print(f'{num_fold} fold')\n",
    "\n",
    "#     train_y_hat = model.predict(train_x)\n",
    "#     val_y_hat = model.predict(val_x)\n",
    "\n",
    "#     pred = model.predict(test_x)\n",
    "\n",
    "#     test_preds.append(pred)\n",
    "\n",
    "#     train_error = mean_squared_error(train_y, train_y_hat) ** 0.5\n",
    "#     val_error = mean_squared_error(val_y, val_y_hat) ** 0.5\n",
    "\n",
    "#     total_train_error += train_error\n",
    "#     total_val_error += val_error\n",
    "\n",
    "#     train_y_hat_post = np.where(train_y_hat<0, 0, train_y_hat)\n",
    "#     val_y_hat_post = np.where(val_y_hat<0, 0, val_y_hat)\n",
    "\n",
    "#     train_error_post = mean_squared_error(train_y, train_y_hat_post) ** 0.5\n",
    "#     val_error_post = mean_squared_error(val_y, val_y_hat_post) ** 0.5\n",
    "\n",
    "#     total_train_error_post += train_error_post\n",
    "#     total_val_error_post += val_error_post\n",
    "\n",
    "#     print(f'train error : {train_error:.2f} | val error : {val_error:.2f}')\n",
    "#     print(f'[post] train error : {train_error_post:.2f} | val error : {val_error_post:.2f}')\n",
    "    \n",
    "#     print('-'*30)\n",
    "\n",
    "#     # feature_importances = model.feature_importances_\n",
    "#     # importance_df = pd.Series(feature_importances[:20], index=trainval_x.columns[:20])\n",
    "#     # importance_df.sort_values(inplace=True)\n",
    "\n",
    "#     # plt.barh(np.arange(len(importance_df)), importance_df)\n",
    "#     # plt.yticks(np.arange(len(importance_df)), importance_df.index)\n",
    "#     # plt.show()\n",
    "\n",
    "#     num_fold += 1"
   ]
  },
  {
   "cell_type": "code",
   "execution_count": null,
   "metadata": {},
   "outputs": [],
   "source": [
    "# print(f'final train error : {total_train_error/5:.2f}')\n",
    "# print(f'final val error : {total_val_error/5:.2f}')\n",
    "\n",
    "# print(f'[post] final train error : {total_train_error_post/5:.2f}')\n",
    "# print(f'[post] final val error : {total_val_error_post/5:.2f}')"
   ]
  },
  {
   "cell_type": "code",
   "execution_count": null,
   "metadata": {},
   "outputs": [],
   "source": [
    "final_pred = np.array(test_preds).mean(0)"
   ]
  },
  {
   "cell_type": "code",
   "execution_count": null,
   "metadata": {},
   "outputs": [],
   "source": [
    "final_pred_post = np.where(final_pred<0, 0, final_pred)"
   ]
  },
  {
   "cell_type": "code",
   "execution_count": null,
   "metadata": {},
   "outputs": [],
   "source": [
    "# final_pred_exp = np.exp(final_pred)-1"
   ]
  },
  {
   "cell_type": "code",
   "execution_count": null,
   "metadata": {},
   "outputs": [],
   "source": [
    "submission = pd.read_csv('data/sample_submission.csv')"
   ]
  },
  {
   "cell_type": "code",
   "execution_count": null,
   "metadata": {},
   "outputs": [
    {
     "data": {
      "text/html": [
       "<div>\n",
       "<style scoped>\n",
       "    .dataframe tbody tr th:only-of-type {\n",
       "        vertical-align: middle;\n",
       "    }\n",
       "\n",
       "    .dataframe tbody tr th {\n",
       "        vertical-align: top;\n",
       "    }\n",
       "\n",
       "    .dataframe thead th {\n",
       "        text-align: right;\n",
       "    }\n",
       "</style>\n",
       "<table border=\"1\" class=\"dataframe\">\n",
       "  <thead>\n",
       "    <tr style=\"text-align: right;\">\n",
       "      <th></th>\n",
       "      <th>ID</th>\n",
       "      <th>Income</th>\n",
       "    </tr>\n",
       "  </thead>\n",
       "  <tbody>\n",
       "    <tr>\n",
       "      <th>0</th>\n",
       "      <td>TEST_0000</td>\n",
       "      <td>0.000000</td>\n",
       "    </tr>\n",
       "    <tr>\n",
       "      <th>1</th>\n",
       "      <td>TEST_0001</td>\n",
       "      <td>0.000000</td>\n",
       "    </tr>\n",
       "    <tr>\n",
       "      <th>2</th>\n",
       "      <td>TEST_0002</td>\n",
       "      <td>327.718292</td>\n",
       "    </tr>\n",
       "    <tr>\n",
       "      <th>3</th>\n",
       "      <td>TEST_0003</td>\n",
       "      <td>552.510527</td>\n",
       "    </tr>\n",
       "    <tr>\n",
       "      <th>4</th>\n",
       "      <td>TEST_0004</td>\n",
       "      <td>0.000000</td>\n",
       "    </tr>\n",
       "    <tr>\n",
       "      <th>...</th>\n",
       "      <td>...</td>\n",
       "      <td>...</td>\n",
       "    </tr>\n",
       "    <tr>\n",
       "      <th>9995</th>\n",
       "      <td>TEST_9995</td>\n",
       "      <td>831.275598</td>\n",
       "    </tr>\n",
       "    <tr>\n",
       "      <th>9996</th>\n",
       "      <td>TEST_9996</td>\n",
       "      <td>680.140439</td>\n",
       "    </tr>\n",
       "    <tr>\n",
       "      <th>9997</th>\n",
       "      <td>TEST_9997</td>\n",
       "      <td>394.694875</td>\n",
       "    </tr>\n",
       "    <tr>\n",
       "      <th>9998</th>\n",
       "      <td>TEST_9998</td>\n",
       "      <td>0.000000</td>\n",
       "    </tr>\n",
       "    <tr>\n",
       "      <th>9999</th>\n",
       "      <td>TEST_9999</td>\n",
       "      <td>482.969157</td>\n",
       "    </tr>\n",
       "  </tbody>\n",
       "</table>\n",
       "<p>10000 rows × 2 columns</p>\n",
       "</div>"
      ],
      "text/plain": [
       "             ID      Income\n",
       "0     TEST_0000    0.000000\n",
       "1     TEST_0001    0.000000\n",
       "2     TEST_0002  327.718292\n",
       "3     TEST_0003  552.510527\n",
       "4     TEST_0004    0.000000\n",
       "...         ...         ...\n",
       "9995  TEST_9995  831.275598\n",
       "9996  TEST_9996  680.140439\n",
       "9997  TEST_9997  394.694875\n",
       "9998  TEST_9998    0.000000\n",
       "9999  TEST_9999  482.969157\n",
       "\n",
       "[10000 rows x 2 columns]"
      ]
     },
     "execution_count": 269,
     "metadata": {},
     "output_type": "execute_result"
    }
   ],
   "source": [
    "submission['Income'] = final_pred\n",
    "submission['Income'] = final_pred_post\n",
    "# submission['Income'] = final_pred_exp\n",
    "submission"
   ]
  },
  {
   "cell_type": "code",
   "execution_count": null,
   "metadata": {},
   "outputs": [],
   "source": [
    "os.makedirs('submission', exist_ok=True)\n",
    "submission.to_csv(f'submission/{name}.csv', index=False)"
   ]
  },
  {
   "cell_type": "code",
   "execution_count": null,
   "metadata": {},
   "outputs": [
    {
     "data": {
      "text/plain": [
       "(array([322., 199., 136.,  72.,  48.,  32.,  15.,   3.,   2.,   5.]),\n",
       " array([1000.05179309, 1079.61441964, 1159.17704619, 1238.73967274,\n",
       "        1318.30229929, 1397.86492584, 1477.42755239, 1556.99017894,\n",
       "        1636.55280549, 1716.11543204, 1795.67805859]),\n",
       " <BarContainer object of 10 artists>)"
      ]
     },
     "execution_count": 271,
     "metadata": {},
     "output_type": "execute_result"
    },
    {
     "data": {
      "image/png": "[encoded data removed]",
      "text/plain": [
       "<Figure size 432x288 with 1 Axes>"
      ]
     },
     "metadata": {
      "needs_background": "light"
     },
     "output_type": "display_data"
    }
   ],
   "source": [
    "plt.hist(final_pred_post[final_pred_post>1000])"
   ]
  },
  {
   "cell_type": "code",
   "execution_count": null,
   "metadata": {},
   "outputs": [
    {
     "data": {
      "text/plain": [
       "(array([1507.,  945.,  624.,  323.,   63.,   21.,   10.,    9.,    2.,\n",
       "           4.]),\n",
       " array([1001. , 1300.9, 1600.8, 1900.7, 2200.6, 2500.5, 2800.4, 3100.3,\n",
       "        3400.2, 3700.1, 4000. ]),\n",
       " <BarContainer object of 10 artists>)"
      ]
     },
     "execution_count": 272,
     "metadata": {},
     "output_type": "execute_result"
    },
    {
     "data": {
      "image/png": "[encoded data removed]",
      "text/plain": [
       "<Figure size 432x288 with 1 Axes>"
      ]
     },
     "metadata": {
      "needs_background": "light"
     },
     "output_type": "display_data"
    }
   ],
   "source": [
    "plt.hist(train.loc[train['Income']>1000, 'Income'])"
   ]
  }
 ],
 "metadata": {
  "kernelspec": {
   "display_name": "torch",
   "language": "python",
   "name": "python3"
  },
  "language_info": {
   "codemirror_mode": {
    "name": "ipython",
    "version": 3
   },
   "file_extension": ".py",
   "mimetype": "text/x-python",
   "name": "python",
   "nbconvert_exporter": "python",
   "pygments_lexer": "ipython3",
   "version": "3.8.8"
  }
 },
 "nbformat": 4,
 "nbformat_minor": 2
}
