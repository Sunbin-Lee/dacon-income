{
 "cells": [
  {
   "cell_type": "code",
   "execution_count": 1,
   "metadata": {},
   "outputs": [],
   "source": [
    "import pandas as pd\n",
    "import numpy as np\n",
    "\n",
    "import matplotlib.pyplot as plt\n",
    "import seaborn as sns"
   ]
  },
  {
   "cell_type": "code",
   "execution_count": 2,
   "metadata": {},
   "outputs": [],
   "source": [
    "train = pd.read_csv('data/train.csv')"
   ]
  },
  {
   "cell_type": "code",
   "execution_count": 77,
   "metadata": {},
   "outputs": [
    {
     "data": {
      "text/html": [
       "<div>\n",
       "<style scoped>\n",
       "    .dataframe tbody tr th:only-of-type {\n",
       "        vertical-align: middle;\n",
       "    }\n",
       "\n",
       "    .dataframe tbody tr th {\n",
       "        vertical-align: top;\n",
       "    }\n",
       "\n",
       "    .dataframe thead th {\n",
       "        text-align: right;\n",
       "    }\n",
       "</style>\n",
       "<table border=\"1\" class=\"dataframe\">\n",
       "  <thead>\n",
       "    <tr style=\"text-align: right;\">\n",
       "      <th></th>\n",
       "      <th>ID</th>\n",
       "      <th>Age</th>\n",
       "      <th>Gender</th>\n",
       "      <th>Education_Status</th>\n",
       "      <th>Employment_Status</th>\n",
       "      <th>Working_Week (Yearly)</th>\n",
       "      <th>Industry_Status</th>\n",
       "      <th>Occupation_Status</th>\n",
       "      <th>Race</th>\n",
       "      <th>Hispanic_Origin</th>\n",
       "      <th>...</th>\n",
       "      <th>Citizenship</th>\n",
       "      <th>Birth_Country</th>\n",
       "      <th>Birth_Country (Father)</th>\n",
       "      <th>Birth_Country (Mother)</th>\n",
       "      <th>Tax_Status</th>\n",
       "      <th>Gains</th>\n",
       "      <th>Losses</th>\n",
       "      <th>Dividends</th>\n",
       "      <th>Income_Status</th>\n",
       "      <th>Income</th>\n",
       "    </tr>\n",
       "  </thead>\n",
       "  <tbody>\n",
       "    <tr>\n",
       "      <th>0</th>\n",
       "      <td>TRAIN_00000</td>\n",
       "      <td>63</td>\n",
       "      <td>M</td>\n",
       "      <td>Middle (7-8)</td>\n",
       "      <td>Full-Time</td>\n",
       "      <td>4</td>\n",
       "      <td>Social Services</td>\n",
       "      <td>Services</td>\n",
       "      <td>White</td>\n",
       "      <td>All other</td>\n",
       "      <td>...</td>\n",
       "      <td>Native</td>\n",
       "      <td>US</td>\n",
       "      <td>US</td>\n",
       "      <td>US</td>\n",
       "      <td>Nonfiler</td>\n",
       "      <td>0</td>\n",
       "      <td>0</td>\n",
       "      <td>0</td>\n",
       "      <td>Unknown</td>\n",
       "      <td>425</td>\n",
       "    </tr>\n",
       "    <tr>\n",
       "      <th>1</th>\n",
       "      <td>TRAIN_00001</td>\n",
       "      <td>37</td>\n",
       "      <td>M</td>\n",
       "      <td>Associates degree (Vocational)</td>\n",
       "      <td>Full-Time</td>\n",
       "      <td>52</td>\n",
       "      <td>Entertainment</td>\n",
       "      <td>Services</td>\n",
       "      <td>White</td>\n",
       "      <td>All other</td>\n",
       "      <td>...</td>\n",
       "      <td>Native</td>\n",
       "      <td>US</td>\n",
       "      <td>US</td>\n",
       "      <td>US</td>\n",
       "      <td>Single</td>\n",
       "      <td>0</td>\n",
       "      <td>0</td>\n",
       "      <td>0</td>\n",
       "      <td>Under Median</td>\n",
       "      <td>0</td>\n",
       "    </tr>\n",
       "    <tr>\n",
       "      <th>2</th>\n",
       "      <td>TRAIN_00002</td>\n",
       "      <td>58</td>\n",
       "      <td>F</td>\n",
       "      <td>High graduate</td>\n",
       "      <td>Full-Time</td>\n",
       "      <td>52</td>\n",
       "      <td>Manufacturing (Non-durable)</td>\n",
       "      <td>Admin Support (include Clerical)</td>\n",
       "      <td>Black</td>\n",
       "      <td>All other</td>\n",
       "      <td>...</td>\n",
       "      <td>Native</td>\n",
       "      <td>US</td>\n",
       "      <td>US</td>\n",
       "      <td>US</td>\n",
       "      <td>Married Filling Jointly both under 65 (MFJ)</td>\n",
       "      <td>3411</td>\n",
       "      <td>0</td>\n",
       "      <td>0</td>\n",
       "      <td>Under Median</td>\n",
       "      <td>860</td>\n",
       "    </tr>\n",
       "    <tr>\n",
       "      <th>3</th>\n",
       "      <td>TRAIN_00003</td>\n",
       "      <td>44</td>\n",
       "      <td>M</td>\n",
       "      <td>High graduate</td>\n",
       "      <td>Full-Time</td>\n",
       "      <td>52</td>\n",
       "      <td>Retail</td>\n",
       "      <td>Technicians &amp; Support</td>\n",
       "      <td>White</td>\n",
       "      <td>All other</td>\n",
       "      <td>...</td>\n",
       "      <td>Native</td>\n",
       "      <td>US</td>\n",
       "      <td>US</td>\n",
       "      <td>US</td>\n",
       "      <td>Single</td>\n",
       "      <td>0</td>\n",
       "      <td>0</td>\n",
       "      <td>0</td>\n",
       "      <td>Under Median</td>\n",
       "      <td>850</td>\n",
       "    </tr>\n",
       "    <tr>\n",
       "      <th>4</th>\n",
       "      <td>TRAIN_00004</td>\n",
       "      <td>37</td>\n",
       "      <td>F</td>\n",
       "      <td>High graduate</td>\n",
       "      <td>Full-Time</td>\n",
       "      <td>52</td>\n",
       "      <td>Retail</td>\n",
       "      <td>Sales</td>\n",
       "      <td>White</td>\n",
       "      <td>All other</td>\n",
       "      <td>...</td>\n",
       "      <td>Native</td>\n",
       "      <td>US</td>\n",
       "      <td>US</td>\n",
       "      <td>US</td>\n",
       "      <td>Head of Household (HOH)</td>\n",
       "      <td>0</td>\n",
       "      <td>0</td>\n",
       "      <td>0</td>\n",
       "      <td>Unknown</td>\n",
       "      <td>570</td>\n",
       "    </tr>\n",
       "  </tbody>\n",
       "</table>\n",
       "<p>5 rows × 23 columns</p>\n",
       "</div>"
      ],
      "text/plain": [
       "            ID  Age Gender                Education_Status Employment_Status  \\\n",
       "0  TRAIN_00000   63      M                    Middle (7-8)         Full-Time   \n",
       "1  TRAIN_00001   37      M  Associates degree (Vocational)         Full-Time   \n",
       "2  TRAIN_00002   58      F                   High graduate         Full-Time   \n",
       "3  TRAIN_00003   44      M                   High graduate         Full-Time   \n",
       "4  TRAIN_00004   37      F                   High graduate         Full-Time   \n",
       "\n",
       "   Working_Week (Yearly)              Industry_Status  \\\n",
       "0                      4              Social Services   \n",
       "1                     52                Entertainment   \n",
       "2                     52  Manufacturing (Non-durable)   \n",
       "3                     52                       Retail   \n",
       "4                     52                       Retail   \n",
       "\n",
       "                  Occupation_Status   Race Hispanic_Origin  ... Citizenship  \\\n",
       "0                          Services  White       All other  ...      Native   \n",
       "1                          Services  White       All other  ...      Native   \n",
       "2  Admin Support (include Clerical)  Black       All other  ...      Native   \n",
       "3             Technicians & Support  White       All other  ...      Native   \n",
       "4                             Sales  White       All other  ...      Native   \n",
       "\n",
       "  Birth_Country Birth_Country (Father) Birth_Country (Mother)  \\\n",
       "0            US                     US                     US   \n",
       "1            US                     US                     US   \n",
       "2            US                     US                     US   \n",
       "3            US                     US                     US   \n",
       "4            US                     US                     US   \n",
       "\n",
       "                                    Tax_Status Gains Losses Dividends  \\\n",
       "0                                     Nonfiler     0      0         0   \n",
       "1                                       Single     0      0         0   \n",
       "2  Married Filling Jointly both under 65 (MFJ)  3411      0         0   \n",
       "3                                       Single     0      0         0   \n",
       "4                      Head of Household (HOH)     0      0         0   \n",
       "\n",
       "   Income_Status  Income  \n",
       "0        Unknown     425  \n",
       "1   Under Median       0  \n",
       "2   Under Median     860  \n",
       "3   Under Median     850  \n",
       "4        Unknown     570  \n",
       "\n",
       "[5 rows x 23 columns]"
      ]
     },
     "execution_count": 77,
     "metadata": {},
     "output_type": "execute_result"
    }
   ],
   "source": [
    "train.head()"
   ]
  },
  {
   "cell_type": "code",
   "execution_count": 76,
   "metadata": {},
   "outputs": [
    {
     "data": {
      "text/html": [
       "<div>\n",
       "<style scoped>\n",
       "    .dataframe tbody tr th:only-of-type {\n",
       "        vertical-align: middle;\n",
       "    }\n",
       "\n",
       "    .dataframe tbody tr th {\n",
       "        vertical-align: top;\n",
       "    }\n",
       "\n",
       "    .dataframe thead th {\n",
       "        text-align: right;\n",
       "    }\n",
       "</style>\n",
       "<table border=\"1\" class=\"dataframe\">\n",
       "  <thead>\n",
       "    <tr style=\"text-align: right;\">\n",
       "      <th></th>\n",
       "      <th>Age</th>\n",
       "      <th>Working_Week (Yearly)</th>\n",
       "      <th>Gains</th>\n",
       "      <th>Losses</th>\n",
       "      <th>Dividends</th>\n",
       "      <th>Income</th>\n",
       "    </tr>\n",
       "  </thead>\n",
       "  <tbody>\n",
       "    <tr>\n",
       "      <th>count</th>\n",
       "      <td>20000.000000</td>\n",
       "      <td>20000.000000</td>\n",
       "      <td>20000.000000</td>\n",
       "      <td>20000.000000</td>\n",
       "      <td>20000.000000</td>\n",
       "      <td>20000.000000</td>\n",
       "    </tr>\n",
       "    <tr>\n",
       "      <th>mean</th>\n",
       "      <td>35.632500</td>\n",
       "      <td>34.943050</td>\n",
       "      <td>383.129500</td>\n",
       "      <td>40.202150</td>\n",
       "      <td>123.451450</td>\n",
       "      <td>554.565250</td>\n",
       "    </tr>\n",
       "    <tr>\n",
       "      <th>std</th>\n",
       "      <td>17.994414</td>\n",
       "      <td>22.254592</td>\n",
       "      <td>4144.247487</td>\n",
       "      <td>279.182677</td>\n",
       "      <td>1206.949429</td>\n",
       "      <td>701.553155</td>\n",
       "    </tr>\n",
       "    <tr>\n",
       "      <th>min</th>\n",
       "      <td>0.000000</td>\n",
       "      <td>0.000000</td>\n",
       "      <td>0.000000</td>\n",
       "      <td>0.000000</td>\n",
       "      <td>0.000000</td>\n",
       "      <td>0.000000</td>\n",
       "    </tr>\n",
       "    <tr>\n",
       "      <th>25%</th>\n",
       "      <td>23.000000</td>\n",
       "      <td>7.000000</td>\n",
       "      <td>0.000000</td>\n",
       "      <td>0.000000</td>\n",
       "      <td>0.000000</td>\n",
       "      <td>0.000000</td>\n",
       "    </tr>\n",
       "    <tr>\n",
       "      <th>50%</th>\n",
       "      <td>34.000000</td>\n",
       "      <td>52.000000</td>\n",
       "      <td>0.000000</td>\n",
       "      <td>0.000000</td>\n",
       "      <td>0.000000</td>\n",
       "      <td>500.000000</td>\n",
       "    </tr>\n",
       "    <tr>\n",
       "      <th>75%</th>\n",
       "      <td>47.000000</td>\n",
       "      <td>52.000000</td>\n",
       "      <td>0.000000</td>\n",
       "      <td>0.000000</td>\n",
       "      <td>0.000000</td>\n",
       "      <td>875.000000</td>\n",
       "    </tr>\n",
       "    <tr>\n",
       "      <th>max</th>\n",
       "      <td>90.000000</td>\n",
       "      <td>52.000000</td>\n",
       "      <td>99999.000000</td>\n",
       "      <td>4356.000000</td>\n",
       "      <td>45000.000000</td>\n",
       "      <td>9999.000000</td>\n",
       "    </tr>\n",
       "  </tbody>\n",
       "</table>\n",
       "</div>"
      ],
      "text/plain": [
       "                Age  Working_Week (Yearly)         Gains        Losses  \\\n",
       "count  20000.000000           20000.000000  20000.000000  20000.000000   \n",
       "mean      35.632500              34.943050    383.129500     40.202150   \n",
       "std       17.994414              22.254592   4144.247487    279.182677   \n",
       "min        0.000000               0.000000      0.000000      0.000000   \n",
       "25%       23.000000               7.000000      0.000000      0.000000   \n",
       "50%       34.000000              52.000000      0.000000      0.000000   \n",
       "75%       47.000000              52.000000      0.000000      0.000000   \n",
       "max       90.000000              52.000000  99999.000000   4356.000000   \n",
       "\n",
       "          Dividends        Income  \n",
       "count  20000.000000  20000.000000  \n",
       "mean     123.451450    554.565250  \n",
       "std     1206.949429    701.553155  \n",
       "min        0.000000      0.000000  \n",
       "25%        0.000000      0.000000  \n",
       "50%        0.000000    500.000000  \n",
       "75%        0.000000    875.000000  \n",
       "max    45000.000000   9999.000000  "
      ]
     },
     "execution_count": 76,
     "metadata": {},
     "output_type": "execute_result"
    }
   ],
   "source": [
    "train.describe()"
   ]
  },
  {
   "cell_type": "code",
   "execution_count": 12,
   "metadata": {},
   "outputs": [],
   "source": [
    "df1 = train.loc[train['Industry_Status']=='Not in universe or children']"
   ]
  },
  {
   "cell_type": "code",
   "execution_count": 13,
   "metadata": {},
   "outputs": [
    {
     "data": {
      "text/plain": [
       "array(['Unknown'], dtype=object)"
      ]
     },
     "execution_count": 13,
     "metadata": {},
     "output_type": "execute_result"
    }
   ],
   "source": [
    "np.unique(df1['Occupation_Status'])"
   ]
  },
  {
   "cell_type": "code",
   "execution_count": 14,
   "metadata": {},
   "outputs": [
    {
     "data": {
      "text/plain": [
       "(array(['Head of Household (HOH)',\n",
       "        'Married Filling Jointly both over 65 (MFJ)',\n",
       "        'Married Filling Jointly both under 65 (MFJ)',\n",
       "        'Married Filling Jointly one over 65 & one under 65 (MFJ)',\n",
       "        'Nonfiler', 'Single'], dtype=object),\n",
       " array([  35,  325,  554,   99, 3297,  378], dtype=int64))"
      ]
     },
     "execution_count": 14,
     "metadata": {},
     "output_type": "execute_result"
    }
   ],
   "source": [
    "np.unique(df1['Tax_Status'], return_counts=True)"
   ]
  },
  {
   "cell_type": "markdown",
   "metadata": {},
   "source": [
    "### Industry_Status : Not in universe or children -> Occupation_Status : Unknown"
   ]
  },
  {
   "cell_type": "code",
   "execution_count": 15,
   "metadata": {},
   "outputs": [],
   "source": [
    "df2 = train.loc[train['Industry_Status']=='Armed Forces']"
   ]
  },
  {
   "cell_type": "code",
   "execution_count": 20,
   "metadata": {},
   "outputs": [
    {
     "data": {
      "text/html": [
       "<div>\n",
       "<style scoped>\n",
       "    .dataframe tbody tr th:only-of-type {\n",
       "        vertical-align: middle;\n",
       "    }\n",
       "\n",
       "    .dataframe tbody tr th {\n",
       "        vertical-align: top;\n",
       "    }\n",
       "\n",
       "    .dataframe thead th {\n",
       "        text-align: right;\n",
       "    }\n",
       "</style>\n",
       "<table border=\"1\" class=\"dataframe\">\n",
       "  <thead>\n",
       "    <tr style=\"text-align: right;\">\n",
       "      <th></th>\n",
       "      <th>ID</th>\n",
       "      <th>Age</th>\n",
       "      <th>Gender</th>\n",
       "      <th>Education_Status</th>\n",
       "      <th>Employment_Status</th>\n",
       "      <th>Working_Week (Yearly)</th>\n",
       "      <th>Industry_Status</th>\n",
       "      <th>Occupation_Status</th>\n",
       "      <th>Race</th>\n",
       "      <th>Hispanic_Origin</th>\n",
       "      <th>...</th>\n",
       "      <th>Citizenship</th>\n",
       "      <th>Birth_Country</th>\n",
       "      <th>Birth_Country (Father)</th>\n",
       "      <th>Birth_Country (Mother)</th>\n",
       "      <th>Tax_Status</th>\n",
       "      <th>Gains</th>\n",
       "      <th>Losses</th>\n",
       "      <th>Dividends</th>\n",
       "      <th>Income_Status</th>\n",
       "      <th>Income</th>\n",
       "    </tr>\n",
       "  </thead>\n",
       "  <tbody>\n",
       "    <tr>\n",
       "      <th>10342</th>\n",
       "      <td>TRAIN_10342</td>\n",
       "      <td>31</td>\n",
       "      <td>F</td>\n",
       "      <td>College</td>\n",
       "      <td>Seeking Full-Time</td>\n",
       "      <td>20</td>\n",
       "      <td>Armed Forces</td>\n",
       "      <td>Armed Forces</td>\n",
       "      <td>White</td>\n",
       "      <td>Puerto Rican</td>\n",
       "      <td>...</td>\n",
       "      <td>Native</td>\n",
       "      <td>US</td>\n",
       "      <td>Puerto-Rico</td>\n",
       "      <td>Puerto-Rico</td>\n",
       "      <td>Married Filling Jointly both under 65 (MFJ)</td>\n",
       "      <td>0</td>\n",
       "      <td>0</td>\n",
       "      <td>0</td>\n",
       "      <td>Under Median</td>\n",
       "      <td>0</td>\n",
       "    </tr>\n",
       "  </tbody>\n",
       "</table>\n",
       "<p>1 rows × 23 columns</p>\n",
       "</div>"
      ],
      "text/plain": [
       "                ID  Age Gender Education_Status  Employment_Status  \\\n",
       "10342  TRAIN_10342   31      F          College  Seeking Full-Time   \n",
       "\n",
       "       Working_Week (Yearly) Industry_Status Occupation_Status   Race  \\\n",
       "10342                     20    Armed Forces      Armed Forces  White   \n",
       "\n",
       "      Hispanic_Origin  ... Citizenship Birth_Country Birth_Country (Father)  \\\n",
       "10342    Puerto Rican  ...      Native            US            Puerto-Rico   \n",
       "\n",
       "      Birth_Country (Mother)                                   Tax_Status  \\\n",
       "10342            Puerto-Rico  Married Filling Jointly both under 65 (MFJ)   \n",
       "\n",
       "      Gains Losses Dividends  Income_Status  Income  \n",
       "10342     0      0         0   Under Median       0  \n",
       "\n",
       "[1 rows x 23 columns]"
      ]
     },
     "execution_count": 20,
     "metadata": {},
     "output_type": "execute_result"
    }
   ],
   "source": [
    "df2"
   ]
  },
  {
   "cell_type": "markdown",
   "metadata": {},
   "source": [
    "### Industry_Status : Armed Forces -> Occupation_Status : Armed Forces (1명)"
   ]
  },
  {
   "cell_type": "code",
   "execution_count": 49,
   "metadata": {},
   "outputs": [],
   "source": [
    "df3 = train.loc[train['Age']<15]"
   ]
  },
  {
   "cell_type": "code",
   "execution_count": 50,
   "metadata": {},
   "outputs": [
    {
     "data": {
      "text/plain": [
       "2208"
      ]
     },
     "execution_count": 50,
     "metadata": {},
     "output_type": "execute_result"
    }
   ],
   "source": [
    "len(df3)"
   ]
  },
  {
   "cell_type": "code",
   "execution_count": 51,
   "metadata": {},
   "outputs": [],
   "source": [
    "test = pd.read_csv('data/test.csv')"
   ]
  },
  {
   "cell_type": "code",
   "execution_count": 52,
   "metadata": {},
   "outputs": [
    {
     "name": "stdout",
     "output_type": "stream",
     "text": [
      "1033\n"
     ]
    }
   ],
   "source": [
    "print(len(test.loc[test['Age']<15]))"
   ]
  },
  {
   "cell_type": "code",
   "execution_count": 48,
   "metadata": {},
   "outputs": [
    {
     "data": {
      "text/plain": [
       "array(['Agriculture', 'Business & Repair', 'Education', 'Entertainment',\n",
       "       'Finance Insurance & Real Estate', 'Manufacturing (Durable)',\n",
       "       'Manufacturing (Non-durable)', 'Not in universe or children',\n",
       "       'Other professional services',\n",
       "       'Personal Services (except Private Household)',\n",
       "       'Private Household Services', 'Retail', 'Social Services'],\n",
       "      dtype=object)"
      ]
     },
     "execution_count": 48,
     "metadata": {},
     "output_type": "execute_result"
    }
   ],
   "source": [
    "np.unique(df3['Industry_Status'])"
   ]
  },
  {
   "cell_type": "code",
   "execution_count": 32,
   "metadata": {},
   "outputs": [],
   "source": [
    "df4 = train.loc[train['Occupation_Status']=='Unknown']"
   ]
  },
  {
   "cell_type": "code",
   "execution_count": 34,
   "metadata": {},
   "outputs": [
    {
     "data": {
      "text/plain": [
       "array(['Not in universe or children'], dtype=object)"
      ]
     },
     "execution_count": 34,
     "metadata": {},
     "output_type": "execute_result"
    }
   ],
   "source": [
    "np.unique(df4['Industry_Status'])"
   ]
  },
  {
   "cell_type": "code",
   "execution_count": 36,
   "metadata": {},
   "outputs": [
    {
     "data": {
      "text/plain": [
       "(4688, 4688)"
      ]
     },
     "execution_count": 36,
     "metadata": {},
     "output_type": "execute_result"
    }
   ],
   "source": [
    "len(df1), len(df4)"
   ]
  },
  {
   "cell_type": "code",
   "execution_count": 37,
   "metadata": {},
   "outputs": [],
   "source": [
    "df5 = train.loc[train['Tax_Status']=='Nonfiler']"
   ]
  },
  {
   "cell_type": "code",
   "execution_count": 41,
   "metadata": {},
   "outputs": [
    {
     "data": {
      "text/plain": [
       "<AxesSubplot:xlabel='Count', ylabel='Industry_Status'>"
      ]
     },
     "execution_count": 41,
     "metadata": {},
     "output_type": "execute_result"
    },
    {
     "data": {
      "image/png": "[encoded data removed]",
      "text/plain": [
       "<Figure size 432x288 with 1 Axes>"
      ]
     },
     "metadata": {
      "needs_background": "light"
     },
     "output_type": "display_data"
    }
   ],
   "source": [
    "sns.histplot(y=df5['Industry_Status'])"
   ]
  },
  {
   "cell_type": "code",
   "execution_count": 78,
   "metadata": {},
   "outputs": [
    {
     "data": {
      "text/plain": [
       "<AxesSubplot:xlabel='Income', ylabel='Count'>"
      ]
     },
     "execution_count": 78,
     "metadata": {},
     "output_type": "execute_result"
    },
    {
     "data": {
      "image/png": "[encoded data removed]",
      "text/plain": [
       "<Figure size 432x288 with 1 Axes>"
      ]
     },
     "metadata": {
      "needs_background": "light"
     },
     "output_type": "display_data"
    }
   ],
   "source": [
    "sns.histplot(x=df5['Income'])"
   ]
  },
  {
   "cell_type": "code",
   "execution_count": 66,
   "metadata": {},
   "outputs": [],
   "source": [
    "df_young = train.loc[train['Age']<20]\n",
    "df_old = train.loc[train['Age']>=20]"
   ]
  },
  {
   "cell_type": "code",
   "execution_count": 71,
   "metadata": {},
   "outputs": [
    {
     "data": {
      "text/html": [
       "<div>\n",
       "<style scoped>\n",
       "    .dataframe tbody tr th:only-of-type {\n",
       "        vertical-align: middle;\n",
       "    }\n",
       "\n",
       "    .dataframe tbody tr th {\n",
       "        vertical-align: top;\n",
       "    }\n",
       "\n",
       "    .dataframe thead th {\n",
       "        text-align: right;\n",
       "    }\n",
       "</style>\n",
       "<table border=\"1\" class=\"dataframe\">\n",
       "  <thead>\n",
       "    <tr style=\"text-align: right;\">\n",
       "      <th></th>\n",
       "      <th>ID</th>\n",
       "      <th>Age</th>\n",
       "      <th>Gender</th>\n",
       "      <th>Education_Status</th>\n",
       "      <th>Employment_Status</th>\n",
       "      <th>Working_Week (Yearly)</th>\n",
       "      <th>Industry_Status</th>\n",
       "      <th>Occupation_Status</th>\n",
       "      <th>Race</th>\n",
       "      <th>Hispanic_Origin</th>\n",
       "      <th>...</th>\n",
       "      <th>Citizenship</th>\n",
       "      <th>Birth_Country</th>\n",
       "      <th>Birth_Country (Father)</th>\n",
       "      <th>Birth_Country (Mother)</th>\n",
       "      <th>Tax_Status</th>\n",
       "      <th>Gains</th>\n",
       "      <th>Losses</th>\n",
       "      <th>Dividends</th>\n",
       "      <th>Income_Status</th>\n",
       "      <th>Income</th>\n",
       "    </tr>\n",
       "  </thead>\n",
       "  <tbody>\n",
       "    <tr>\n",
       "      <th>48</th>\n",
       "      <td>TRAIN_00048</td>\n",
       "      <td>17</td>\n",
       "      <td>M</td>\n",
       "      <td>High Freshman</td>\n",
       "      <td>Children or Armed Forces</td>\n",
       "      <td>26</td>\n",
       "      <td>Retail</td>\n",
       "      <td>Handlers/Cleaners</td>\n",
       "      <td>White</td>\n",
       "      <td>All other</td>\n",
       "      <td>...</td>\n",
       "      <td>Native</td>\n",
       "      <td>US</td>\n",
       "      <td>US</td>\n",
       "      <td>US</td>\n",
       "      <td>Single</td>\n",
       "      <td>0</td>\n",
       "      <td>0</td>\n",
       "      <td>0</td>\n",
       "      <td>Under Median</td>\n",
       "      <td>550</td>\n",
       "    </tr>\n",
       "    <tr>\n",
       "      <th>51</th>\n",
       "      <td>TRAIN_00051</td>\n",
       "      <td>18</td>\n",
       "      <td>F</td>\n",
       "      <td>College</td>\n",
       "      <td>Full-Time</td>\n",
       "      <td>52</td>\n",
       "      <td>Education</td>\n",
       "      <td>Services</td>\n",
       "      <td>White</td>\n",
       "      <td>All other</td>\n",
       "      <td>...</td>\n",
       "      <td>Native</td>\n",
       "      <td>US</td>\n",
       "      <td>US</td>\n",
       "      <td>US</td>\n",
       "      <td>Single</td>\n",
       "      <td>0</td>\n",
       "      <td>0</td>\n",
       "      <td>0</td>\n",
       "      <td>Unknown</td>\n",
       "      <td>550</td>\n",
       "    </tr>\n",
       "    <tr>\n",
       "      <th>79</th>\n",
       "      <td>TRAIN_00079</td>\n",
       "      <td>19</td>\n",
       "      <td>M</td>\n",
       "      <td>High graduate</td>\n",
       "      <td>Children or Armed Forces</td>\n",
       "      <td>40</td>\n",
       "      <td>Retail</td>\n",
       "      <td>Sales</td>\n",
       "      <td>White</td>\n",
       "      <td>All other</td>\n",
       "      <td>...</td>\n",
       "      <td>Native</td>\n",
       "      <td>US</td>\n",
       "      <td>US</td>\n",
       "      <td>US</td>\n",
       "      <td>Single</td>\n",
       "      <td>0</td>\n",
       "      <td>0</td>\n",
       "      <td>0</td>\n",
       "      <td>Under Median</td>\n",
       "      <td>500</td>\n",
       "    </tr>\n",
       "    <tr>\n",
       "      <th>89</th>\n",
       "      <td>TRAIN_00089</td>\n",
       "      <td>15</td>\n",
       "      <td>F</td>\n",
       "      <td>High Freshman</td>\n",
       "      <td>Children or Armed Forces</td>\n",
       "      <td>6</td>\n",
       "      <td>Private Household Services</td>\n",
       "      <td>Private Household Services</td>\n",
       "      <td>White</td>\n",
       "      <td>All other</td>\n",
       "      <td>...</td>\n",
       "      <td>Native</td>\n",
       "      <td>US</td>\n",
       "      <td>US</td>\n",
       "      <td>Unknown</td>\n",
       "      <td>Nonfiler</td>\n",
       "      <td>0</td>\n",
       "      <td>0</td>\n",
       "      <td>0</td>\n",
       "      <td>Under Median</td>\n",
       "      <td>200</td>\n",
       "    </tr>\n",
       "    <tr>\n",
       "      <th>107</th>\n",
       "      <td>TRAIN_00107</td>\n",
       "      <td>18</td>\n",
       "      <td>F</td>\n",
       "      <td>High graduate</td>\n",
       "      <td>Children or Armed Forces</td>\n",
       "      <td>12</td>\n",
       "      <td>Education</td>\n",
       "      <td>Admin Support (include Clerical)</td>\n",
       "      <td>White</td>\n",
       "      <td>All other</td>\n",
       "      <td>...</td>\n",
       "      <td>Native</td>\n",
       "      <td>US</td>\n",
       "      <td>US</td>\n",
       "      <td>US</td>\n",
       "      <td>Single</td>\n",
       "      <td>0</td>\n",
       "      <td>0</td>\n",
       "      <td>0</td>\n",
       "      <td>Under Median</td>\n",
       "      <td>435</td>\n",
       "    </tr>\n",
       "    <tr>\n",
       "      <th>...</th>\n",
       "      <td>...</td>\n",
       "      <td>...</td>\n",
       "      <td>...</td>\n",
       "      <td>...</td>\n",
       "      <td>...</td>\n",
       "      <td>...</td>\n",
       "      <td>...</td>\n",
       "      <td>...</td>\n",
       "      <td>...</td>\n",
       "      <td>...</td>\n",
       "      <td>...</td>\n",
       "      <td>...</td>\n",
       "      <td>...</td>\n",
       "      <td>...</td>\n",
       "      <td>...</td>\n",
       "      <td>...</td>\n",
       "      <td>...</td>\n",
       "      <td>...</td>\n",
       "      <td>...</td>\n",
       "      <td>...</td>\n",
       "      <td>...</td>\n",
       "    </tr>\n",
       "    <tr>\n",
       "      <th>19863</th>\n",
       "      <td>TRAIN_19863</td>\n",
       "      <td>16</td>\n",
       "      <td>F</td>\n",
       "      <td>High Sophomore</td>\n",
       "      <td>Full-Time</td>\n",
       "      <td>13</td>\n",
       "      <td>Entertainment</td>\n",
       "      <td>Sales</td>\n",
       "      <td>White</td>\n",
       "      <td>All other</td>\n",
       "      <td>...</td>\n",
       "      <td>Native</td>\n",
       "      <td>US</td>\n",
       "      <td>US</td>\n",
       "      <td>US</td>\n",
       "      <td>Nonfiler</td>\n",
       "      <td>0</td>\n",
       "      <td>0</td>\n",
       "      <td>0</td>\n",
       "      <td>Under Median</td>\n",
       "      <td>500</td>\n",
       "    </tr>\n",
       "    <tr>\n",
       "      <th>19897</th>\n",
       "      <td>TRAIN_19897</td>\n",
       "      <td>18</td>\n",
       "      <td>M</td>\n",
       "      <td>High graduate</td>\n",
       "      <td>Full-Time</td>\n",
       "      <td>52</td>\n",
       "      <td>Retail</td>\n",
       "      <td>Transportation</td>\n",
       "      <td>White</td>\n",
       "      <td>All other</td>\n",
       "      <td>...</td>\n",
       "      <td>Native</td>\n",
       "      <td>US</td>\n",
       "      <td>US</td>\n",
       "      <td>US</td>\n",
       "      <td>Single</td>\n",
       "      <td>0</td>\n",
       "      <td>0</td>\n",
       "      <td>0</td>\n",
       "      <td>Under Median</td>\n",
       "      <td>325</td>\n",
       "    </tr>\n",
       "    <tr>\n",
       "      <th>19900</th>\n",
       "      <td>TRAIN_19900</td>\n",
       "      <td>19</td>\n",
       "      <td>M</td>\n",
       "      <td>High graduate</td>\n",
       "      <td>Children or Armed Forces</td>\n",
       "      <td>52</td>\n",
       "      <td>Medical (except Hospitals)</td>\n",
       "      <td>Services</td>\n",
       "      <td>White</td>\n",
       "      <td>All other</td>\n",
       "      <td>...</td>\n",
       "      <td>Native</td>\n",
       "      <td>US</td>\n",
       "      <td>US</td>\n",
       "      <td>US</td>\n",
       "      <td>Single</td>\n",
       "      <td>0</td>\n",
       "      <td>0</td>\n",
       "      <td>0</td>\n",
       "      <td>Unknown</td>\n",
       "      <td>600</td>\n",
       "    </tr>\n",
       "    <tr>\n",
       "      <th>19931</th>\n",
       "      <td>TRAIN_19931</td>\n",
       "      <td>19</td>\n",
       "      <td>F</td>\n",
       "      <td>College</td>\n",
       "      <td>Children or Armed Forces</td>\n",
       "      <td>28</td>\n",
       "      <td>Retail</td>\n",
       "      <td>Services</td>\n",
       "      <td>White</td>\n",
       "      <td>All other</td>\n",
       "      <td>...</td>\n",
       "      <td>Native</td>\n",
       "      <td>US</td>\n",
       "      <td>US</td>\n",
       "      <td>US</td>\n",
       "      <td>Single</td>\n",
       "      <td>0</td>\n",
       "      <td>0</td>\n",
       "      <td>10</td>\n",
       "      <td>Unknown</td>\n",
       "      <td>425</td>\n",
       "    </tr>\n",
       "    <tr>\n",
       "      <th>19957</th>\n",
       "      <td>TRAIN_19957</td>\n",
       "      <td>19</td>\n",
       "      <td>M</td>\n",
       "      <td>High Sophomore</td>\n",
       "      <td>Full-Time</td>\n",
       "      <td>20</td>\n",
       "      <td>Retail</td>\n",
       "      <td>Handlers/Cleaners</td>\n",
       "      <td>White</td>\n",
       "      <td>All other</td>\n",
       "      <td>...</td>\n",
       "      <td>Native</td>\n",
       "      <td>US</td>\n",
       "      <td>Italy</td>\n",
       "      <td>Italy</td>\n",
       "      <td>Single</td>\n",
       "      <td>0</td>\n",
       "      <td>0</td>\n",
       "      <td>0</td>\n",
       "      <td>Unknown</td>\n",
       "      <td>700</td>\n",
       "    </tr>\n",
       "  </tbody>\n",
       "</table>\n",
       "<p>919 rows × 23 columns</p>\n",
       "</div>"
      ],
      "text/plain": [
       "                ID  Age Gender Education_Status         Employment_Status  \\\n",
       "48     TRAIN_00048   17      M    High Freshman  Children or Armed Forces   \n",
       "51     TRAIN_00051   18      F          College                 Full-Time   \n",
       "79     TRAIN_00079   19      M    High graduate  Children or Armed Forces   \n",
       "89     TRAIN_00089   15      F    High Freshman  Children or Armed Forces   \n",
       "107    TRAIN_00107   18      F    High graduate  Children or Armed Forces   \n",
       "...            ...  ...    ...              ...                       ...   \n",
       "19863  TRAIN_19863   16      F   High Sophomore                 Full-Time   \n",
       "19897  TRAIN_19897   18      M    High graduate                 Full-Time   \n",
       "19900  TRAIN_19900   19      M    High graduate  Children or Armed Forces   \n",
       "19931  TRAIN_19931   19      F          College  Children or Armed Forces   \n",
       "19957  TRAIN_19957   19      M   High Sophomore                 Full-Time   \n",
       "\n",
       "       Working_Week (Yearly)             Industry_Status  \\\n",
       "48                        26                      Retail   \n",
       "51                        52                   Education   \n",
       "79                        40                      Retail   \n",
       "89                         6  Private Household Services   \n",
       "107                       12                   Education   \n",
       "...                      ...                         ...   \n",
       "19863                     13               Entertainment   \n",
       "19897                     52                      Retail   \n",
       "19900                     52  Medical (except Hospitals)   \n",
       "19931                     28                      Retail   \n",
       "19957                     20                      Retail   \n",
       "\n",
       "                      Occupation_Status   Race Hispanic_Origin  ...  \\\n",
       "48                    Handlers/Cleaners  White       All other  ...   \n",
       "51                             Services  White       All other  ...   \n",
       "79                                Sales  White       All other  ...   \n",
       "89           Private Household Services  White       All other  ...   \n",
       "107    Admin Support (include Clerical)  White       All other  ...   \n",
       "...                                 ...    ...             ...  ...   \n",
       "19863                             Sales  White       All other  ...   \n",
       "19897                    Transportation  White       All other  ...   \n",
       "19900                          Services  White       All other  ...   \n",
       "19931                          Services  White       All other  ...   \n",
       "19957                 Handlers/Cleaners  White       All other  ...   \n",
       "\n",
       "      Citizenship Birth_Country Birth_Country (Father) Birth_Country (Mother)  \\\n",
       "48         Native            US                     US                     US   \n",
       "51         Native            US                     US                     US   \n",
       "79         Native            US                     US                     US   \n",
       "89         Native            US                     US                Unknown   \n",
       "107        Native            US                     US                     US   \n",
       "...           ...           ...                    ...                    ...   \n",
       "19863      Native            US                     US                     US   \n",
       "19897      Native            US                     US                     US   \n",
       "19900      Native            US                     US                     US   \n",
       "19931      Native            US                     US                     US   \n",
       "19957      Native            US                  Italy                  Italy   \n",
       "\n",
       "      Tax_Status Gains Losses Dividends  Income_Status  Income  \n",
       "48        Single     0      0         0   Under Median     550  \n",
       "51        Single     0      0         0        Unknown     550  \n",
       "79        Single     0      0         0   Under Median     500  \n",
       "89      Nonfiler     0      0         0   Under Median     200  \n",
       "107       Single     0      0         0   Under Median     435  \n",
       "...          ...   ...    ...       ...            ...     ...  \n",
       "19863   Nonfiler     0      0         0   Under Median     500  \n",
       "19897     Single     0      0         0   Under Median     325  \n",
       "19900     Single     0      0         0        Unknown     600  \n",
       "19931     Single     0      0        10        Unknown     425  \n",
       "19957     Single     0      0         0        Unknown     700  \n",
       "\n",
       "[919 rows x 23 columns]"
      ]
     },
     "execution_count": 71,
     "metadata": {},
     "output_type": "execute_result"
    }
   ],
   "source": [
    "df_young.loc[df_young['Income']>0]"
   ]
  },
  {
   "cell_type": "code",
   "execution_count": 67,
   "metadata": {},
   "outputs": [
    {
     "data": {
      "image/png": "[encoded data removed]",
      "text/plain": [
       "<Figure size 432x288 with 1 Axes>"
      ]
     },
     "metadata": {
      "needs_background": "light"
     },
     "output_type": "display_data"
    },
    {
     "data": {
      "image/png": "[encoded data removed]",
      "text/plain": [
       "<Figure size 432x288 with 1 Axes>"
      ]
     },
     "metadata": {
      "needs_background": "light"
     },
     "output_type": "display_data"
    }
   ],
   "source": [
    "plt.hist(df_young['Income'])\n",
    "plt.show()\n",
    "\n",
    "plt.hist(df_old['Income'])\n",
    "plt.show()"
   ]
  },
  {
   "cell_type": "code",
   "execution_count": 73,
   "metadata": {},
   "outputs": [],
   "source": [
    "df_new = train.loc[train['Income']>0]"
   ]
  },
  {
   "cell_type": "code",
   "execution_count": 74,
   "metadata": {},
   "outputs": [
    {
     "data": {
      "text/html": [
       "<div>\n",
       "<style scoped>\n",
       "    .dataframe tbody tr th:only-of-type {\n",
       "        vertical-align: middle;\n",
       "    }\n",
       "\n",
       "    .dataframe tbody tr th {\n",
       "        vertical-align: top;\n",
       "    }\n",
       "\n",
       "    .dataframe thead th {\n",
       "        text-align: right;\n",
       "    }\n",
       "</style>\n",
       "<table border=\"1\" class=\"dataframe\">\n",
       "  <thead>\n",
       "    <tr style=\"text-align: right;\">\n",
       "      <th></th>\n",
       "      <th>Age</th>\n",
       "      <th>Working_Week (Yearly)</th>\n",
       "      <th>Gains</th>\n",
       "      <th>Losses</th>\n",
       "      <th>Dividends</th>\n",
       "      <th>Income</th>\n",
       "    </tr>\n",
       "  </thead>\n",
       "  <tbody>\n",
       "    <tr>\n",
       "      <th>count</th>\n",
       "      <td>11303.000000</td>\n",
       "      <td>11303.000000</td>\n",
       "      <td>11303.000000</td>\n",
       "      <td>11303.000000</td>\n",
       "      <td>11303.000000</td>\n",
       "      <td>11303.000000</td>\n",
       "    </tr>\n",
       "    <tr>\n",
       "      <th>mean</th>\n",
       "      <td>36.648500</td>\n",
       "      <td>45.100504</td>\n",
       "      <td>299.215341</td>\n",
       "      <td>43.156773</td>\n",
       "      <td>94.834911</td>\n",
       "      <td>981.270902</td>\n",
       "    </tr>\n",
       "    <tr>\n",
       "      <th>std</th>\n",
       "      <td>13.054764</td>\n",
       "      <td>13.602901</td>\n",
       "      <td>2986.794334</td>\n",
       "      <td>285.872584</td>\n",
       "      <td>1072.039666</td>\n",
       "      <td>672.429063</td>\n",
       "    </tr>\n",
       "    <tr>\n",
       "      <th>min</th>\n",
       "      <td>15.000000</td>\n",
       "      <td>0.000000</td>\n",
       "      <td>0.000000</td>\n",
       "      <td>0.000000</td>\n",
       "      <td>0.000000</td>\n",
       "      <td>20.000000</td>\n",
       "    </tr>\n",
       "    <tr>\n",
       "      <th>25%</th>\n",
       "      <td>26.000000</td>\n",
       "      <td>46.000000</td>\n",
       "      <td>0.000000</td>\n",
       "      <td>0.000000</td>\n",
       "      <td>0.000000</td>\n",
       "      <td>585.000000</td>\n",
       "    </tr>\n",
       "    <tr>\n",
       "      <th>50%</th>\n",
       "      <td>35.000000</td>\n",
       "      <td>52.000000</td>\n",
       "      <td>0.000000</td>\n",
       "      <td>0.000000</td>\n",
       "      <td>0.000000</td>\n",
       "      <td>800.000000</td>\n",
       "    </tr>\n",
       "    <tr>\n",
       "      <th>75%</th>\n",
       "      <td>46.000000</td>\n",
       "      <td>52.000000</td>\n",
       "      <td>0.000000</td>\n",
       "      <td>0.000000</td>\n",
       "      <td>0.000000</td>\n",
       "      <td>1200.000000</td>\n",
       "    </tr>\n",
       "    <tr>\n",
       "      <th>max</th>\n",
       "      <td>90.000000</td>\n",
       "      <td>52.000000</td>\n",
       "      <td>99999.000000</td>\n",
       "      <td>3900.000000</td>\n",
       "      <td>45000.000000</td>\n",
       "      <td>9999.000000</td>\n",
       "    </tr>\n",
       "  </tbody>\n",
       "</table>\n",
       "</div>"
      ],
      "text/plain": [
       "                Age  Working_Week (Yearly)         Gains        Losses  \\\n",
       "count  11303.000000           11303.000000  11303.000000  11303.000000   \n",
       "mean      36.648500              45.100504    299.215341     43.156773   \n",
       "std       13.054764              13.602901   2986.794334    285.872584   \n",
       "min       15.000000               0.000000      0.000000      0.000000   \n",
       "25%       26.000000              46.000000      0.000000      0.000000   \n",
       "50%       35.000000              52.000000      0.000000      0.000000   \n",
       "75%       46.000000              52.000000      0.000000      0.000000   \n",
       "max       90.000000              52.000000  99999.000000   3900.000000   \n",
       "\n",
       "          Dividends        Income  \n",
       "count  11303.000000  11303.000000  \n",
       "mean      94.834911    981.270902  \n",
       "std     1072.039666    672.429063  \n",
       "min        0.000000     20.000000  \n",
       "25%        0.000000    585.000000  \n",
       "50%        0.000000    800.000000  \n",
       "75%        0.000000   1200.000000  \n",
       "max    45000.000000   9999.000000  "
      ]
     },
     "execution_count": 74,
     "metadata": {},
     "output_type": "execute_result"
    }
   ],
   "source": [
    "df_new.describe()"
   ]
  },
  {
   "cell_type": "code",
   "execution_count": 84,
   "metadata": {},
   "outputs": [],
   "source": [
    "df_income = train.loc[train['Income']>1000]"
   ]
  },
  {
   "cell_type": "code",
   "execution_count": null,
   "metadata": {},
   "outputs": [],
   "source": []
  },
  {
   "cell_type": "code",
   "execution_count": 87,
   "metadata": {},
   "outputs": [],
   "source": [
    "df = train.loc[train['Age']>15]"
   ]
  },
  {
   "cell_type": "code",
   "execution_count": 88,
   "metadata": {},
   "outputs": [
    {
     "data": {
      "text/plain": [
       "array(['Children or Armed Forces', 'Choice Part-Time', 'Full-Time',\n",
       "       'Not Working', 'Part-Time (Usually Full-Time)',\n",
       "       'Part-Time (Usually Part-Time)', 'Seeking Full-Time',\n",
       "       'Seeking Part-Time'], dtype=object)"
      ]
     },
     "execution_count": 88,
     "metadata": {},
     "output_type": "execute_result"
    }
   ],
   "source": [
    "np.unique(df['Employment_Status'])"
   ]
  }
 ],
 "metadata": {
  "kernelspec": {
   "display_name": "base",
   "language": "python",
   "name": "python3"
  },
  "language_info": {
   "codemirror_mode": {
    "name": "ipython",
    "version": 3
   },
   "file_extension": ".py",
   "mimetype": "text/x-python",
   "name": "python",
   "nbconvert_exporter": "python",
   "pygments_lexer": "ipython3",
   "version": "3.8.8"
  }
 },
 "nbformat": 4,
 "nbformat_minor": 2
}
